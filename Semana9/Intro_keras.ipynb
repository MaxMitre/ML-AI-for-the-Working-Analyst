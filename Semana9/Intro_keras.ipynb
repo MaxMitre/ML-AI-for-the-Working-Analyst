{
  "nbformat": 4,
  "nbformat_minor": 0,
  "metadata": {
    "colab": {
      "name": "semana9.1_Working_Analyst_Intro_keras.ipynb",
      "provenance": [],
      "collapsed_sections": []
    },
    "kernelspec": {
      "name": "python3",
      "display_name": "Python 3"
    },
    "language_info": {
      "name": "python"
    }
  },
  "cells": [
    {
      "cell_type": "markdown",
      "source": [
        "[![Open In Colab](https://colab.research.google.com/assets/colab-badge.svg)](https://colab.research.google.com/github/MaxMitre/ML-AI-for-the-Working-Analyst/blob/main/Semana9/Intro_keras.ipynb)"
      ],
      "metadata": {
        "id": "EW1sNlR07sC0"
      }
    },
    {
      "cell_type": "markdown",
      "source": [
        "# Problema\n",
        "\n",
        "Esta semana utilizaremos el mismo DataSet para ambas sesiones. Ésta primera sesión será para analizar un problema de fraude de modo sencillo, es decir, con un clasificador binario sencillo (que nos servirá para introducir algunas herramientas).\n",
        "\n",
        "Podemos encontrar la base de datos en https://www.kaggle.com/datasets/mlg-ulb/creditcardfraud\n",
        "\n",
        "Los datos contienen transacciones realizadas mediante trarjeta de crédito en Septiembre del 2013 por titulares de tarjeta en Europa. Ocurrieron en 2 días en los que hubo 492 fraudes de 284,807 transacciones.\n",
        "\n",
        "Solo contiene variables numéricas y ya pasó por un proceso de PCA para solo quedarse con las mejores características.\n",
        "\n",
        "La columna de \"Time\" contiene los segundos ocurridos entre transacciones. \"Amount\" es la cantidad de la transacción y \"Class\" es la variable que tiene 1 en caso de fraude y 0 en caso contrario.\n",
        "\n",
        "\n",
        "\n",
        "Given the class imbalance ratio, we recommend measuring the accuracy using the Area Under the Precision-Recall Curve (AUPRC). Confusion matrix accuracy is not meaningful for unbalanced classification.\n"
      ],
      "metadata": {
        "id": "uudpvvkIIXwm"
      }
    },
    {
      "cell_type": "code",
      "source": [
        "from google.colab import drive\n",
        "drive.mount('/content/drive')"
      ],
      "metadata": {
        "id": "aYYkRFOwE9HG",
        "colab": {
          "base_uri": "https://localhost:8080/"
        },
        "outputId": "a42e2bb4-53d5-4dd1-ff39-a7125eb84f17"
      },
      "execution_count": null,
      "outputs": [
        {
          "output_type": "stream",
          "name": "stdout",
          "text": [
            "Mounted at /content/drive\n"
          ]
        }
      ]
    },
    {
      "cell_type": "markdown",
      "source": [
        "# Leer Datos usando un método distinto al que estamos acostumbrados"
      ],
      "metadata": {
        "id": "Lk9av5KKHYgC"
      }
    },
    {
      "cell_type": "code",
      "execution_count": null,
      "metadata": {
        "id": "EQUuvtmbEqpK",
        "colab": {
          "base_uri": "https://localhost:8080/"
        },
        "outputId": "def0210a-aa3a-4586-91e7-eab74e423f36"
      },
      "outputs": [
        {
          "output_type": "stream",
          "name": "stdout",
          "text": [
            "HEADER: \"Time\",\"V1\",\"V2\",\"V3\",\"V4\",\"V5\",\"V6\",\"V7\",\"V8\",\"V9\",\"V10\",\"V11\",\"V12\",\"V13\",\"V14\",\"V15\",\"V16\",\"V17\",\"V18\",\"V19\",\"V20\",\"V21\",\"V22\",\"V23\",\"V24\",\"V25\",\"V26\",\"V27\",\"V28\",\"Amount\",\"Class\"\n",
            "EXAMPLE FEATURES: [0.0, -1.3598071336738, -0.0727811733098497, 2.53634673796914, 1.37815522427443, -0.338320769942518, 0.462387777762292, 0.239598554061257, 0.0986979012610507, 0.363786969611213, 0.0907941719789316, -0.551599533260813, -0.617800855762348, -0.991389847235408, -0.311169353699879, 1.46817697209427, -0.470400525259478, 0.207971241929242, 0.0257905801985591, 0.403992960255733, 0.251412098239705, -0.018306777944153, 0.277837575558899, -0.110473910188767, 0.0669280749146731, 0.128539358273528, -0.189114843888824, 0.133558376740387, -0.0210530534538215, 149.62]\n",
            "features.shape: (284807, 30)\n",
            "targets.shape: (284807, 1)\n"
          ]
        }
      ],
      "source": [
        "import numpy as np\n",
        "\n",
        "# Get the real data from https://www.kaggle.com/mlg-ulb/creditcardfraud/\n",
        "\n",
        "all_features = []\n",
        "all_targets = []\n",
        "with open('/content/drive/MyDrive/Curso-WorkingAnalyst/semana9/creditcard.csv') as f:\n",
        "    for i, line in enumerate(f):\n",
        "        if i == 0:\n",
        "            print(\"HEADER:\", line.strip())\n",
        "            continue  # Skip header\n",
        "        fields = line.strip().split(\",\")\n",
        "        all_features.append([float(v.replace('\"', \"\")) for v in fields[:-1]])\n",
        "        all_targets.append([int(fields[-1].replace('\"', \"\"))])\n",
        "        if i == 1:\n",
        "            print(\"EXAMPLE FEATURES:\", all_features[-1])\n",
        "\n",
        "features = np.array(all_features, dtype=\"float32\")\n",
        "targets = np.array(all_targets, dtype=\"uint8\")\n",
        "print(\"features.shape:\", features.shape)\n",
        "print(\"targets.shape:\", targets.shape)"
      ]
    },
    {
      "cell_type": "markdown",
      "source": [
        "# Preparar conjunto de validación\n",
        "\n",
        "Lo haremos manual (es decir, no aleatorio)"
      ],
      "metadata": {
        "id": "q9fjnHFwHd-t"
      }
    },
    {
      "cell_type": "code",
      "source": [
        "num_val_samples = int(len(features) * 0.2)\n",
        "train_features = features[:-num_val_samples]\n",
        "train_targets = targets[:-num_val_samples]\n",
        "val_features = features[-num_val_samples:]\n",
        "val_targets = targets[-num_val_samples:]\n",
        "\n",
        "print(\"Number of training samples:\", len(train_features))\n",
        "print(\"Number of validation samples:\", len(val_features))"
      ],
      "metadata": {
        "id": "OmgJqltqHS1Q",
        "colab": {
          "base_uri": "https://localhost:8080/"
        },
        "outputId": "3f7395bf-c302-49af-dd84-c3d9c0bda9f4"
      },
      "execution_count": null,
      "outputs": [
        {
          "output_type": "stream",
          "name": "stdout",
          "text": [
            "Number of training samples: 227846\n",
            "Number of validation samples: 56961\n"
          ]
        }
      ]
    },
    {
      "cell_type": "markdown",
      "source": [
        "# Analizar desbalance de los datos"
      ],
      "metadata": {
        "id": "YNybjc6VH4Lh"
      }
    },
    {
      "cell_type": "code",
      "source": [
        "counts = np.bincount(train_targets[:, 0])\n",
        "print(f\"Number of positive samples in training data: {counts[1]} ({100 * float(counts[1]) / len(train_targets):.2f}% of total)\")\n"
      ],
      "metadata": {
        "id": "Oj6xVYvHHUfs",
        "colab": {
          "base_uri": "https://localhost:8080/"
        },
        "outputId": "f6c13fa9-4b90-4f76-ba0a-cabed78dbf3d"
      },
      "execution_count": null,
      "outputs": [
        {
          "output_type": "stream",
          "name": "stdout",
          "text": [
            "Number of positive samples in training data: 417 (0.18% of total)\n"
          ]
        }
      ]
    },
    {
      "cell_type": "markdown",
      "source": [
        "Asignaremos pesos de una manera balanceada (es una clase de peso \"balanced\" utilizada en keras). Manualmente se calcula como:"
      ],
      "metadata": {
        "id": "uMNmSSg7RKaN"
      }
    },
    {
      "cell_type": "code",
      "source": [
        "total_counts = np.bincount(train_targets[:, 0])\n",
        "n_samples = len(train_targets)\n",
        "\n",
        "weight_for_0 = n_samples / (total_counts[0]*2)\n",
        "weight_for_1 = n_samples / (total_counts[1]*2)\n",
        "\n",
        "#counts = np.bincount(train_targets[:, 0])\n",
        "\n",
        "#weight_for_0 = 1.0 / counts[0]\n",
        "#weight_for_1 = 1.0 / counts[1]\n",
        "\n",
        "print(f\"{weight_for_0: .6f}\")\n",
        "print(f\"{weight_for_1: .4f}\")"
      ],
      "metadata": {
        "id": "LVxboEzLP0qU",
        "colab": {
          "base_uri": "https://localhost:8080/"
        },
        "outputId": "97ed1b6a-8352-4b90-8805-3e0b0e3c30a5"
      },
      "execution_count": null,
      "outputs": [
        {
          "output_type": "stream",
          "name": "stdout",
          "text": [
            " 0.500917\n",
            " 273.1966\n"
          ]
        }
      ]
    },
    {
      "cell_type": "markdown",
      "source": [
        "Podemos ver que los pesos son practicamente una proporción de 500 a 1 aproximadamente"
      ],
      "metadata": {
        "id": "gB61dh8ITMUG"
      }
    },
    {
      "cell_type": "markdown",
      "source": [
        "# Estandarizar los datos"
      ],
      "metadata": {
        "id": "ChgxpOOuIB_V"
      }
    },
    {
      "cell_type": "code",
      "source": [
        "mean = np.mean(train_features, axis=0)\n",
        "train_features -= mean\n",
        "val_features -= mean\n",
        "std = np.std(train_features, axis=0)\n",
        "train_features /= std\n",
        "val_features /= std"
      ],
      "metadata": {
        "id": "_vnuRhp5HUdi"
      },
      "execution_count": null,
      "outputs": []
    },
    {
      "cell_type": "markdown",
      "source": [
        "# Modelo de clasificación binaria"
      ],
      "metadata": {
        "id": "BrhhaIPuIGKD"
      }
    },
    {
      "cell_type": "code",
      "source": [
        "# Módulo montado en TensorFlow para creación de redes neuronales\n",
        "from tensorflow import keras\n",
        "\n",
        "model = keras.Sequential(\n",
        "    [\n",
        "        keras.layers.Dense(\n",
        "            256, activation=\"relu\", input_shape=(train_features.shape[-1],)\n",
        "        ),\n",
        "        keras.layers.Dense(256, activation=\"relu\"),\n",
        "        keras.layers.Dropout(0.3),\n",
        "        keras.layers.Dense(256, activation=\"relu\"),\n",
        "        keras.layers.Dropout(0.3),\n",
        "        keras.layers.Dense(1, activation=\"sigmoid\"),\n",
        "    ]\n",
        ")\n",
        "model.summary()"
      ],
      "metadata": {
        "id": "c7TZxGnwHUbN",
        "colab": {
          "base_uri": "https://localhost:8080/"
        },
        "outputId": "95e93000-634d-4945-f50b-3ed3961d485b"
      },
      "execution_count": null,
      "outputs": [
        {
          "output_type": "stream",
          "name": "stdout",
          "text": [
            "Model: \"sequential\"\n",
            "_________________________________________________________________\n",
            " Layer (type)                Output Shape              Param #   \n",
            "=================================================================\n",
            " dense (Dense)               (None, 256)               7936      \n",
            "                                                                 \n",
            " dense_1 (Dense)             (None, 256)               65792     \n",
            "                                                                 \n",
            " dropout (Dropout)           (None, 256)               0         \n",
            "                                                                 \n",
            " dense_2 (Dense)             (None, 256)               65792     \n",
            "                                                                 \n",
            " dropout_1 (Dropout)         (None, 256)               0         \n",
            "                                                                 \n",
            " dense_3 (Dense)             (None, 1)                 257       \n",
            "                                                                 \n",
            "=================================================================\n",
            "Total params: 139,777\n",
            "Trainable params: 139,777\n",
            "Non-trainable params: 0\n",
            "_________________________________________________________________\n"
          ]
        }
      ]
    },
    {
      "cell_type": "markdown",
      "source": [
        "# Entrenar modelo tomando en cuenta pesos para los datos\n"
      ],
      "metadata": {
        "id": "8iUdg7wmIIRA"
      }
    },
    {
      "cell_type": "code",
      "source": [
        "# random.seed(9)\n",
        "np.random.seed(1)\n",
        "\n",
        "from tensorflow import random\n",
        "\n",
        "random.set_seed(11)"
      ],
      "metadata": {
        "id": "3AqYuBasI1yL"
      },
      "execution_count": null,
      "outputs": []
    },
    {
      "cell_type": "code",
      "source": [
        "metrics = [\n",
        "    keras.metrics.FalseNegatives(name=\"fn\"),\n",
        "    keras.metrics.FalsePositives(name=\"fp\"),\n",
        "    keras.metrics.TrueNegatives(name=\"tn\"),\n",
        "    keras.metrics.TruePositives(name=\"tp\"),\n",
        "    keras.metrics.Precision(name=\"precision\"),\n",
        "    keras.metrics.Recall(name=\"recall\"),\n",
        "]\n",
        "\n",
        "model.compile(\n",
        "    optimizer=keras.optimizers.Adam(0.01), loss=\"binary_crossentropy\", metrics=metrics\n",
        ")\n",
        "\n",
        "callbacks = [keras.callbacks.ModelCheckpoint(\"fraud_model_at_epoch_{epoch}.h5\")]\n",
        "class_weight = {0: weight_for_0, 1: weight_for_1}\n",
        "\n",
        "model.fit(\n",
        "    train_features,\n",
        "    train_targets,\n",
        "    batch_size=2048,\n",
        "    epochs=30,\n",
        "    verbose=2,\n",
        "    callbacks=callbacks,\n",
        "    validation_data=(val_features, val_targets),\n",
        "    class_weight=class_weight,\n",
        ")"
      ],
      "metadata": {
        "id": "ohsmPpHnHUZH",
        "colab": {
          "base_uri": "https://localhost:8080/"
        },
        "outputId": "499d46f3-15e1-44a8-de15-7e731b6993ca"
      },
      "execution_count": null,
      "outputs": [
        {
          "output_type": "stream",
          "name": "stdout",
          "text": [
            "Epoch 1/30\n",
            "112/112 - 8s - loss: 0.4524 - fn: 53.0000 - fp: 15064.0000 - tn: 212365.0000 - tp: 364.0000 - precision: 0.0236 - recall: 0.8729 - val_loss: 0.0976 - val_fn: 10.0000 - val_fp: 905.0000 - val_tn: 55981.0000 - val_tp: 65.0000 - val_precision: 0.0670 - val_recall: 0.8667 - 8s/epoch - 70ms/step\n",
            "Epoch 2/30\n",
            "112/112 - 5s - loss: 0.2574 - fn: 36.0000 - fp: 8420.0000 - tn: 219009.0000 - tp: 381.0000 - precision: 0.0433 - recall: 0.9137 - val_loss: 0.0522 - val_fn: 10.0000 - val_fp: 341.0000 - val_tn: 56545.0000 - val_tp: 65.0000 - val_precision: 0.1601 - val_recall: 0.8667 - 5s/epoch - 48ms/step\n",
            "Epoch 3/30\n",
            "112/112 - 5s - loss: 0.3155 - fn: 37.0000 - fp: 9636.0000 - tn: 217793.0000 - tp: 380.0000 - precision: 0.0379 - recall: 0.9113 - val_loss: 0.0535 - val_fn: 15.0000 - val_fp: 148.0000 - val_tn: 56738.0000 - val_tp: 60.0000 - val_precision: 0.2885 - val_recall: 0.8000 - 5s/epoch - 47ms/step\n",
            "Epoch 4/30\n",
            "112/112 - 5s - loss: 0.2087 - fn: 32.0000 - fp: 9532.0000 - tn: 217897.0000 - tp: 385.0000 - precision: 0.0388 - recall: 0.9233 - val_loss: 0.0732 - val_fn: 8.0000 - val_fp: 1210.0000 - val_tn: 55676.0000 - val_tp: 67.0000 - val_precision: 0.0525 - val_recall: 0.8933 - 5s/epoch - 49ms/step\n",
            "Epoch 5/30\n",
            "112/112 - 5s - loss: 0.3458 - fn: 28.0000 - fp: 12144.0000 - tn: 215285.0000 - tp: 389.0000 - precision: 0.0310 - recall: 0.9329 - val_loss: 0.1758 - val_fn: 7.0000 - val_fp: 2092.0000 - val_tn: 54794.0000 - val_tp: 68.0000 - val_precision: 0.0315 - val_recall: 0.9067 - 5s/epoch - 47ms/step\n",
            "Epoch 6/30\n",
            "112/112 - 5s - loss: 0.1890 - fn: 33.0000 - fp: 9437.0000 - tn: 217992.0000 - tp: 384.0000 - precision: 0.0391 - recall: 0.9209 - val_loss: 0.0954 - val_fn: 8.0000 - val_fp: 2062.0000 - val_tn: 54824.0000 - val_tp: 67.0000 - val_precision: 0.0315 - val_recall: 0.8933 - 5s/epoch - 47ms/step\n",
            "Epoch 7/30\n",
            "112/112 - 5s - loss: 0.2815 - fn: 22.0000 - fp: 12133.0000 - tn: 215296.0000 - tp: 395.0000 - precision: 0.0315 - recall: 0.9472 - val_loss: 0.1316 - val_fn: 7.0000 - val_fp: 2112.0000 - val_tn: 54774.0000 - val_tp: 68.0000 - val_precision: 0.0312 - val_recall: 0.9067 - 5s/epoch - 48ms/step\n",
            "Epoch 8/30\n",
            "112/112 - 5s - loss: 0.4174 - fn: 27.0000 - fp: 11963.0000 - tn: 215466.0000 - tp: 390.0000 - precision: 0.0316 - recall: 0.9353 - val_loss: 0.1102 - val_fn: 10.0000 - val_fp: 530.0000 - val_tn: 56356.0000 - val_tp: 65.0000 - val_precision: 0.1092 - val_recall: 0.8667 - 5s/epoch - 48ms/step\n",
            "Epoch 9/30\n",
            "112/112 - 5s - loss: 0.8832 - fn: 39.0000 - fp: 13208.0000 - tn: 214221.0000 - tp: 378.0000 - precision: 0.0278 - recall: 0.9065 - val_loss: 0.1190 - val_fn: 10.0000 - val_fp: 961.0000 - val_tn: 55925.0000 - val_tp: 65.0000 - val_precision: 0.0634 - val_recall: 0.8667 - 5s/epoch - 47ms/step\n",
            "Epoch 10/30\n",
            "112/112 - 5s - loss: 0.6686 - fn: 40.0000 - fp: 16727.0000 - tn: 210702.0000 - tp: 377.0000 - precision: 0.0220 - recall: 0.9041 - val_loss: 0.1392 - val_fn: 16.0000 - val_fp: 586.0000 - val_tn: 56300.0000 - val_tp: 59.0000 - val_precision: 0.0915 - val_recall: 0.7867 - 5s/epoch - 47ms/step\n",
            "Epoch 11/30\n",
            "112/112 - 5s - loss: 1.1715 - fn: 45.0000 - fp: 16967.0000 - tn: 210462.0000 - tp: 372.0000 - precision: 0.0215 - recall: 0.8921 - val_loss: 0.2372 - val_fn: 8.0000 - val_fp: 3076.0000 - val_tn: 53810.0000 - val_tp: 67.0000 - val_precision: 0.0213 - val_recall: 0.8933 - 5s/epoch - 49ms/step\n",
            "Epoch 12/30\n",
            "112/112 - 5s - loss: 0.9043 - fn: 35.0000 - fp: 20264.0000 - tn: 207165.0000 - tp: 382.0000 - precision: 0.0185 - recall: 0.9161 - val_loss: 0.1383 - val_fn: 8.0000 - val_fp: 2300.0000 - val_tn: 54586.0000 - val_tp: 67.0000 - val_precision: 0.0283 - val_recall: 0.8933 - 5s/epoch - 49ms/step\n",
            "Epoch 13/30\n",
            "112/112 - 5s - loss: 1.0833 - fn: 27.0000 - fp: 23692.0000 - tn: 203737.0000 - tp: 390.0000 - precision: 0.0162 - recall: 0.9353 - val_loss: 0.0532 - val_fn: 15.0000 - val_fp: 777.0000 - val_tn: 56109.0000 - val_tp: 60.0000 - val_precision: 0.0717 - val_recall: 0.8000 - 5s/epoch - 47ms/step\n",
            "Epoch 14/30\n",
            "112/112 - 5s - loss: 0.6392 - fn: 22.0000 - fp: 21205.0000 - tn: 206224.0000 - tp: 395.0000 - precision: 0.0183 - recall: 0.9472 - val_loss: 0.0669 - val_fn: 11.0000 - val_fp: 494.0000 - val_tn: 56392.0000 - val_tp: 64.0000 - val_precision: 0.1147 - val_recall: 0.8533 - 5s/epoch - 48ms/step\n",
            "Epoch 15/30\n",
            "112/112 - 5s - loss: 1.3860 - fn: 22.0000 - fp: 31089.0000 - tn: 196340.0000 - tp: 395.0000 - precision: 0.0125 - recall: 0.9472 - val_loss: 0.1230 - val_fn: 18.0000 - val_fp: 32.0000 - val_tn: 56854.0000 - val_tp: 57.0000 - val_precision: 0.6404 - val_recall: 0.7600 - 5s/epoch - 47ms/step\n",
            "Epoch 16/30\n",
            "112/112 - 5s - loss: 0.4559 - fn: 63.0000 - fp: 16690.0000 - tn: 210739.0000 - tp: 354.0000 - precision: 0.0208 - recall: 0.8489 - val_loss: 0.1311 - val_fn: 5.0000 - val_fp: 3148.0000 - val_tn: 53738.0000 - val_tp: 70.0000 - val_precision: 0.0218 - val_recall: 0.9333 - 5s/epoch - 48ms/step\n",
            "Epoch 17/30\n",
            "112/112 - 5s - loss: 1.0599 - fn: 23.0000 - fp: 27394.0000 - tn: 200035.0000 - tp: 394.0000 - precision: 0.0142 - recall: 0.9448 - val_loss: 0.1047 - val_fn: 10.0000 - val_fp: 1713.0000 - val_tn: 55173.0000 - val_tp: 65.0000 - val_precision: 0.0366 - val_recall: 0.8667 - 5s/epoch - 48ms/step\n",
            "Epoch 18/30\n",
            "112/112 - 5s - loss: 0.6086 - fn: 14.0000 - fp: 30589.0000 - tn: 196840.0000 - tp: 403.0000 - precision: 0.0130 - recall: 0.9664 - val_loss: 0.1695 - val_fn: 5.0000 - val_fp: 6277.0000 - val_tn: 50609.0000 - val_tp: 70.0000 - val_precision: 0.0110 - val_recall: 0.9333 - 5s/epoch - 49ms/step\n",
            "Epoch 19/30\n",
            "112/112 - 5s - loss: 0.3708 - fn: 16.0000 - fp: 28820.0000 - tn: 198609.0000 - tp: 401.0000 - precision: 0.0137 - recall: 0.9616 - val_loss: 0.3398 - val_fn: 3.0000 - val_fp: 10360.0000 - val_tn: 46526.0000 - val_tp: 72.0000 - val_precision: 0.0069 - val_recall: 0.9600 - 5s/epoch - 46ms/step\n",
            "Epoch 20/30\n",
            "112/112 - 5s - loss: 0.2994 - fn: 12.0000 - fp: 30365.0000 - tn: 197064.0000 - tp: 405.0000 - precision: 0.0132 - recall: 0.9712 - val_loss: 0.1605 - val_fn: 5.0000 - val_fp: 3366.0000 - val_tn: 53520.0000 - val_tp: 70.0000 - val_precision: 0.0204 - val_recall: 0.9333 - 5s/epoch - 48ms/step\n",
            "Epoch 21/30\n",
            "112/112 - 5s - loss: 0.3808 - fn: 8.0000 - fp: 25648.0000 - tn: 201781.0000 - tp: 409.0000 - precision: 0.0157 - recall: 0.9808 - val_loss: 0.1036 - val_fn: 7.0000 - val_fp: 2459.0000 - val_tn: 54427.0000 - val_tp: 68.0000 - val_precision: 0.0269 - val_recall: 0.9067 - 5s/epoch - 47ms/step\n",
            "Epoch 22/30\n",
            "112/112 - 5s - loss: 0.2820 - fn: 10.0000 - fp: 22840.0000 - tn: 204589.0000 - tp: 407.0000 - precision: 0.0175 - recall: 0.9760 - val_loss: 0.0511 - val_fn: 8.0000 - val_fp: 1169.0000 - val_tn: 55717.0000 - val_tp: 67.0000 - val_precision: 0.0542 - val_recall: 0.8933 - 5s/epoch - 47ms/step\n",
            "Epoch 23/30\n",
            "112/112 - 5s - loss: 0.2144 - fn: 9.0000 - fp: 22582.0000 - tn: 204847.0000 - tp: 408.0000 - precision: 0.0177 - recall: 0.9784 - val_loss: 0.0806 - val_fn: 8.0000 - val_fp: 2174.0000 - val_tn: 54712.0000 - val_tp: 67.0000 - val_precision: 0.0299 - val_recall: 0.8933 - 5s/epoch - 48ms/step\n",
            "Epoch 24/30\n",
            "112/112 - 5s - loss: 0.1881 - fn: 7.0000 - fp: 17193.0000 - tn: 210236.0000 - tp: 410.0000 - precision: 0.0233 - recall: 0.9832 - val_loss: 0.0373 - val_fn: 10.0000 - val_fp: 697.0000 - val_tn: 56189.0000 - val_tp: 65.0000 - val_precision: 0.0853 - val_recall: 0.8667 - 5s/epoch - 47ms/step\n",
            "Epoch 25/30\n",
            "112/112 - 5s - loss: 0.2051 - fn: 12.0000 - fp: 13718.0000 - tn: 213711.0000 - tp: 405.0000 - precision: 0.0287 - recall: 0.9712 - val_loss: 0.1676 - val_fn: 5.0000 - val_fp: 3589.0000 - val_tn: 53297.0000 - val_tp: 70.0000 - val_precision: 0.0191 - val_recall: 0.9333 - 5s/epoch - 48ms/step\n",
            "Epoch 26/30\n",
            "112/112 - 5s - loss: 0.1946 - fn: 7.0000 - fp: 16449.0000 - tn: 210980.0000 - tp: 410.0000 - precision: 0.0243 - recall: 0.9832 - val_loss: 0.0885 - val_fn: 8.0000 - val_fp: 1837.0000 - val_tn: 55049.0000 - val_tp: 67.0000 - val_precision: 0.0352 - val_recall: 0.8933 - 5s/epoch - 48ms/step\n",
            "Epoch 27/30\n",
            "112/112 - 5s - loss: 0.1841 - fn: 5.0000 - fp: 16651.0000 - tn: 210778.0000 - tp: 412.0000 - precision: 0.0241 - recall: 0.9880 - val_loss: 0.0592 - val_fn: 8.0000 - val_fp: 1143.0000 - val_tn: 55743.0000 - val_tp: 67.0000 - val_precision: 0.0554 - val_recall: 0.8933 - 5s/epoch - 49ms/step\n",
            "Epoch 28/30\n",
            "112/112 - 5s - loss: 0.1403 - fn: 6.0000 - fp: 14021.0000 - tn: 213408.0000 - tp: 411.0000 - precision: 0.0285 - recall: 0.9856 - val_loss: 0.0352 - val_fn: 9.0000 - val_fp: 486.0000 - val_tn: 56400.0000 - val_tp: 66.0000 - val_precision: 0.1196 - val_recall: 0.8800 - 5s/epoch - 48ms/step\n",
            "Epoch 29/30\n",
            "112/112 - 5s - loss: 0.3054 - fn: 11.0000 - fp: 17965.0000 - tn: 209464.0000 - tp: 406.0000 - precision: 0.0221 - recall: 0.9736 - val_loss: 0.2421 - val_fn: 3.0000 - val_fp: 6574.0000 - val_tn: 50312.0000 - val_tp: 72.0000 - val_precision: 0.0108 - val_recall: 0.9600 - 5s/epoch - 47ms/step\n",
            "Epoch 30/30\n",
            "112/112 - 5s - loss: 0.1955 - fn: 8.0000 - fp: 19319.0000 - tn: 208110.0000 - tp: 409.0000 - precision: 0.0207 - recall: 0.9808 - val_loss: 0.1043 - val_fn: 7.0000 - val_fp: 2695.0000 - val_tn: 54191.0000 - val_tp: 68.0000 - val_precision: 0.0246 - val_recall: 0.9067 - 5s/epoch - 48ms/step\n"
          ]
        },
        {
          "output_type": "execute_result",
          "data": {
            "text/plain": [
              "<keras.callbacks.History at 0x7f7891075610>"
            ]
          },
          "metadata": {},
          "execution_count": 9
        }
      ]
    },
    {
      "cell_type": "code",
      "source": [
        "y_train_pred = model.predict(train_features)\n",
        "y_train_pred[y_train_pred < 0.5] = 0\n",
        "y_train_pred[y_train_pred >= 0.5] = 1"
      ],
      "metadata": {
        "id": "VpjKDeemyyR5"
      },
      "execution_count": null,
      "outputs": []
    },
    {
      "cell_type": "code",
      "source": [
        "y_test_pred = model.predict(val_features)\n",
        "y_test_pred[y_test_pred < 0.5] = 0\n",
        "y_test_pred[y_test_pred >= 0.5] = 1"
      ],
      "metadata": {
        "id": "N5wnrKyvHUSa"
      },
      "execution_count": null,
      "outputs": []
    },
    {
      "cell_type": "code",
      "source": [
        "len(y_test_pred[:, 0])"
      ],
      "metadata": {
        "id": "7j-utPCXxdVh",
        "colab": {
          "base_uri": "https://localhost:8080/"
        },
        "outputId": "6e7bec12-0a41-4031-dde6-bf5e22077d03"
      },
      "execution_count": null,
      "outputs": [
        {
          "output_type": "execute_result",
          "data": {
            "text/plain": [
              "56961"
            ]
          },
          "metadata": {},
          "execution_count": 23
        }
      ]
    },
    {
      "cell_type": "code",
      "source": [
        "y_test_pred[:, 0].sum()"
      ],
      "metadata": {
        "id": "Kyi7Q_VCyXfP",
        "colab": {
          "base_uri": "https://localhost:8080/"
        },
        "outputId": "367c62ca-0ae2-42bb-cb3b-1fd3c94bae96"
      },
      "execution_count": null,
      "outputs": [
        {
          "output_type": "execute_result",
          "data": {
            "text/plain": [
              "2763.0"
            ]
          },
          "metadata": {},
          "execution_count": 24
        }
      ]
    },
    {
      "cell_type": "code",
      "source": [
        "from sklearn.metrics import ConfusionMatrixDisplay\n",
        "import matplotlib.pyplot as plt"
      ],
      "metadata": {
        "id": "YWEa45ewynAx"
      },
      "execution_count": null,
      "outputs": []
    },
    {
      "cell_type": "code",
      "source": [
        "ConfusionMatrixDisplay.from_predictions(train_targets, y_train_pred, cmap=plt.cm.Greens)"
      ],
      "metadata": {
        "id": "A8pnRIIjyqOF",
        "colab": {
          "base_uri": "https://localhost:8080/",
          "height": 296
        },
        "outputId": "376f2131-ed56-453c-a345-94875ca8b182"
      },
      "execution_count": null,
      "outputs": [
        {
          "output_type": "execute_result",
          "data": {
            "text/plain": [
              "<sklearn.metrics._plot.confusion_matrix.ConfusionMatrixDisplay at 0x7f788cc39a10>"
            ]
          },
          "metadata": {},
          "execution_count": 25
        },
        {
          "output_type": "display_data",
          "data": {
            "text/plain": [
              "<Figure size 432x288 with 2 Axes>"
            ],
            "image/png": "[encoded data removed]"
          },
          "metadata": {
            "needs_background": "light"
          }
        }
      ]
    },
    {
      "cell_type": "code",
      "source": [
        "# Recuperar \"pesos\" de los coeficientes en la epoca \"X\"\n",
        "# CUIDADO AL CORRER ESTA CELDA\n",
        "\n",
        "# model.load_weights(\"/content/fraud_model_at_epoch_28.h5\")"
      ],
      "metadata": {
        "id": "__GIroXqJvy9"
      },
      "execution_count": null,
      "outputs": []
    },
    {
      "cell_type": "code",
      "source": [
        "ConfusionMatrixDisplay.from_predictions(val_targets, y_test_pred, cmap=plt.cm.Greens)"
      ],
      "metadata": {
        "id": "5hoA_Ryf3LGE",
        "colab": {
          "base_uri": "https://localhost:8080/",
          "height": 296
        },
        "outputId": "d087e5c6-1eab-4702-deb5-a4a898cd99e5"
      },
      "execution_count": null,
      "outputs": [
        {
          "output_type": "execute_result",
          "data": {
            "text/plain": [
              "<sklearn.metrics._plot.confusion_matrix.ConfusionMatrixDisplay at 0x7f788e165050>"
            ]
          },
          "metadata": {},
          "execution_count": 26
        },
        {
          "output_type": "display_data",
          "data": {
            "text/plain": [
              "<Figure size 432x288 with 2 Axes>"
            ],
            "image/png": "[encoded data removed]"
          },
          "metadata": {
            "needs_background": "light"
          }
        }
      ]
    },
    {
      "cell_type": "code",
      "source": [
        "from sklearn.metrics import average_precision_score"
      ],
      "metadata": {
        "id": "G4FyL0lt1nwo"
      },
      "execution_count": null,
      "outputs": []
    },
    {
      "cell_type": "code",
      "source": [
        "y_test_prob = model.predict(val_features)"
      ],
      "metadata": {
        "id": "uLEe0C-b2y04"
      },
      "execution_count": null,
      "outputs": []
    },
    {
      "cell_type": "code",
      "source": [
        "auprc = average_precision_score(val_targets, y_test_prob)\n",
        "auprc"
      ],
      "metadata": {
        "id": "DykriQEB2rpT",
        "colab": {
          "base_uri": "https://localhost:8080/"
        },
        "outputId": "cad1a67e-a5fc-444d-ac0d-55c0bd20a9cc"
      },
      "execution_count": null,
      "outputs": [
        {
          "output_type": "execute_result",
          "data": {
            "text/plain": [
              "0.5694344747094825"
            ]
          },
          "metadata": {},
          "execution_count": 29
        }
      ]
    },
    {
      "cell_type": "code",
      "source": [
        "from sklearn.metrics import classification_report"
      ],
      "metadata": {
        "id": "_dqZX_4g5icp"
      },
      "execution_count": null,
      "outputs": []
    },
    {
      "cell_type": "code",
      "source": [
        "print(classification_report(train_targets, y_train_pred))"
      ],
      "metadata": {
        "id": "7P-RIboL6QRL",
        "colab": {
          "base_uri": "https://localhost:8080/"
        },
        "outputId": "08d06907-865a-48a5-be52-cb53d450d1b0"
      },
      "execution_count": null,
      "outputs": [
        {
          "output_type": "stream",
          "name": "stdout",
          "text": [
            "              precision    recall  f1-score   support\n",
            "\n",
            "           0       1.00      0.93      0.96    227429\n",
            "           1       0.03      0.99      0.05       417\n",
            "\n",
            "    accuracy                           0.93    227846\n",
            "   macro avg       0.51      0.96      0.51    227846\n",
            "weighted avg       1.00      0.93      0.96    227846\n",
            "\n"
          ]
        }
      ]
    },
    {
      "cell_type": "code",
      "source": [
        "print(classification_report(val_targets, y_test_pred))"
      ],
      "metadata": {
        "colab": {
          "base_uri": "https://localhost:8080/"
        },
        "id": "dwGZ2E21K8Lj",
        "outputId": "7d82c6c5-d2b0-47e3-da14-b5de9556d7e2"
      },
      "execution_count": null,
      "outputs": [
        {
          "output_type": "stream",
          "name": "stdout",
          "text": [
            "              precision    recall  f1-score   support\n",
            "\n",
            "           0       1.00      0.95      0.98     56886\n",
            "           1       0.02      0.91      0.05        75\n",
            "\n",
            "    accuracy                           0.95     56961\n",
            "   macro avg       0.51      0.93      0.51     56961\n",
            "weighted avg       1.00      0.95      0.97     56961\n",
            "\n"
          ]
        }
      ]
    },
    {
      "cell_type": "markdown",
      "source": [
        "# Ejercicios:\n",
        "\n",
        "* ¿Que sucedería con el modelo si no usamos el parámetro \"class_weight\"?\n",
        "\n",
        "* ¿Podemos recuperar solo la mejor época de nuestro entrenamiento?\n",
        "\n",
        "* ¿Porque la matriz de confusión no parece dar mucha luz sobre lo que ocurre?"
      ],
      "metadata": {
        "id": "oQhYiG1VzGA8"
      }
    }
  ]
}