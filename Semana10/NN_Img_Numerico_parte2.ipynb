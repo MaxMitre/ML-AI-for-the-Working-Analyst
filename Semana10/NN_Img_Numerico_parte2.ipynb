{
  "nbformat": 4,
  "nbformat_minor": 0,
  "metadata": {
    "colab": {
      "name": "semana10.2_Working_Analyst_NN_Img_Numerico.ipynb",
      "provenance": [],
      "collapsed_sections": []
    },
    "kernelspec": {
      "name": "python3",
      "display_name": "Python 3"
    },
    "language_info": {
      "name": "python"
    }
  },
  "cells": [
    {
      "cell_type": "markdown",
      "source": [
        "[![Open In Colab](https://colab.research.google.com/assets/colab-badge.svg)](https://colab.research.google.com/github/MaxMitre/ML-AI-for-the-Working-Analyst/blob/main/Semana10/NN_Img_Numerico_parte2.ipynb)"
      ],
      "metadata": {
        "id": "q07IGqzLM33f"
      }
    },
    {
      "cell_type": "markdown",
      "source": [
        "# Introducción\n",
        "\n",
        "Los datos que utilizaremos combinan 2 tipos de datos que hemos usado previamente pero no en conjunto: Imágenes y Características.\n",
        "\n",
        "El dataset se compone de datos de propiedades en Francia. En los datos tenemos variables predictoras como el tamaño del inmueble, el tamaño de terreno que incluye, número de baños, etc. Además, cada inmueble cuenta con imágenes, que serán vectorizadas para tratar de obtener una buena predicción del precio de los mismos."
      ],
      "metadata": {
        "id": "ekQmiTrOMWsC"
      }
    },
    {
      "cell_type": "markdown",
      "source": [
        "Datos en el siguiente [enlace](https://challengedata.ens.fr/participants/challenges/68/)."
      ],
      "metadata": {
        "id": "cUzAE8g0Q8pn"
      }
    },
    {
      "cell_type": "code",
      "execution_count": null,
      "metadata": {
        "id": "E_Bwny4UMKjc"
      },
      "outputs": [],
      "source": [
        "import pandas as pd\n",
        "import numpy as np"
      ]
    },
    {
      "cell_type": "code",
      "source": [
        "from google.colab import drive\n",
        "drive.mount('/content/drive')"
      ],
      "metadata": {
        "colab": {
          "base_uri": "https://localhost:8080/"
        },
        "id": "yvkdgUytPfR5",
        "outputId": "73f9312e-f1ae-4a08-faba-404a73ad7d5b"
      },
      "execution_count": null,
      "outputs": [
        {
          "output_type": "stream",
          "name": "stdout",
          "text": [
            "Drive already mounted at /content/drive; to attempt to forcibly remount, call drive.mount(\"/content/drive\", force_remount=True).\n"
          ]
        }
      ]
    },
    {
      "cell_type": "code",
      "source": [
        "features = pd.read_csv('/content/drive/MyDrive/Curso-WorkingAnalyst/semana10/X_train_J01Z4CN.csv', index_col='id_annonce')"
      ],
      "metadata": {
        "id": "FNO7nYJgDtg6"
      },
      "execution_count": null,
      "outputs": []
    },
    {
      "cell_type": "code",
      "source": [
        "targets = pd.read_csv('/content/drive/MyDrive/Curso-WorkingAnalyst/semana10/y_train_OXxrJt1.csv', index_col='id_annonce')"
      ],
      "metadata": {
        "id": "6pMYIDs6Dted"
      },
      "execution_count": null,
      "outputs": []
    },
    {
      "cell_type": "code",
      "source": [
        "features"
      ],
      "metadata": {
        "id": "UYmWv1IJDtcB",
        "colab": {
          "base_uri": "https://localhost:8080/",
          "height": 571
        },
        "outputId": "4047c7b0-a5ec-45bb-be9e-3b24c1228b47"
      },
      "execution_count": null,
      "outputs": [
        {
          "output_type": "execute_result",
          "data": {
            "text/plain": [
              "           property_type  approximate_latitude  approximate_longitude  \\\n",
              "id_annonce                                                              \n",
              "35996577     appartement             43.643880               7.117183   \n",
              "35811033     appartement             45.695757               4.895610   \n",
              "35731841          maison             47.966791              -1.220451   \n",
              "35886765          maison             47.289292              -1.878805   \n",
              "35781137     appartement             45.718992               4.844234   \n",
              "...                  ...                   ...                    ...   \n",
              "35881571     appartement             43.480292              -1.484324   \n",
              "35890109     appartement             48.861391               2.401158   \n",
              "36010245     appartement             44.397837              -1.164312   \n",
              "35864579          duplex             48.864204               2.808693   \n",
              "35748883          maison             46.032306               1.966711   \n",
              "\n",
              "                         city  postal_code    size  floor  land_size  \\\n",
              "id_annonce                                                             \n",
              "35996577    villeneuve-loubet         6270    63.0    NaN        NaN   \n",
              "35811033           venissieux        69200    90.0    3.0        NaN   \n",
              "35731841             moutiers        35130    61.0    NaN      370.0   \n",
              "35886765            cordemais        44360   142.0    NaN      764.0   \n",
              "35781137            lyon-7eme        69007    88.0    3.0        NaN   \n",
              "...                       ...          ...     ...    ...        ...   \n",
              "35881571              bayonne        64100  2995.0    NaN        NaN   \n",
              "35890109          paris-20eme        75020    36.0    4.0        NaN   \n",
              "36010245          biscarrosse        40600    99.0    2.0        NaN   \n",
              "35864579      magny-le-hongre        77700  9281.0    NaN        NaN   \n",
              "35748883           le-donzeil        23480    90.0    NaN      600.0   \n",
              "\n",
              "            energy_performance_value energy_performance_category  ...  \\\n",
              "id_annonce                                                        ...   \n",
              "35996577                         NaN                         NaN  ...   \n",
              "35811033                       223.0                           D  ...   \n",
              "35731841                         NaN                         NaN  ...   \n",
              "35886765                       217.0                           D  ...   \n",
              "35781137                         NaN                         NaN  ...   \n",
              "...                              ...                         ...  ...   \n",
              "35881571                       255.0                           E  ...   \n",
              "35890109                       229.0                           D  ...   \n",
              "36010245                         NaN                         NaN  ...   \n",
              "35864579                         NaN                         NaN  ...   \n",
              "35748883                         NaN                         NaN  ...   \n",
              "\n",
              "            nb_parking_places nb_boxes nb_photos  has_a_balcony  nb_terraces  \\\n",
              "id_annonce                                                                     \n",
              "35996577                  0.0      0.0       4.0            0.0          1.0   \n",
              "35811033                  0.0      0.0       8.0            0.0          0.0   \n",
              "35731841                  0.0      0.0       4.0            0.0          0.0   \n",
              "35886765                  0.0      1.0       8.0            0.0          1.0   \n",
              "35781137                  0.0      1.0       5.0            1.0          0.0   \n",
              "...                       ...      ...       ...            ...          ...   \n",
              "35881571                  0.0      0.0       7.0            0.0          0.0   \n",
              "35890109                  0.0      0.0       8.0            0.0          0.0   \n",
              "36010245                  1.0      0.0       5.0            1.0          0.0   \n",
              "35864579                  1.0      0.0       5.0            0.0          0.0   \n",
              "35748883                  0.0      0.0      22.0            0.0          0.0   \n",
              "\n",
              "            has_a_cellar  has_a_garage  has_air_conditioning  last_floor  \\\n",
              "id_annonce                                                                 \n",
              "35996577             0.0           0.0                   0.0         0.0   \n",
              "35811033             0.0           0.0                   0.0         0.0   \n",
              "35731841             0.0           0.0                   0.0         0.0   \n",
              "35886765             0.0           0.0                   0.0         0.0   \n",
              "35781137             0.0           0.0                   0.0         0.0   \n",
              "...                  ...           ...                   ...         ...   \n",
              "35881571             0.0           0.0                   0.0         0.0   \n",
              "35890109             0.0           0.0                   0.0         0.0   \n",
              "36010245             0.0           0.0                   0.0         0.0   \n",
              "35864579             0.0           0.0                   0.0         0.0   \n",
              "35748883             0.0           0.0                   0.0         0.0   \n",
              "\n",
              "            upper_floors  \n",
              "id_annonce                \n",
              "35996577             0.0  \n",
              "35811033             0.0  \n",
              "35731841             0.0  \n",
              "35886765             0.0  \n",
              "35781137             0.0  \n",
              "...                  ...  \n",
              "35881571             0.0  \n",
              "35890109             0.0  \n",
              "36010245             0.0  \n",
              "35864579             0.0  \n",
              "35748883             0.0  \n",
              "\n",
              "[37368 rows x 26 columns]"
            ],
            "text/html": [
              "\n",
              "  <div id=\"df-a74c2703-f4c3-496b-b28d-63e3b4b6071d\">\n",
              "    <div class=\"colab-df-container\">\n",
              "      <div>\n",
              "<style scoped>\n",
              "    .dataframe tbody tr th:only-of-type {\n",
              "        vertical-align: middle;\n",
              "    }\n",
              "\n",
              "    .dataframe tbody tr th {\n",
              "        vertical-align: top;\n",
              "    }\n",
              "\n",
              "    .dataframe thead th {\n",
              "        text-align: right;\n",
              "    }\n",
              "</style>\n",
              "<table border=\"1\" class=\"dataframe\">\n",
              "  <thead>\n",
              "    <tr style=\"text-align: right;\">\n",
              "      <th></th>\n",
              "      <th>property_type</th>\n",
              "      <th>approximate_latitude</th>\n",
              "      <th>approximate_longitude</th>\n",
              "      <th>city</th>\n",
              "      <th>postal_code</th>\n",
              "      <th>size</th>\n",
              "      <th>floor</th>\n",
              "      <th>land_size</th>\n",
              "      <th>energy_performance_value</th>\n",
              "      <th>energy_performance_category</th>\n",
              "      <th>...</th>\n",
              "      <th>nb_parking_places</th>\n",
              "      <th>nb_boxes</th>\n",
              "      <th>nb_photos</th>\n",
              "      <th>has_a_balcony</th>\n",
              "      <th>nb_terraces</th>\n",
              "      <th>has_a_cellar</th>\n",
              "      <th>has_a_garage</th>\n",
              "      <th>has_air_conditioning</th>\n",
              "      <th>last_floor</th>\n",
              "      <th>upper_floors</th>\n",
              "    </tr>\n",
              "    <tr>\n",
              "      <th>id_annonce</th>\n",
              "      <th></th>\n",
              "      <th></th>\n",
              "      <th></th>\n",
              "      <th></th>\n",
              "      <th></th>\n",
              "      <th></th>\n",
              "      <th></th>\n",
              "      <th></th>\n",
              "      <th></th>\n",
              "      <th></th>\n",
              "      <th></th>\n",
              "      <th></th>\n",
              "      <th></th>\n",
              "      <th></th>\n",
              "      <th></th>\n",
              "      <th></th>\n",
              "      <th></th>\n",
              "      <th></th>\n",
              "      <th></th>\n",
              "      <th></th>\n",
              "      <th></th>\n",
              "    </tr>\n",
              "  </thead>\n",
              "  <tbody>\n",
              "    <tr>\n",
              "      <th>35996577</th>\n",
              "      <td>appartement</td>\n",
              "      <td>43.643880</td>\n",
              "      <td>7.117183</td>\n",
              "      <td>villeneuve-loubet</td>\n",
              "      <td>6270</td>\n",
              "      <td>63.0</td>\n",
              "      <td>NaN</td>\n",
              "      <td>NaN</td>\n",
              "      <td>NaN</td>\n",
              "      <td>NaN</td>\n",
              "      <td>...</td>\n",
              "      <td>0.0</td>\n",
              "      <td>0.0</td>\n",
              "      <td>4.0</td>\n",
              "      <td>0.0</td>\n",
              "      <td>1.0</td>\n",
              "      <td>0.0</td>\n",
              "      <td>0.0</td>\n",
              "      <td>0.0</td>\n",
              "      <td>0.0</td>\n",
              "      <td>0.0</td>\n",
              "    </tr>\n",
              "    <tr>\n",
              "      <th>35811033</th>\n",
              "      <td>appartement</td>\n",
              "      <td>45.695757</td>\n",
              "      <td>4.895610</td>\n",
              "      <td>venissieux</td>\n",
              "      <td>69200</td>\n",
              "      <td>90.0</td>\n",
              "      <td>3.0</td>\n",
              "      <td>NaN</td>\n",
              "      <td>223.0</td>\n",
              "      <td>D</td>\n",
              "      <td>...</td>\n",
              "      <td>0.0</td>\n",
              "      <td>0.0</td>\n",
              "      <td>8.0</td>\n",
              "      <td>0.0</td>\n",
              "      <td>0.0</td>\n",
              "      <td>0.0</td>\n",
              "      <td>0.0</td>\n",
              "      <td>0.0</td>\n",
              "      <td>0.0</td>\n",
              "      <td>0.0</td>\n",
              "    </tr>\n",
              "    <tr>\n",
              "      <th>35731841</th>\n",
              "      <td>maison</td>\n",
              "      <td>47.966791</td>\n",
              "      <td>-1.220451</td>\n",
              "      <td>moutiers</td>\n",
              "      <td>35130</td>\n",
              "      <td>61.0</td>\n",
              "      <td>NaN</td>\n",
              "      <td>370.0</td>\n",
              "      <td>NaN</td>\n",
              "      <td>NaN</td>\n",
              "      <td>...</td>\n",
              "      <td>0.0</td>\n",
              "      <td>0.0</td>\n",
              "      <td>4.0</td>\n",
              "      <td>0.0</td>\n",
              "      <td>0.0</td>\n",
              "      <td>0.0</td>\n",
              "      <td>0.0</td>\n",
              "      <td>0.0</td>\n",
              "      <td>0.0</td>\n",
              "      <td>0.0</td>\n",
              "    </tr>\n",
              "    <tr>\n",
              "      <th>35886765</th>\n",
              "      <td>maison</td>\n",
              "      <td>47.289292</td>\n",
              "      <td>-1.878805</td>\n",
              "      <td>cordemais</td>\n",
              "      <td>44360</td>\n",
              "      <td>142.0</td>\n",
              "      <td>NaN</td>\n",
              "      <td>764.0</td>\n",
              "      <td>217.0</td>\n",
              "      <td>D</td>\n",
              "      <td>...</td>\n",
              "      <td>0.0</td>\n",
              "      <td>1.0</td>\n",
              "      <td>8.0</td>\n",
              "      <td>0.0</td>\n",
              "      <td>1.0</td>\n",
              "      <td>0.0</td>\n",
              "      <td>0.0</td>\n",
              "      <td>0.0</td>\n",
              "      <td>0.0</td>\n",
              "      <td>0.0</td>\n",
              "    </tr>\n",
              "    <tr>\n",
              "      <th>35781137</th>\n",
              "      <td>appartement</td>\n",
              "      <td>45.718992</td>\n",
              "      <td>4.844234</td>\n",
              "      <td>lyon-7eme</td>\n",
              "      <td>69007</td>\n",
              "      <td>88.0</td>\n",
              "      <td>3.0</td>\n",
              "      <td>NaN</td>\n",
              "      <td>NaN</td>\n",
              "      <td>NaN</td>\n",
              "      <td>...</td>\n",
              "      <td>0.0</td>\n",
              "      <td>1.0</td>\n",
              "      <td>5.0</td>\n",
              "      <td>1.0</td>\n",
              "      <td>0.0</td>\n",
              "      <td>0.0</td>\n",
              "      <td>0.0</td>\n",
              "      <td>0.0</td>\n",
              "      <td>0.0</td>\n",
              "      <td>0.0</td>\n",
              "    </tr>\n",
              "    <tr>\n",
              "      <th>...</th>\n",
              "      <td>...</td>\n",
              "      <td>...</td>\n",
              "      <td>...</td>\n",
              "      <td>...</td>\n",
              "      <td>...</td>\n",
              "      <td>...</td>\n",
              "      <td>...</td>\n",
              "      <td>...</td>\n",
              "      <td>...</td>\n",
              "      <td>...</td>\n",
              "      <td>...</td>\n",
              "      <td>...</td>\n",
              "      <td>...</td>\n",
              "      <td>...</td>\n",
              "      <td>...</td>\n",
              "      <td>...</td>\n",
              "      <td>...</td>\n",
              "      <td>...</td>\n",
              "      <td>...</td>\n",
              "      <td>...</td>\n",
              "      <td>...</td>\n",
              "    </tr>\n",
              "    <tr>\n",
              "      <th>35881571</th>\n",
              "      <td>appartement</td>\n",
              "      <td>43.480292</td>\n",
              "      <td>-1.484324</td>\n",
              "      <td>bayonne</td>\n",
              "      <td>64100</td>\n",
              "      <td>2995.0</td>\n",
              "      <td>NaN</td>\n",
              "      <td>NaN</td>\n",
              "      <td>255.0</td>\n",
              "      <td>E</td>\n",
              "      <td>...</td>\n",
              "      <td>0.0</td>\n",
              "      <td>0.0</td>\n",
              "      <td>7.0</td>\n",
              "      <td>0.0</td>\n",
              "      <td>0.0</td>\n",
              "      <td>0.0</td>\n",
              "      <td>0.0</td>\n",
              "      <td>0.0</td>\n",
              "      <td>0.0</td>\n",
              "      <td>0.0</td>\n",
              "    </tr>\n",
              "    <tr>\n",
              "      <th>35890109</th>\n",
              "      <td>appartement</td>\n",
              "      <td>48.861391</td>\n",
              "      <td>2.401158</td>\n",
              "      <td>paris-20eme</td>\n",
              "      <td>75020</td>\n",
              "      <td>36.0</td>\n",
              "      <td>4.0</td>\n",
              "      <td>NaN</td>\n",
              "      <td>229.0</td>\n",
              "      <td>D</td>\n",
              "      <td>...</td>\n",
              "      <td>0.0</td>\n",
              "      <td>0.0</td>\n",
              "      <td>8.0</td>\n",
              "      <td>0.0</td>\n",
              "      <td>0.0</td>\n",
              "      <td>0.0</td>\n",
              "      <td>0.0</td>\n",
              "      <td>0.0</td>\n",
              "      <td>0.0</td>\n",
              "      <td>0.0</td>\n",
              "    </tr>\n",
              "    <tr>\n",
              "      <th>36010245</th>\n",
              "      <td>appartement</td>\n",
              "      <td>44.397837</td>\n",
              "      <td>-1.164312</td>\n",
              "      <td>biscarrosse</td>\n",
              "      <td>40600</td>\n",
              "      <td>99.0</td>\n",
              "      <td>2.0</td>\n",
              "      <td>NaN</td>\n",
              "      <td>NaN</td>\n",
              "      <td>NaN</td>\n",
              "      <td>...</td>\n",
              "      <td>1.0</td>\n",
              "      <td>0.0</td>\n",
              "      <td>5.0</td>\n",
              "      <td>1.0</td>\n",
              "      <td>0.0</td>\n",
              "      <td>0.0</td>\n",
              "      <td>0.0</td>\n",
              "      <td>0.0</td>\n",
              "      <td>0.0</td>\n",
              "      <td>0.0</td>\n",
              "    </tr>\n",
              "    <tr>\n",
              "      <th>35864579</th>\n",
              "      <td>duplex</td>\n",
              "      <td>48.864204</td>\n",
              "      <td>2.808693</td>\n",
              "      <td>magny-le-hongre</td>\n",
              "      <td>77700</td>\n",
              "      <td>9281.0</td>\n",
              "      <td>NaN</td>\n",
              "      <td>NaN</td>\n",
              "      <td>NaN</td>\n",
              "      <td>NaN</td>\n",
              "      <td>...</td>\n",
              "      <td>1.0</td>\n",
              "      <td>0.0</td>\n",
              "      <td>5.0</td>\n",
              "      <td>0.0</td>\n",
              "      <td>0.0</td>\n",
              "      <td>0.0</td>\n",
              "      <td>0.0</td>\n",
              "      <td>0.0</td>\n",
              "      <td>0.0</td>\n",
              "      <td>0.0</td>\n",
              "    </tr>\n",
              "    <tr>\n",
              "      <th>35748883</th>\n",
              "      <td>maison</td>\n",
              "      <td>46.032306</td>\n",
              "      <td>1.966711</td>\n",
              "      <td>le-donzeil</td>\n",
              "      <td>23480</td>\n",
              "      <td>90.0</td>\n",
              "      <td>NaN</td>\n",
              "      <td>600.0</td>\n",
              "      <td>NaN</td>\n",
              "      <td>NaN</td>\n",
              "      <td>...</td>\n",
              "      <td>0.0</td>\n",
              "      <td>0.0</td>\n",
              "      <td>22.0</td>\n",
              "      <td>0.0</td>\n",
              "      <td>0.0</td>\n",
              "      <td>0.0</td>\n",
              "      <td>0.0</td>\n",
              "      <td>0.0</td>\n",
              "      <td>0.0</td>\n",
              "      <td>0.0</td>\n",
              "    </tr>\n",
              "  </tbody>\n",
              "</table>\n",
              "<p>37368 rows × 26 columns</p>\n",
              "</div>\n",
              "      <button class=\"colab-df-convert\" onclick=\"convertToInteractive('df-a74c2703-f4c3-496b-b28d-63e3b4b6071d')\"\n",
              "              title=\"Convert this dataframe to an interactive table.\"\n",
              "              style=\"display:none;\">\n",
              "        \n",
              "  <svg xmlns=\"http://www.w3.org/2000/svg\" height=\"24px\"viewBox=\"0 0 24 24\"\n",
              "       width=\"24px\">\n",
              "    <path d=\"M0 0h24v24H0V0z\" fill=\"none\"/>\n",
              "    <path d=\"M18.56 5.44l.94 2.06.94-2.06 2.06-.94-2.06-.94-.94-2.06-.94 2.06-2.06.94zm-11 1L8.5 8.5l.94-2.06 2.06-.94-2.06-.94L8.5 2.5l-.94 2.06-2.06.94zm10 10l.94 2.06.94-2.06 2.06-.94-2.06-.94-.94-2.06-.94 2.06-2.06.94z\"/><path d=\"M17.41 7.96l-1.37-1.37c-.4-.4-.92-.59-1.43-.59-.52 0-1.04.2-1.43.59L10.3 9.45l-7.72 7.72c-.78.78-.78 2.05 0 2.83L4 21.41c.39.39.9.59 1.41.59.51 0 1.02-.2 1.41-.59l7.78-7.78 2.81-2.81c.8-.78.8-2.07 0-2.86zM5.41 20L4 18.59l7.72-7.72 1.47 1.35L5.41 20z\"/>\n",
              "  </svg>\n",
              "      </button>\n",
              "      \n",
              "  <style>\n",
              "    .colab-df-container {\n",
              "      display:flex;\n",
              "      flex-wrap:wrap;\n",
              "      gap: 12px;\n",
              "    }\n",
              "\n",
              "    .colab-df-convert {\n",
              "      background-color: #E8F0FE;\n",
              "      border: none;\n",
              "      border-radius: 50%;\n",
              "      cursor: pointer;\n",
              "      display: none;\n",
              "      fill: #1967D2;\n",
              "      height: 32px;\n",
              "      padding: 0 0 0 0;\n",
              "      width: 32px;\n",
              "    }\n",
              "\n",
              "    .colab-df-convert:hover {\n",
              "      background-color: #E2EBFA;\n",
              "      box-shadow: 0px 1px 2px rgba(60, 64, 67, 0.3), 0px 1px 3px 1px rgba(60, 64, 67, 0.15);\n",
              "      fill: #174EA6;\n",
              "    }\n",
              "\n",
              "    [theme=dark] .colab-df-convert {\n",
              "      background-color: #3B4455;\n",
              "      fill: #D2E3FC;\n",
              "    }\n",
              "\n",
              "    [theme=dark] .colab-df-convert:hover {\n",
              "      background-color: #434B5C;\n",
              "      box-shadow: 0px 1px 3px 1px rgba(0, 0, 0, 0.15);\n",
              "      filter: drop-shadow(0px 1px 2px rgba(0, 0, 0, 0.3));\n",
              "      fill: #FFFFFF;\n",
              "    }\n",
              "  </style>\n",
              "\n",
              "      <script>\n",
              "        const buttonEl =\n",
              "          document.querySelector('#df-a74c2703-f4c3-496b-b28d-63e3b4b6071d button.colab-df-convert');\n",
              "        buttonEl.style.display =\n",
              "          google.colab.kernel.accessAllowed ? 'block' : 'none';\n",
              "\n",
              "        async function convertToInteractive(key) {\n",
              "          const element = document.querySelector('#df-a74c2703-f4c3-496b-b28d-63e3b4b6071d');\n",
              "          const dataTable =\n",
              "            await google.colab.kernel.invokeFunction('convertToInteractive',\n",
              "                                                     [key], {});\n",
              "          if (!dataTable) return;\n",
              "\n",
              "          const docLinkHtml = 'Like what you see? Visit the ' +\n",
              "            '<a target=\"_blank\" href=https://colab.research.google.com/notebooks/data_table.ipynb>data table notebook</a>'\n",
              "            + ' to learn more about interactive tables.';\n",
              "          element.innerHTML = '';\n",
              "          dataTable['output_type'] = 'display_data';\n",
              "          await google.colab.output.renderOutput(dataTable, element);\n",
              "          const docLink = document.createElement('div');\n",
              "          docLink.innerHTML = docLinkHtml;\n",
              "          element.appendChild(docLink);\n",
              "        }\n",
              "      </script>\n",
              "    </div>\n",
              "  </div>\n",
              "  "
            ]
          },
          "metadata": {},
          "execution_count": 5
        }
      ]
    },
    {
      "cell_type": "code",
      "source": [
        "targets"
      ],
      "metadata": {
        "id": "-crkogmBMRAo",
        "colab": {
          "base_uri": "https://localhost:8080/",
          "height": 455
        },
        "outputId": "05be4051-22e0-4641-e3c2-5d0cec806b5a"
      },
      "execution_count": null,
      "outputs": [
        {
          "output_type": "execute_result",
          "data": {
            "text/plain": [
              "               price\n",
              "id_annonce          \n",
              "35996577    355000.0\n",
              "35811033    190000.0\n",
              "35731841     39000.0\n",
              "35886765    299000.0\n",
              "35781137    478000.0\n",
              "...              ...\n",
              "35881571    190000.0\n",
              "35890109    399000.0\n",
              "36010245    328000.0\n",
              "35864579    463000.0\n",
              "35748883     69930.0\n",
              "\n",
              "[37368 rows x 1 columns]"
            ],
            "text/html": [
              "\n",
              "  <div id=\"df-4d99e03b-3f64-4496-bc80-bccc7a66e25b\">\n",
              "    <div class=\"colab-df-container\">\n",
              "      <div>\n",
              "<style scoped>\n",
              "    .dataframe tbody tr th:only-of-type {\n",
              "        vertical-align: middle;\n",
              "    }\n",
              "\n",
              "    .dataframe tbody tr th {\n",
              "        vertical-align: top;\n",
              "    }\n",
              "\n",
              "    .dataframe thead th {\n",
              "        text-align: right;\n",
              "    }\n",
              "</style>\n",
              "<table border=\"1\" class=\"dataframe\">\n",
              "  <thead>\n",
              "    <tr style=\"text-align: right;\">\n",
              "      <th></th>\n",
              "      <th>price</th>\n",
              "    </tr>\n",
              "    <tr>\n",
              "      <th>id_annonce</th>\n",
              "      <th></th>\n",
              "    </tr>\n",
              "  </thead>\n",
              "  <tbody>\n",
              "    <tr>\n",
              "      <th>35996577</th>\n",
              "      <td>355000.0</td>\n",
              "    </tr>\n",
              "    <tr>\n",
              "      <th>35811033</th>\n",
              "      <td>190000.0</td>\n",
              "    </tr>\n",
              "    <tr>\n",
              "      <th>35731841</th>\n",
              "      <td>39000.0</td>\n",
              "    </tr>\n",
              "    <tr>\n",
              "      <th>35886765</th>\n",
              "      <td>299000.0</td>\n",
              "    </tr>\n",
              "    <tr>\n",
              "      <th>35781137</th>\n",
              "      <td>478000.0</td>\n",
              "    </tr>\n",
              "    <tr>\n",
              "      <th>...</th>\n",
              "      <td>...</td>\n",
              "    </tr>\n",
              "    <tr>\n",
              "      <th>35881571</th>\n",
              "      <td>190000.0</td>\n",
              "    </tr>\n",
              "    <tr>\n",
              "      <th>35890109</th>\n",
              "      <td>399000.0</td>\n",
              "    </tr>\n",
              "    <tr>\n",
              "      <th>36010245</th>\n",
              "      <td>328000.0</td>\n",
              "    </tr>\n",
              "    <tr>\n",
              "      <th>35864579</th>\n",
              "      <td>463000.0</td>\n",
              "    </tr>\n",
              "    <tr>\n",
              "      <th>35748883</th>\n",
              "      <td>69930.0</td>\n",
              "    </tr>\n",
              "  </tbody>\n",
              "</table>\n",
              "<p>37368 rows × 1 columns</p>\n",
              "</div>\n",
              "      <button class=\"colab-df-convert\" onclick=\"convertToInteractive('df-4d99e03b-3f64-4496-bc80-bccc7a66e25b')\"\n",
              "              title=\"Convert this dataframe to an interactive table.\"\n",
              "              style=\"display:none;\">\n",
              "        \n",
              "  <svg xmlns=\"http://www.w3.org/2000/svg\" height=\"24px\"viewBox=\"0 0 24 24\"\n",
              "       width=\"24px\">\n",
              "    <path d=\"M0 0h24v24H0V0z\" fill=\"none\"/>\n",
              "    <path d=\"M18.56 5.44l.94 2.06.94-2.06 2.06-.94-2.06-.94-.94-2.06-.94 2.06-2.06.94zm-11 1L8.5 8.5l.94-2.06 2.06-.94-2.06-.94L8.5 2.5l-.94 2.06-2.06.94zm10 10l.94 2.06.94-2.06 2.06-.94-2.06-.94-.94-2.06-.94 2.06-2.06.94z\"/><path d=\"M17.41 7.96l-1.37-1.37c-.4-.4-.92-.59-1.43-.59-.52 0-1.04.2-1.43.59L10.3 9.45l-7.72 7.72c-.78.78-.78 2.05 0 2.83L4 21.41c.39.39.9.59 1.41.59.51 0 1.02-.2 1.41-.59l7.78-7.78 2.81-2.81c.8-.78.8-2.07 0-2.86zM5.41 20L4 18.59l7.72-7.72 1.47 1.35L5.41 20z\"/>\n",
              "  </svg>\n",
              "      </button>\n",
              "      \n",
              "  <style>\n",
              "    .colab-df-container {\n",
              "      display:flex;\n",
              "      flex-wrap:wrap;\n",
              "      gap: 12px;\n",
              "    }\n",
              "\n",
              "    .colab-df-convert {\n",
              "      background-color: #E8F0FE;\n",
              "      border: none;\n",
              "      border-radius: 50%;\n",
              "      cursor: pointer;\n",
              "      display: none;\n",
              "      fill: #1967D2;\n",
              "      height: 32px;\n",
              "      padding: 0 0 0 0;\n",
              "      width: 32px;\n",
              "    }\n",
              "\n",
              "    .colab-df-convert:hover {\n",
              "      background-color: #E2EBFA;\n",
              "      box-shadow: 0px 1px 2px rgba(60, 64, 67, 0.3), 0px 1px 3px 1px rgba(60, 64, 67, 0.15);\n",
              "      fill: #174EA6;\n",
              "    }\n",
              "\n",
              "    [theme=dark] .colab-df-convert {\n",
              "      background-color: #3B4455;\n",
              "      fill: #D2E3FC;\n",
              "    }\n",
              "\n",
              "    [theme=dark] .colab-df-convert:hover {\n",
              "      background-color: #434B5C;\n",
              "      box-shadow: 0px 1px 3px 1px rgba(0, 0, 0, 0.15);\n",
              "      filter: drop-shadow(0px 1px 2px rgba(0, 0, 0, 0.3));\n",
              "      fill: #FFFFFF;\n",
              "    }\n",
              "  </style>\n",
              "\n",
              "      <script>\n",
              "        const buttonEl =\n",
              "          document.querySelector('#df-4d99e03b-3f64-4496-bc80-bccc7a66e25b button.colab-df-convert');\n",
              "        buttonEl.style.display =\n",
              "          google.colab.kernel.accessAllowed ? 'block' : 'none';\n",
              "\n",
              "        async function convertToInteractive(key) {\n",
              "          const element = document.querySelector('#df-4d99e03b-3f64-4496-bc80-bccc7a66e25b');\n",
              "          const dataTable =\n",
              "            await google.colab.kernel.invokeFunction('convertToInteractive',\n",
              "                                                     [key], {});\n",
              "          if (!dataTable) return;\n",
              "\n",
              "          const docLinkHtml = 'Like what you see? Visit the ' +\n",
              "            '<a target=\"_blank\" href=https://colab.research.google.com/notebooks/data_table.ipynb>data table notebook</a>'\n",
              "            + ' to learn more about interactive tables.';\n",
              "          element.innerHTML = '';\n",
              "          dataTable['output_type'] = 'display_data';\n",
              "          await google.colab.output.renderOutput(dataTable, element);\n",
              "          const docLink = document.createElement('div');\n",
              "          docLink.innerHTML = docLinkHtml;\n",
              "          element.appendChild(docLink);\n",
              "        }\n",
              "      </script>\n",
              "    </div>\n",
              "  </div>\n",
              "  "
            ]
          },
          "metadata": {},
          "execution_count": 6
        }
      ]
    },
    {
      "cell_type": "code",
      "source": [
        "# Ver en que tipo de dato se guardan los índices\n",
        "\n",
        "targets.index.dtype"
      ],
      "metadata": {
        "id": "86tqUgysP8RM",
        "colab": {
          "base_uri": "https://localhost:8080/"
        },
        "outputId": "7ade111f-f281-4718-9536-53a43e4cca86"
      },
      "execution_count": null,
      "outputs": [
        {
          "output_type": "execute_result",
          "data": {
            "text/plain": [
              "dtype('int64')"
            ]
          },
          "metadata": {},
          "execution_count": 7
        }
      ]
    },
    {
      "cell_type": "code",
      "source": [
        "# Revisar cantidad de datos nulos (bruto o porcentual)\n",
        "\n",
        "to_drop = features.isnull().sum()/len(features)\n",
        "to_drop"
      ],
      "metadata": {
        "id": "K7ukKILKQWdD",
        "colab": {
          "base_uri": "https://localhost:8080/"
        },
        "outputId": "291fea7a-f4ba-4e6e-e8bb-1eb5e18613f5"
      },
      "execution_count": null,
      "outputs": [
        {
          "output_type": "execute_result",
          "data": {
            "text/plain": [
              "property_type                  0.000000\n",
              "approximate_latitude           0.000000\n",
              "approximate_longitude          0.000000\n",
              "city                           0.000000\n",
              "postal_code                    0.000000\n",
              "size                           0.013702\n",
              "floor                          0.739269\n",
              "land_size                      0.583039\n",
              "energy_performance_value       0.489724\n",
              "energy_performance_category    0.489724\n",
              "ghg_value                      0.504121\n",
              "ghg_category                   0.504121\n",
              "exposition                     0.756637\n",
              "nb_rooms                       0.041908\n",
              "nb_bedrooms                    0.073137\n",
              "nb_bathrooms                   0.355197\n",
              "nb_parking_places              0.000000\n",
              "nb_boxes                       0.000000\n",
              "nb_photos                      0.000000\n",
              "has_a_balcony                  0.000000\n",
              "nb_terraces                    0.000000\n",
              "has_a_cellar                   0.000000\n",
              "has_a_garage                   0.000000\n",
              "has_air_conditioning           0.000000\n",
              "last_floor                     0.000000\n",
              "upper_floors                   0.000000\n",
              "dtype: float64"
            ]
          },
          "metadata": {},
          "execution_count": 8
        }
      ]
    },
    {
      "cell_type": "code",
      "source": [
        "to_drop[to_drop > .40]"
      ],
      "metadata": {
        "colab": {
          "base_uri": "https://localhost:8080/"
        },
        "id": "FMHGgHeBXFHN",
        "outputId": "6ffeadfe-3bea-4394-eb0b-032e773c5ff8"
      },
      "execution_count": null,
      "outputs": [
        {
          "output_type": "execute_result",
          "data": {
            "text/plain": [
              "floor                          0.739269\n",
              "land_size                      0.583039\n",
              "energy_performance_value       0.489724\n",
              "energy_performance_category    0.489724\n",
              "ghg_value                      0.504121\n",
              "ghg_category                   0.504121\n",
              "exposition                     0.756637\n",
              "dtype: float64"
            ]
          },
          "metadata": {},
          "execution_count": 9
        }
      ]
    },
    {
      "cell_type": "code",
      "source": [
        "index_to_drop = to_drop[to_drop > .40].index.drop('land_size')"
      ],
      "metadata": {
        "id": "cY6awsoyXUr5"
      },
      "execution_count": null,
      "outputs": []
    },
    {
      "cell_type": "code",
      "source": [
        "index_to_drop"
      ],
      "metadata": {
        "colab": {
          "base_uri": "https://localhost:8080/"
        },
        "id": "EoAvHMb4YCgu",
        "outputId": "f4f5b5f5-7544-4138-dd09-c06c2cbccd2e"
      },
      "execution_count": null,
      "outputs": [
        {
          "output_type": "execute_result",
          "data": {
            "text/plain": [
              "Index(['floor', 'energy_performance_value', 'energy_performance_category',\n",
              "       'ghg_value', 'ghg_category', 'exposition'],\n",
              "      dtype='object')"
            ]
          },
          "metadata": {},
          "execution_count": 11
        }
      ]
    },
    {
      "cell_type": "code",
      "source": [
        "features.drop(columns=index_to_drop, inplace=True)\n",
        "features"
      ],
      "metadata": {
        "colab": {
          "base_uri": "https://localhost:8080/",
          "height": 571
        },
        "id": "8aplKVHdX4Ho",
        "outputId": "d3533c08-c478-4c90-fb95-91d3c30efd32"
      },
      "execution_count": null,
      "outputs": [
        {
          "output_type": "execute_result",
          "data": {
            "text/plain": [
              "           property_type  approximate_latitude  approximate_longitude  \\\n",
              "id_annonce                                                              \n",
              "35996577     appartement             43.643880               7.117183   \n",
              "35811033     appartement             45.695757               4.895610   \n",
              "35731841          maison             47.966791              -1.220451   \n",
              "35886765          maison             47.289292              -1.878805   \n",
              "35781137     appartement             45.718992               4.844234   \n",
              "...                  ...                   ...                    ...   \n",
              "35881571     appartement             43.480292              -1.484324   \n",
              "35890109     appartement             48.861391               2.401158   \n",
              "36010245     appartement             44.397837              -1.164312   \n",
              "35864579          duplex             48.864204               2.808693   \n",
              "35748883          maison             46.032306               1.966711   \n",
              "\n",
              "                         city  postal_code    size  land_size  nb_rooms  \\\n",
              "id_annonce                                                                \n",
              "35996577    villeneuve-loubet         6270    63.0        NaN       3.0   \n",
              "35811033           venissieux        69200    90.0        NaN       5.0   \n",
              "35731841             moutiers        35130    61.0      370.0       2.0   \n",
              "35886765            cordemais        44360   142.0      764.0       4.0   \n",
              "35781137            lyon-7eme        69007    88.0        NaN       4.0   \n",
              "...                       ...          ...     ...        ...       ...   \n",
              "35881571              bayonne        64100  2995.0        NaN       1.0   \n",
              "35890109          paris-20eme        75020    36.0        NaN       2.0   \n",
              "36010245          biscarrosse        40600    99.0        NaN       4.0   \n",
              "35864579      magny-le-hongre        77700  9281.0        NaN       5.0   \n",
              "35748883           le-donzeil        23480    90.0      600.0       4.0   \n",
              "\n",
              "            nb_bedrooms  nb_bathrooms  nb_parking_places  nb_boxes  nb_photos  \\\n",
              "id_annonce                                                                      \n",
              "35996577            2.0           NaN                0.0       0.0        4.0   \n",
              "35811033            4.0           NaN                0.0       0.0        8.0   \n",
              "35731841            1.0           NaN                0.0       0.0        4.0   \n",
              "35886765            3.0           NaN                0.0       1.0        8.0   \n",
              "35781137            3.0           1.0                0.0       1.0        5.0   \n",
              "...                 ...           ...                ...       ...        ...   \n",
              "35881571            NaN           1.0                0.0       0.0        7.0   \n",
              "35890109            1.0           NaN                0.0       0.0        8.0   \n",
              "36010245            3.0           NaN                1.0       0.0        5.0   \n",
              "35864579            4.0           NaN                1.0       0.0        5.0   \n",
              "35748883            3.0           NaN                0.0       0.0       22.0   \n",
              "\n",
              "            has_a_balcony  nb_terraces  has_a_cellar  has_a_garage  \\\n",
              "id_annonce                                                           \n",
              "35996577              0.0          1.0           0.0           0.0   \n",
              "35811033              0.0          0.0           0.0           0.0   \n",
              "35731841              0.0          0.0           0.0           0.0   \n",
              "35886765              0.0          1.0           0.0           0.0   \n",
              "35781137              1.0          0.0           0.0           0.0   \n",
              "...                   ...          ...           ...           ...   \n",
              "35881571              0.0          0.0           0.0           0.0   \n",
              "35890109              0.0          0.0           0.0           0.0   \n",
              "36010245              1.0          0.0           0.0           0.0   \n",
              "35864579              0.0          0.0           0.0           0.0   \n",
              "35748883              0.0          0.0           0.0           0.0   \n",
              "\n",
              "            has_air_conditioning  last_floor  upper_floors  \n",
              "id_annonce                                                  \n",
              "35996577                     0.0         0.0           0.0  \n",
              "35811033                     0.0         0.0           0.0  \n",
              "35731841                     0.0         0.0           0.0  \n",
              "35886765                     0.0         0.0           0.0  \n",
              "35781137                     0.0         0.0           0.0  \n",
              "...                          ...         ...           ...  \n",
              "35881571                     0.0         0.0           0.0  \n",
              "35890109                     0.0         0.0           0.0  \n",
              "36010245                     0.0         0.0           0.0  \n",
              "35864579                     0.0         0.0           0.0  \n",
              "35748883                     0.0         0.0           0.0  \n",
              "\n",
              "[37368 rows x 20 columns]"
            ],
            "text/html": [
              "\n",
              "  <div id=\"df-8e53e8ee-7fcf-46fd-b300-898783e5a6b8\">\n",
              "    <div class=\"colab-df-container\">\n",
              "      <div>\n",
              "<style scoped>\n",
              "    .dataframe tbody tr th:only-of-type {\n",
              "        vertical-align: middle;\n",
              "    }\n",
              "\n",
              "    .dataframe tbody tr th {\n",
              "        vertical-align: top;\n",
              "    }\n",
              "\n",
              "    .dataframe thead th {\n",
              "        text-align: right;\n",
              "    }\n",
              "</style>\n",
              "<table border=\"1\" class=\"dataframe\">\n",
              "  <thead>\n",
              "    <tr style=\"text-align: right;\">\n",
              "      <th></th>\n",
              "      <th>property_type</th>\n",
              "      <th>approximate_latitude</th>\n",
              "      <th>approximate_longitude</th>\n",
              "      <th>city</th>\n",
              "      <th>postal_code</th>\n",
              "      <th>size</th>\n",
              "      <th>land_size</th>\n",
              "      <th>nb_rooms</th>\n",
              "      <th>nb_bedrooms</th>\n",
              "      <th>nb_bathrooms</th>\n",
              "      <th>nb_parking_places</th>\n",
              "      <th>nb_boxes</th>\n",
              "      <th>nb_photos</th>\n",
              "      <th>has_a_balcony</th>\n",
              "      <th>nb_terraces</th>\n",
              "      <th>has_a_cellar</th>\n",
              "      <th>has_a_garage</th>\n",
              "      <th>has_air_conditioning</th>\n",
              "      <th>last_floor</th>\n",
              "      <th>upper_floors</th>\n",
              "    </tr>\n",
              "    <tr>\n",
              "      <th>id_annonce</th>\n",
              "      <th></th>\n",
              "      <th></th>\n",
              "      <th></th>\n",
              "      <th></th>\n",
              "      <th></th>\n",
              "      <th></th>\n",
              "      <th></th>\n",
              "      <th></th>\n",
              "      <th></th>\n",
              "      <th></th>\n",
              "      <th></th>\n",
              "      <th></th>\n",
              "      <th></th>\n",
              "      <th></th>\n",
              "      <th></th>\n",
              "      <th></th>\n",
              "      <th></th>\n",
              "      <th></th>\n",
              "      <th></th>\n",
              "      <th></th>\n",
              "    </tr>\n",
              "  </thead>\n",
              "  <tbody>\n",
              "    <tr>\n",
              "      <th>35996577</th>\n",
              "      <td>appartement</td>\n",
              "      <td>43.643880</td>\n",
              "      <td>7.117183</td>\n",
              "      <td>villeneuve-loubet</td>\n",
              "      <td>6270</td>\n",
              "      <td>63.0</td>\n",
              "      <td>NaN</td>\n",
              "      <td>3.0</td>\n",
              "      <td>2.0</td>\n",
              "      <td>NaN</td>\n",
              "      <td>0.0</td>\n",
              "      <td>0.0</td>\n",
              "      <td>4.0</td>\n",
              "      <td>0.0</td>\n",
              "      <td>1.0</td>\n",
              "      <td>0.0</td>\n",
              "      <td>0.0</td>\n",
              "      <td>0.0</td>\n",
              "      <td>0.0</td>\n",
              "      <td>0.0</td>\n",
              "    </tr>\n",
              "    <tr>\n",
              "      <th>35811033</th>\n",
              "      <td>appartement</td>\n",
              "      <td>45.695757</td>\n",
              "      <td>4.895610</td>\n",
              "      <td>venissieux</td>\n",
              "      <td>69200</td>\n",
              "      <td>90.0</td>\n",
              "      <td>NaN</td>\n",
              "      <td>5.0</td>\n",
              "      <td>4.0</td>\n",
              "      <td>NaN</td>\n",
              "      <td>0.0</td>\n",
              "      <td>0.0</td>\n",
              "      <td>8.0</td>\n",
              "      <td>0.0</td>\n",
              "      <td>0.0</td>\n",
              "      <td>0.0</td>\n",
              "      <td>0.0</td>\n",
              "      <td>0.0</td>\n",
              "      <td>0.0</td>\n",
              "      <td>0.0</td>\n",
              "    </tr>\n",
              "    <tr>\n",
              "      <th>35731841</th>\n",
              "      <td>maison</td>\n",
              "      <td>47.966791</td>\n",
              "      <td>-1.220451</td>\n",
              "      <td>moutiers</td>\n",
              "      <td>35130</td>\n",
              "      <td>61.0</td>\n",
              "      <td>370.0</td>\n",
              "      <td>2.0</td>\n",
              "      <td>1.0</td>\n",
              "      <td>NaN</td>\n",
              "      <td>0.0</td>\n",
              "      <td>0.0</td>\n",
              "      <td>4.0</td>\n",
              "      <td>0.0</td>\n",
              "      <td>0.0</td>\n",
              "      <td>0.0</td>\n",
              "      <td>0.0</td>\n",
              "      <td>0.0</td>\n",
              "      <td>0.0</td>\n",
              "      <td>0.0</td>\n",
              "    </tr>\n",
              "    <tr>\n",
              "      <th>35886765</th>\n",
              "      <td>maison</td>\n",
              "      <td>47.289292</td>\n",
              "      <td>-1.878805</td>\n",
              "      <td>cordemais</td>\n",
              "      <td>44360</td>\n",
              "      <td>142.0</td>\n",
              "      <td>764.0</td>\n",
              "      <td>4.0</td>\n",
              "      <td>3.0</td>\n",
              "      <td>NaN</td>\n",
              "      <td>0.0</td>\n",
              "      <td>1.0</td>\n",
              "      <td>8.0</td>\n",
              "      <td>0.0</td>\n",
              "      <td>1.0</td>\n",
              "      <td>0.0</td>\n",
              "      <td>0.0</td>\n",
              "      <td>0.0</td>\n",
              "      <td>0.0</td>\n",
              "      <td>0.0</td>\n",
              "    </tr>\n",
              "    <tr>\n",
              "      <th>35781137</th>\n",
              "      <td>appartement</td>\n",
              "      <td>45.718992</td>\n",
              "      <td>4.844234</td>\n",
              "      <td>lyon-7eme</td>\n",
              "      <td>69007</td>\n",
              "      <td>88.0</td>\n",
              "      <td>NaN</td>\n",
              "      <td>4.0</td>\n",
              "      <td>3.0</td>\n",
              "      <td>1.0</td>\n",
              "      <td>0.0</td>\n",
              "      <td>1.0</td>\n",
              "      <td>5.0</td>\n",
              "      <td>1.0</td>\n",
              "      <td>0.0</td>\n",
              "      <td>0.0</td>\n",
              "      <td>0.0</td>\n",
              "      <td>0.0</td>\n",
              "      <td>0.0</td>\n",
              "      <td>0.0</td>\n",
              "    </tr>\n",
              "    <tr>\n",
              "      <th>...</th>\n",
              "      <td>...</td>\n",
              "      <td>...</td>\n",
              "      <td>...</td>\n",
              "      <td>...</td>\n",
              "      <td>...</td>\n",
              "      <td>...</td>\n",
              "      <td>...</td>\n",
              "      <td>...</td>\n",
              "      <td>...</td>\n",
              "      <td>...</td>\n",
              "      <td>...</td>\n",
              "      <td>...</td>\n",
              "      <td>...</td>\n",
              "      <td>...</td>\n",
              "      <td>...</td>\n",
              "      <td>...</td>\n",
              "      <td>...</td>\n",
              "      <td>...</td>\n",
              "      <td>...</td>\n",
              "      <td>...</td>\n",
              "    </tr>\n",
              "    <tr>\n",
              "      <th>35881571</th>\n",
              "      <td>appartement</td>\n",
              "      <td>43.480292</td>\n",
              "      <td>-1.484324</td>\n",
              "      <td>bayonne</td>\n",
              "      <td>64100</td>\n",
              "      <td>2995.0</td>\n",
              "      <td>NaN</td>\n",
              "      <td>1.0</td>\n",
              "      <td>NaN</td>\n",
              "      <td>1.0</td>\n",
              "      <td>0.0</td>\n",
              "      <td>0.0</td>\n",
              "      <td>7.0</td>\n",
              "      <td>0.0</td>\n",
              "      <td>0.0</td>\n",
              "      <td>0.0</td>\n",
              "      <td>0.0</td>\n",
              "      <td>0.0</td>\n",
              "      <td>0.0</td>\n",
              "      <td>0.0</td>\n",
              "    </tr>\n",
              "    <tr>\n",
              "      <th>35890109</th>\n",
              "      <td>appartement</td>\n",
              "      <td>48.861391</td>\n",
              "      <td>2.401158</td>\n",
              "      <td>paris-20eme</td>\n",
              "      <td>75020</td>\n",
              "      <td>36.0</td>\n",
              "      <td>NaN</td>\n",
              "      <td>2.0</td>\n",
              "      <td>1.0</td>\n",
              "      <td>NaN</td>\n",
              "      <td>0.0</td>\n",
              "      <td>0.0</td>\n",
              "      <td>8.0</td>\n",
              "      <td>0.0</td>\n",
              "      <td>0.0</td>\n",
              "      <td>0.0</td>\n",
              "      <td>0.0</td>\n",
              "      <td>0.0</td>\n",
              "      <td>0.0</td>\n",
              "      <td>0.0</td>\n",
              "    </tr>\n",
              "    <tr>\n",
              "      <th>36010245</th>\n",
              "      <td>appartement</td>\n",
              "      <td>44.397837</td>\n",
              "      <td>-1.164312</td>\n",
              "      <td>biscarrosse</td>\n",
              "      <td>40600</td>\n",
              "      <td>99.0</td>\n",
              "      <td>NaN</td>\n",
              "      <td>4.0</td>\n",
              "      <td>3.0</td>\n",
              "      <td>NaN</td>\n",
              "      <td>1.0</td>\n",
              "      <td>0.0</td>\n",
              "      <td>5.0</td>\n",
              "      <td>1.0</td>\n",
              "      <td>0.0</td>\n",
              "      <td>0.0</td>\n",
              "      <td>0.0</td>\n",
              "      <td>0.0</td>\n",
              "      <td>0.0</td>\n",
              "      <td>0.0</td>\n",
              "    </tr>\n",
              "    <tr>\n",
              "      <th>35864579</th>\n",
              "      <td>duplex</td>\n",
              "      <td>48.864204</td>\n",
              "      <td>2.808693</td>\n",
              "      <td>magny-le-hongre</td>\n",
              "      <td>77700</td>\n",
              "      <td>9281.0</td>\n",
              "      <td>NaN</td>\n",
              "      <td>5.0</td>\n",
              "      <td>4.0</td>\n",
              "      <td>NaN</td>\n",
              "      <td>1.0</td>\n",
              "      <td>0.0</td>\n",
              "      <td>5.0</td>\n",
              "      <td>0.0</td>\n",
              "      <td>0.0</td>\n",
              "      <td>0.0</td>\n",
              "      <td>0.0</td>\n",
              "      <td>0.0</td>\n",
              "      <td>0.0</td>\n",
              "      <td>0.0</td>\n",
              "    </tr>\n",
              "    <tr>\n",
              "      <th>35748883</th>\n",
              "      <td>maison</td>\n",
              "      <td>46.032306</td>\n",
              "      <td>1.966711</td>\n",
              "      <td>le-donzeil</td>\n",
              "      <td>23480</td>\n",
              "      <td>90.0</td>\n",
              "      <td>600.0</td>\n",
              "      <td>4.0</td>\n",
              "      <td>3.0</td>\n",
              "      <td>NaN</td>\n",
              "      <td>0.0</td>\n",
              "      <td>0.0</td>\n",
              "      <td>22.0</td>\n",
              "      <td>0.0</td>\n",
              "      <td>0.0</td>\n",
              "      <td>0.0</td>\n",
              "      <td>0.0</td>\n",
              "      <td>0.0</td>\n",
              "      <td>0.0</td>\n",
              "      <td>0.0</td>\n",
              "    </tr>\n",
              "  </tbody>\n",
              "</table>\n",
              "<p>37368 rows × 20 columns</p>\n",
              "</div>\n",
              "      <button class=\"colab-df-convert\" onclick=\"convertToInteractive('df-8e53e8ee-7fcf-46fd-b300-898783e5a6b8')\"\n",
              "              title=\"Convert this dataframe to an interactive table.\"\n",
              "              style=\"display:none;\">\n",
              "        \n",
              "  <svg xmlns=\"http://www.w3.org/2000/svg\" height=\"24px\"viewBox=\"0 0 24 24\"\n",
              "       width=\"24px\">\n",
              "    <path d=\"M0 0h24v24H0V0z\" fill=\"none\"/>\n",
              "    <path d=\"M18.56 5.44l.94 2.06.94-2.06 2.06-.94-2.06-.94-.94-2.06-.94 2.06-2.06.94zm-11 1L8.5 8.5l.94-2.06 2.06-.94-2.06-.94L8.5 2.5l-.94 2.06-2.06.94zm10 10l.94 2.06.94-2.06 2.06-.94-2.06-.94-.94-2.06-.94 2.06-2.06.94z\"/><path d=\"M17.41 7.96l-1.37-1.37c-.4-.4-.92-.59-1.43-.59-.52 0-1.04.2-1.43.59L10.3 9.45l-7.72 7.72c-.78.78-.78 2.05 0 2.83L4 21.41c.39.39.9.59 1.41.59.51 0 1.02-.2 1.41-.59l7.78-7.78 2.81-2.81c.8-.78.8-2.07 0-2.86zM5.41 20L4 18.59l7.72-7.72 1.47 1.35L5.41 20z\"/>\n",
              "  </svg>\n",
              "      </button>\n",
              "      \n",
              "  <style>\n",
              "    .colab-df-container {\n",
              "      display:flex;\n",
              "      flex-wrap:wrap;\n",
              "      gap: 12px;\n",
              "    }\n",
              "\n",
              "    .colab-df-convert {\n",
              "      background-color: #E8F0FE;\n",
              "      border: none;\n",
              "      border-radius: 50%;\n",
              "      cursor: pointer;\n",
              "      display: none;\n",
              "      fill: #1967D2;\n",
              "      height: 32px;\n",
              "      padding: 0 0 0 0;\n",
              "      width: 32px;\n",
              "    }\n",
              "\n",
              "    .colab-df-convert:hover {\n",
              "      background-color: #E2EBFA;\n",
              "      box-shadow: 0px 1px 2px rgba(60, 64, 67, 0.3), 0px 1px 3px 1px rgba(60, 64, 67, 0.15);\n",
              "      fill: #174EA6;\n",
              "    }\n",
              "\n",
              "    [theme=dark] .colab-df-convert {\n",
              "      background-color: #3B4455;\n",
              "      fill: #D2E3FC;\n",
              "    }\n",
              "\n",
              "    [theme=dark] .colab-df-convert:hover {\n",
              "      background-color: #434B5C;\n",
              "      box-shadow: 0px 1px 3px 1px rgba(0, 0, 0, 0.15);\n",
              "      filter: drop-shadow(0px 1px 2px rgba(0, 0, 0, 0.3));\n",
              "      fill: #FFFFFF;\n",
              "    }\n",
              "  </style>\n",
              "\n",
              "      <script>\n",
              "        const buttonEl =\n",
              "          document.querySelector('#df-8e53e8ee-7fcf-46fd-b300-898783e5a6b8 button.colab-df-convert');\n",
              "        buttonEl.style.display =\n",
              "          google.colab.kernel.accessAllowed ? 'block' : 'none';\n",
              "\n",
              "        async function convertToInteractive(key) {\n",
              "          const element = document.querySelector('#df-8e53e8ee-7fcf-46fd-b300-898783e5a6b8');\n",
              "          const dataTable =\n",
              "            await google.colab.kernel.invokeFunction('convertToInteractive',\n",
              "                                                     [key], {});\n",
              "          if (!dataTable) return;\n",
              "\n",
              "          const docLinkHtml = 'Like what you see? Visit the ' +\n",
              "            '<a target=\"_blank\" href=https://colab.research.google.com/notebooks/data_table.ipynb>data table notebook</a>'\n",
              "            + ' to learn more about interactive tables.';\n",
              "          element.innerHTML = '';\n",
              "          dataTable['output_type'] = 'display_data';\n",
              "          await google.colab.output.renderOutput(dataTable, element);\n",
              "          const docLink = document.createElement('div');\n",
              "          docLink.innerHTML = docLinkHtml;\n",
              "          element.appendChild(docLink);\n",
              "        }\n",
              "      </script>\n",
              "    </div>\n",
              "  </div>\n",
              "  "
            ]
          },
          "metadata": {},
          "execution_count": 12
        }
      ]
    },
    {
      "cell_type": "code",
      "source": [
        "# Imprimir la cantidad de Columnas que nos quedan\n",
        "features.columns"
      ],
      "metadata": {
        "id": "q79FvU1PYTKo",
        "colab": {
          "base_uri": "https://localhost:8080/"
        },
        "outputId": "4c44efa8-7a2b-4d27-c8f4-6c3496c7f9e8"
      },
      "execution_count": null,
      "outputs": [
        {
          "output_type": "execute_result",
          "data": {
            "text/plain": [
              "Index(['property_type', 'approximate_latitude', 'approximate_longitude',\n",
              "       'city', 'postal_code', 'size', 'land_size', 'nb_rooms', 'nb_bedrooms',\n",
              "       'nb_bathrooms', 'nb_parking_places', 'nb_boxes', 'nb_photos',\n",
              "       'has_a_balcony', 'nb_terraces', 'has_a_cellar', 'has_a_garage',\n",
              "       'has_air_conditioning', 'last_floor', 'upper_floors'],\n",
              "      dtype='object')"
            ]
          },
          "metadata": {},
          "execution_count": 13
        }
      ]
    },
    {
      "cell_type": "markdown",
      "source": [
        "¿Que datos sugieres tomar y porqué?"
      ],
      "metadata": {
        "id": "LuqQ_5UkQp1Q"
      }
    },
    {
      "cell_type": "code",
      "source": [
        "# Limpieza de valores nulos por columnas y luego por filas\n",
        "\n"
      ],
      "metadata": {
        "id": "6AmrycwIQuwr"
      },
      "execution_count": null,
      "outputs": []
    },
    {
      "cell_type": "code",
      "source": [
        "to_drop_2 = features.property_type.value_counts()[4:].index\n",
        "to_drop_2"
      ],
      "metadata": {
        "id": "5wexBz07Q0hM",
        "colab": {
          "base_uri": "https://localhost:8080/"
        },
        "outputId": "7373d241-a6fa-4037-92db-176fbac55fd9"
      },
      "execution_count": null,
      "outputs": [
        {
          "output_type": "execute_result",
          "data": {
            "text/plain": [
              "Index(['villa', 'propriété', 'terrain à bâtir', 'duplex', 'viager', 'ferme',\n",
              "       'parking', 'loft', 'chalet', 'château', 'moulin', 'manoir', 'péniche',\n",
              "       'hôtel particulier', 'chambre', 'gîte', 'atelier', 'hôtel'],\n",
              "      dtype='object')"
            ]
          },
          "metadata": {},
          "execution_count": 15
        }
      ]
    },
    {
      "cell_type": "code",
      "source": [
        "features = features[~features.property_type.isin(to_drop_2)]\n",
        "features"
      ],
      "metadata": {
        "id": "j9R1S7lEaH4q",
        "colab": {
          "base_uri": "https://localhost:8080/",
          "height": 571
        },
        "outputId": "128963f3-4121-4ba4-d46e-14e9caf55e87"
      },
      "execution_count": null,
      "outputs": [
        {
          "output_type": "execute_result",
          "data": {
            "text/plain": [
              "           property_type  approximate_latitude  approximate_longitude  \\\n",
              "id_annonce                                                              \n",
              "35996577     appartement             43.643880               7.117183   \n",
              "35811033     appartement             45.695757               4.895610   \n",
              "35731841          maison             47.966791              -1.220451   \n",
              "35886765          maison             47.289292              -1.878805   \n",
              "35781137     appartement             45.718992               4.844234   \n",
              "...                  ...                   ...                    ...   \n",
              "35824079     appartement             46.259829               6.109434   \n",
              "35881571     appartement             43.480292              -1.484324   \n",
              "35890109     appartement             48.861391               2.401158   \n",
              "36010245     appartement             44.397837              -1.164312   \n",
              "35748883          maison             46.032306               1.966711   \n",
              "\n",
              "                         city  postal_code    size  land_size  nb_rooms  \\\n",
              "id_annonce                                                                \n",
              "35996577    villeneuve-loubet         6270    63.0        NaN       3.0   \n",
              "35811033           venissieux        69200    90.0        NaN       5.0   \n",
              "35731841             moutiers        35130    61.0      370.0       2.0   \n",
              "35886765            cordemais        44360   142.0      764.0       4.0   \n",
              "35781137            lyon-7eme        69007    88.0        NaN       4.0   \n",
              "...                       ...          ...     ...        ...       ...   \n",
              "35824079      ferney-voltaire         1210    95.0        NaN       4.0   \n",
              "35881571              bayonne        64100  2995.0        NaN       1.0   \n",
              "35890109          paris-20eme        75020    36.0        NaN       2.0   \n",
              "36010245          biscarrosse        40600    99.0        NaN       4.0   \n",
              "35748883           le-donzeil        23480    90.0      600.0       4.0   \n",
              "\n",
              "            nb_bedrooms  nb_bathrooms  nb_parking_places  nb_boxes  nb_photos  \\\n",
              "id_annonce                                                                      \n",
              "35996577            2.0           NaN                0.0       0.0        4.0   \n",
              "35811033            4.0           NaN                0.0       0.0        8.0   \n",
              "35731841            1.0           NaN                0.0       0.0        4.0   \n",
              "35886765            3.0           NaN                0.0       1.0        8.0   \n",
              "35781137            3.0           1.0                0.0       1.0        5.0   \n",
              "...                 ...           ...                ...       ...        ...   \n",
              "35824079            3.0           1.0                0.0       0.0        4.0   \n",
              "35881571            NaN           1.0                0.0       0.0        7.0   \n",
              "35890109            1.0           NaN                0.0       0.0        8.0   \n",
              "36010245            3.0           NaN                1.0       0.0        5.0   \n",
              "35748883            3.0           NaN                0.0       0.0       22.0   \n",
              "\n",
              "            has_a_balcony  nb_terraces  has_a_cellar  has_a_garage  \\\n",
              "id_annonce                                                           \n",
              "35996577              0.0          1.0           0.0           0.0   \n",
              "35811033              0.0          0.0           0.0           0.0   \n",
              "35731841              0.0          0.0           0.0           0.0   \n",
              "35886765              0.0          1.0           0.0           0.0   \n",
              "35781137              1.0          0.0           0.0           0.0   \n",
              "...                   ...          ...           ...           ...   \n",
              "35824079              0.0          0.0           0.0           0.0   \n",
              "35881571              0.0          0.0           0.0           0.0   \n",
              "35890109              0.0          0.0           0.0           0.0   \n",
              "36010245              1.0          0.0           0.0           0.0   \n",
              "35748883              0.0          0.0           0.0           0.0   \n",
              "\n",
              "            has_air_conditioning  last_floor  upper_floors  \n",
              "id_annonce                                                  \n",
              "35996577                     0.0         0.0           0.0  \n",
              "35811033                     0.0         0.0           0.0  \n",
              "35731841                     0.0         0.0           0.0  \n",
              "35886765                     0.0         0.0           0.0  \n",
              "35781137                     0.0         0.0           0.0  \n",
              "...                          ...         ...           ...  \n",
              "35824079                     0.0         0.0           0.0  \n",
              "35881571                     0.0         0.0           0.0  \n",
              "35890109                     0.0         0.0           0.0  \n",
              "36010245                     0.0         0.0           0.0  \n",
              "35748883                     0.0         0.0           0.0  \n",
              "\n",
              "[35079 rows x 20 columns]"
            ],
            "text/html": [
              "\n",
              "  <div id=\"df-e56f0860-b3f8-4bc0-9d54-d0be97f00c93\">\n",
              "    <div class=\"colab-df-container\">\n",
              "      <div>\n",
              "<style scoped>\n",
              "    .dataframe tbody tr th:only-of-type {\n",
              "        vertical-align: middle;\n",
              "    }\n",
              "\n",
              "    .dataframe tbody tr th {\n",
              "        vertical-align: top;\n",
              "    }\n",
              "\n",
              "    .dataframe thead th {\n",
              "        text-align: right;\n",
              "    }\n",
              "</style>\n",
              "<table border=\"1\" class=\"dataframe\">\n",
              "  <thead>\n",
              "    <tr style=\"text-align: right;\">\n",
              "      <th></th>\n",
              "      <th>property_type</th>\n",
              "      <th>approximate_latitude</th>\n",
              "      <th>approximate_longitude</th>\n",
              "      <th>city</th>\n",
              "      <th>postal_code</th>\n",
              "      <th>size</th>\n",
              "      <th>land_size</th>\n",
              "      <th>nb_rooms</th>\n",
              "      <th>nb_bedrooms</th>\n",
              "      <th>nb_bathrooms</th>\n",
              "      <th>nb_parking_places</th>\n",
              "      <th>nb_boxes</th>\n",
              "      <th>nb_photos</th>\n",
              "      <th>has_a_balcony</th>\n",
              "      <th>nb_terraces</th>\n",
              "      <th>has_a_cellar</th>\n",
              "      <th>has_a_garage</th>\n",
              "      <th>has_air_conditioning</th>\n",
              "      <th>last_floor</th>\n",
              "      <th>upper_floors</th>\n",
              "    </tr>\n",
              "    <tr>\n",
              "      <th>id_annonce</th>\n",
              "      <th></th>\n",
              "      <th></th>\n",
              "      <th></th>\n",
              "      <th></th>\n",
              "      <th></th>\n",
              "      <th></th>\n",
              "      <th></th>\n",
              "      <th></th>\n",
              "      <th></th>\n",
              "      <th></th>\n",
              "      <th></th>\n",
              "      <th></th>\n",
              "      <th></th>\n",
              "      <th></th>\n",
              "      <th></th>\n",
              "      <th></th>\n",
              "      <th></th>\n",
              "      <th></th>\n",
              "      <th></th>\n",
              "      <th></th>\n",
              "    </tr>\n",
              "  </thead>\n",
              "  <tbody>\n",
              "    <tr>\n",
              "      <th>35996577</th>\n",
              "      <td>appartement</td>\n",
              "      <td>43.643880</td>\n",
              "      <td>7.117183</td>\n",
              "      <td>villeneuve-loubet</td>\n",
              "      <td>6270</td>\n",
              "      <td>63.0</td>\n",
              "      <td>NaN</td>\n",
              "      <td>3.0</td>\n",
              "      <td>2.0</td>\n",
              "      <td>NaN</td>\n",
              "      <td>0.0</td>\n",
              "      <td>0.0</td>\n",
              "      <td>4.0</td>\n",
              "      <td>0.0</td>\n",
              "      <td>1.0</td>\n",
              "      <td>0.0</td>\n",
              "      <td>0.0</td>\n",
              "      <td>0.0</td>\n",
              "      <td>0.0</td>\n",
              "      <td>0.0</td>\n",
              "    </tr>\n",
              "    <tr>\n",
              "      <th>35811033</th>\n",
              "      <td>appartement</td>\n",
              "      <td>45.695757</td>\n",
              "      <td>4.895610</td>\n",
              "      <td>venissieux</td>\n",
              "      <td>69200</td>\n",
              "      <td>90.0</td>\n",
              "      <td>NaN</td>\n",
              "      <td>5.0</td>\n",
              "      <td>4.0</td>\n",
              "      <td>NaN</td>\n",
              "      <td>0.0</td>\n",
              "      <td>0.0</td>\n",
              "      <td>8.0</td>\n",
              "      <td>0.0</td>\n",
              "      <td>0.0</td>\n",
              "      <td>0.0</td>\n",
              "      <td>0.0</td>\n",
              "      <td>0.0</td>\n",
              "      <td>0.0</td>\n",
              "      <td>0.0</td>\n",
              "    </tr>\n",
              "    <tr>\n",
              "      <th>35731841</th>\n",
              "      <td>maison</td>\n",
              "      <td>47.966791</td>\n",
              "      <td>-1.220451</td>\n",
              "      <td>moutiers</td>\n",
              "      <td>35130</td>\n",
              "      <td>61.0</td>\n",
              "      <td>370.0</td>\n",
              "      <td>2.0</td>\n",
              "      <td>1.0</td>\n",
              "      <td>NaN</td>\n",
              "      <td>0.0</td>\n",
              "      <td>0.0</td>\n",
              "      <td>4.0</td>\n",
              "      <td>0.0</td>\n",
              "      <td>0.0</td>\n",
              "      <td>0.0</td>\n",
              "      <td>0.0</td>\n",
              "      <td>0.0</td>\n",
              "      <td>0.0</td>\n",
              "      <td>0.0</td>\n",
              "    </tr>\n",
              "    <tr>\n",
              "      <th>35886765</th>\n",
              "      <td>maison</td>\n",
              "      <td>47.289292</td>\n",
              "      <td>-1.878805</td>\n",
              "      <td>cordemais</td>\n",
              "      <td>44360</td>\n",
              "      <td>142.0</td>\n",
              "      <td>764.0</td>\n",
              "      <td>4.0</td>\n",
              "      <td>3.0</td>\n",
              "      <td>NaN</td>\n",
              "      <td>0.0</td>\n",
              "      <td>1.0</td>\n",
              "      <td>8.0</td>\n",
              "      <td>0.0</td>\n",
              "      <td>1.0</td>\n",
              "      <td>0.0</td>\n",
              "      <td>0.0</td>\n",
              "      <td>0.0</td>\n",
              "      <td>0.0</td>\n",
              "      <td>0.0</td>\n",
              "    </tr>\n",
              "    <tr>\n",
              "      <th>35781137</th>\n",
              "      <td>appartement</td>\n",
              "      <td>45.718992</td>\n",
              "      <td>4.844234</td>\n",
              "      <td>lyon-7eme</td>\n",
              "      <td>69007</td>\n",
              "      <td>88.0</td>\n",
              "      <td>NaN</td>\n",
              "      <td>4.0</td>\n",
              "      <td>3.0</td>\n",
              "      <td>1.0</td>\n",
              "      <td>0.0</td>\n",
              "      <td>1.0</td>\n",
              "      <td>5.0</td>\n",
              "      <td>1.0</td>\n",
              "      <td>0.0</td>\n",
              "      <td>0.0</td>\n",
              "      <td>0.0</td>\n",
              "      <td>0.0</td>\n",
              "      <td>0.0</td>\n",
              "      <td>0.0</td>\n",
              "    </tr>\n",
              "    <tr>\n",
              "      <th>...</th>\n",
              "      <td>...</td>\n",
              "      <td>...</td>\n",
              "      <td>...</td>\n",
              "      <td>...</td>\n",
              "      <td>...</td>\n",
              "      <td>...</td>\n",
              "      <td>...</td>\n",
              "      <td>...</td>\n",
              "      <td>...</td>\n",
              "      <td>...</td>\n",
              "      <td>...</td>\n",
              "      <td>...</td>\n",
              "      <td>...</td>\n",
              "      <td>...</td>\n",
              "      <td>...</td>\n",
              "      <td>...</td>\n",
              "      <td>...</td>\n",
              "      <td>...</td>\n",
              "      <td>...</td>\n",
              "      <td>...</td>\n",
              "    </tr>\n",
              "    <tr>\n",
              "      <th>35824079</th>\n",
              "      <td>appartement</td>\n",
              "      <td>46.259829</td>\n",
              "      <td>6.109434</td>\n",
              "      <td>ferney-voltaire</td>\n",
              "      <td>1210</td>\n",
              "      <td>95.0</td>\n",
              "      <td>NaN</td>\n",
              "      <td>4.0</td>\n",
              "      <td>3.0</td>\n",
              "      <td>1.0</td>\n",
              "      <td>0.0</td>\n",
              "      <td>0.0</td>\n",
              "      <td>4.0</td>\n",
              "      <td>0.0</td>\n",
              "      <td>0.0</td>\n",
              "      <td>0.0</td>\n",
              "      <td>0.0</td>\n",
              "      <td>0.0</td>\n",
              "      <td>0.0</td>\n",
              "      <td>0.0</td>\n",
              "    </tr>\n",
              "    <tr>\n",
              "      <th>35881571</th>\n",
              "      <td>appartement</td>\n",
              "      <td>43.480292</td>\n",
              "      <td>-1.484324</td>\n",
              "      <td>bayonne</td>\n",
              "      <td>64100</td>\n",
              "      <td>2995.0</td>\n",
              "      <td>NaN</td>\n",
              "      <td>1.0</td>\n",
              "      <td>NaN</td>\n",
              "      <td>1.0</td>\n",
              "      <td>0.0</td>\n",
              "      <td>0.0</td>\n",
              "      <td>7.0</td>\n",
              "      <td>0.0</td>\n",
              "      <td>0.0</td>\n",
              "      <td>0.0</td>\n",
              "      <td>0.0</td>\n",
              "      <td>0.0</td>\n",
              "      <td>0.0</td>\n",
              "      <td>0.0</td>\n",
              "    </tr>\n",
              "    <tr>\n",
              "      <th>35890109</th>\n",
              "      <td>appartement</td>\n",
              "      <td>48.861391</td>\n",
              "      <td>2.401158</td>\n",
              "      <td>paris-20eme</td>\n",
              "      <td>75020</td>\n",
              "      <td>36.0</td>\n",
              "      <td>NaN</td>\n",
              "      <td>2.0</td>\n",
              "      <td>1.0</td>\n",
              "      <td>NaN</td>\n",
              "      <td>0.0</td>\n",
              "      <td>0.0</td>\n",
              "      <td>8.0</td>\n",
              "      <td>0.0</td>\n",
              "      <td>0.0</td>\n",
              "      <td>0.0</td>\n",
              "      <td>0.0</td>\n",
              "      <td>0.0</td>\n",
              "      <td>0.0</td>\n",
              "      <td>0.0</td>\n",
              "    </tr>\n",
              "    <tr>\n",
              "      <th>36010245</th>\n",
              "      <td>appartement</td>\n",
              "      <td>44.397837</td>\n",
              "      <td>-1.164312</td>\n",
              "      <td>biscarrosse</td>\n",
              "      <td>40600</td>\n",
              "      <td>99.0</td>\n",
              "      <td>NaN</td>\n",
              "      <td>4.0</td>\n",
              "      <td>3.0</td>\n",
              "      <td>NaN</td>\n",
              "      <td>1.0</td>\n",
              "      <td>0.0</td>\n",
              "      <td>5.0</td>\n",
              "      <td>1.0</td>\n",
              "      <td>0.0</td>\n",
              "      <td>0.0</td>\n",
              "      <td>0.0</td>\n",
              "      <td>0.0</td>\n",
              "      <td>0.0</td>\n",
              "      <td>0.0</td>\n",
              "    </tr>\n",
              "    <tr>\n",
              "      <th>35748883</th>\n",
              "      <td>maison</td>\n",
              "      <td>46.032306</td>\n",
              "      <td>1.966711</td>\n",
              "      <td>le-donzeil</td>\n",
              "      <td>23480</td>\n",
              "      <td>90.0</td>\n",
              "      <td>600.0</td>\n",
              "      <td>4.0</td>\n",
              "      <td>3.0</td>\n",
              "      <td>NaN</td>\n",
              "      <td>0.0</td>\n",
              "      <td>0.0</td>\n",
              "      <td>22.0</td>\n",
              "      <td>0.0</td>\n",
              "      <td>0.0</td>\n",
              "      <td>0.0</td>\n",
              "      <td>0.0</td>\n",
              "      <td>0.0</td>\n",
              "      <td>0.0</td>\n",
              "      <td>0.0</td>\n",
              "    </tr>\n",
              "  </tbody>\n",
              "</table>\n",
              "<p>35079 rows × 20 columns</p>\n",
              "</div>\n",
              "      <button class=\"colab-df-convert\" onclick=\"convertToInteractive('df-e56f0860-b3f8-4bc0-9d54-d0be97f00c93')\"\n",
              "              title=\"Convert this dataframe to an interactive table.\"\n",
              "              style=\"display:none;\">\n",
              "        \n",
              "  <svg xmlns=\"http://www.w3.org/2000/svg\" height=\"24px\"viewBox=\"0 0 24 24\"\n",
              "       width=\"24px\">\n",
              "    <path d=\"M0 0h24v24H0V0z\" fill=\"none\"/>\n",
              "    <path d=\"M18.56 5.44l.94 2.06.94-2.06 2.06-.94-2.06-.94-.94-2.06-.94 2.06-2.06.94zm-11 1L8.5 8.5l.94-2.06 2.06-.94-2.06-.94L8.5 2.5l-.94 2.06-2.06.94zm10 10l.94 2.06.94-2.06 2.06-.94-2.06-.94-.94-2.06-.94 2.06-2.06.94z\"/><path d=\"M17.41 7.96l-1.37-1.37c-.4-.4-.92-.59-1.43-.59-.52 0-1.04.2-1.43.59L10.3 9.45l-7.72 7.72c-.78.78-.78 2.05 0 2.83L4 21.41c.39.39.9.59 1.41.59.51 0 1.02-.2 1.41-.59l7.78-7.78 2.81-2.81c.8-.78.8-2.07 0-2.86zM5.41 20L4 18.59l7.72-7.72 1.47 1.35L5.41 20z\"/>\n",
              "  </svg>\n",
              "      </button>\n",
              "      \n",
              "  <style>\n",
              "    .colab-df-container {\n",
              "      display:flex;\n",
              "      flex-wrap:wrap;\n",
              "      gap: 12px;\n",
              "    }\n",
              "\n",
              "    .colab-df-convert {\n",
              "      background-color: #E8F0FE;\n",
              "      border: none;\n",
              "      border-radius: 50%;\n",
              "      cursor: pointer;\n",
              "      display: none;\n",
              "      fill: #1967D2;\n",
              "      height: 32px;\n",
              "      padding: 0 0 0 0;\n",
              "      width: 32px;\n",
              "    }\n",
              "\n",
              "    .colab-df-convert:hover {\n",
              "      background-color: #E2EBFA;\n",
              "      box-shadow: 0px 1px 2px rgba(60, 64, 67, 0.3), 0px 1px 3px 1px rgba(60, 64, 67, 0.15);\n",
              "      fill: #174EA6;\n",
              "    }\n",
              "\n",
              "    [theme=dark] .colab-df-convert {\n",
              "      background-color: #3B4455;\n",
              "      fill: #D2E3FC;\n",
              "    }\n",
              "\n",
              "    [theme=dark] .colab-df-convert:hover {\n",
              "      background-color: #434B5C;\n",
              "      box-shadow: 0px 1px 3px 1px rgba(0, 0, 0, 0.15);\n",
              "      filter: drop-shadow(0px 1px 2px rgba(0, 0, 0, 0.3));\n",
              "      fill: #FFFFFF;\n",
              "    }\n",
              "  </style>\n",
              "\n",
              "      <script>\n",
              "        const buttonEl =\n",
              "          document.querySelector('#df-e56f0860-b3f8-4bc0-9d54-d0be97f00c93 button.colab-df-convert');\n",
              "        buttonEl.style.display =\n",
              "          google.colab.kernel.accessAllowed ? 'block' : 'none';\n",
              "\n",
              "        async function convertToInteractive(key) {\n",
              "          const element = document.querySelector('#df-e56f0860-b3f8-4bc0-9d54-d0be97f00c93');\n",
              "          const dataTable =\n",
              "            await google.colab.kernel.invokeFunction('convertToInteractive',\n",
              "                                                     [key], {});\n",
              "          if (!dataTable) return;\n",
              "\n",
              "          const docLinkHtml = 'Like what you see? Visit the ' +\n",
              "            '<a target=\"_blank\" href=https://colab.research.google.com/notebooks/data_table.ipynb>data table notebook</a>'\n",
              "            + ' to learn more about interactive tables.';\n",
              "          element.innerHTML = '';\n",
              "          dataTable['output_type'] = 'display_data';\n",
              "          await google.colab.output.renderOutput(dataTable, element);\n",
              "          const docLink = document.createElement('div');\n",
              "          docLink.innerHTML = docLinkHtml;\n",
              "          element.appendChild(docLink);\n",
              "        }\n",
              "      </script>\n",
              "    </div>\n",
              "  </div>\n",
              "  "
            ]
          },
          "metadata": {},
          "execution_count": 16
        }
      ]
    },
    {
      "cell_type": "markdown",
      "source": [
        "¿Vale la pena tomar datos geográficos? ¿Bajo que condiciones?"
      ],
      "metadata": {
        "id": "bOH5p4gcbzZE"
      }
    },
    {
      "cell_type": "code",
      "source": [
        "# Drop de las columnas 'approximate_latitude', 'approximate_longitude', 'city', 'postal_code'\n",
        "\n",
        "features = features.drop(columns=['approximate_latitude', 'approximate_longitude', 'city', 'postal_code'])"
      ],
      "metadata": {
        "id": "03q8454Vb-DE"
      },
      "execution_count": null,
      "outputs": []
    },
    {
      "cell_type": "code",
      "source": [
        "# Deshacerme por filas\n",
        "features = features.dropna()"
      ],
      "metadata": {
        "id": "-cr3hgRELiY7"
      },
      "execution_count": null,
      "outputs": []
    },
    {
      "cell_type": "code",
      "source": [
        "features.property_type.value_counts()"
      ],
      "metadata": {
        "colab": {
          "base_uri": "https://localhost:8080/"
        },
        "id": "6sdHGR6oLkbh",
        "outputId": "f09e8618-e979-4cb3-cd53-2896ff62f055"
      },
      "execution_count": null,
      "outputs": [
        {
          "output_type": "execute_result",
          "data": {
            "text/plain": [
              "maison         9139\n",
              "appartement     520\n",
              "terrain         434\n",
              "divers           50\n",
              "Name: property_type, dtype: int64"
            ]
          },
          "metadata": {},
          "execution_count": 19
        }
      ]
    },
    {
      "cell_type": "code",
      "source": [
        "# Dummies\n",
        "\n",
        "features = pd.get_dummies(features)"
      ],
      "metadata": {
        "id": "44AW_0WudQpG"
      },
      "execution_count": null,
      "outputs": []
    },
    {
      "cell_type": "code",
      "source": [
        "features"
      ],
      "metadata": {
        "colab": {
          "base_uri": "https://localhost:8080/",
          "height": 519
        },
        "id": "MhhM3pO0MLRV",
        "outputId": "8ee2ebf0-441d-4867-d1ad-b09198f73ada"
      },
      "execution_count": null,
      "outputs": [
        {
          "output_type": "execute_result",
          "data": {
            "text/plain": [
              "              size  land_size  nb_rooms  nb_bedrooms  nb_bathrooms  \\\n",
              "id_annonce                                                           \n",
              "36058309     110.0      392.0       4.0          3.0           1.0   \n",
              "35999115     100.0       78.0       4.0          3.0           1.0   \n",
              "36042341     147.0      439.0       5.0          6.0           1.0   \n",
              "35738297     102.0      229.0       5.0          3.0           1.0   \n",
              "35805297     110.0      335.0       5.0          2.0           1.0   \n",
              "...            ...        ...       ...          ...           ...   \n",
              "32535599     120.0      524.0       5.0          3.0           1.0   \n",
              "32781341     250.0     1600.0       5.0          4.0           1.0   \n",
              "36046569     125.0      202.0       5.0          4.0           1.0   \n",
              "35655751     190.0     4000.0       7.0          5.0           1.0   \n",
              "35884551    1507.0      405.0       6.0          3.0           1.0   \n",
              "\n",
              "            nb_parking_places  nb_boxes  nb_photos  has_a_balcony  \\\n",
              "id_annonce                                                          \n",
              "36058309                  1.0       1.0        8.0            0.0   \n",
              "35999115                  0.0       0.0       11.0            0.0   \n",
              "36042341                  1.0       0.0       10.0            0.0   \n",
              "35738297                  0.0       0.0        9.0            0.0   \n",
              "35805297                  0.0       0.0       10.0            0.0   \n",
              "...                       ...       ...        ...            ...   \n",
              "32535599                  1.0       0.0        8.0            0.0   \n",
              "32781341                  0.0       0.0       10.0            0.0   \n",
              "36046569                  0.0       0.0        7.0            0.0   \n",
              "35655751                  0.0       0.0        8.0            0.0   \n",
              "35884551                  0.0       0.0        6.0            0.0   \n",
              "\n",
              "            nb_terraces  has_a_cellar  has_a_garage  has_air_conditioning  \\\n",
              "id_annonce                                                                  \n",
              "36058309            0.0           0.0           0.0                   0.0   \n",
              "35999115            0.0           0.0           0.0                   0.0   \n",
              "36042341            0.0           0.0           0.0                   0.0   \n",
              "35738297            0.0           1.0           0.0                   1.0   \n",
              "35805297            0.0           0.0           0.0                   0.0   \n",
              "...                 ...           ...           ...                   ...   \n",
              "32535599            1.0           0.0           0.0                   0.0   \n",
              "32781341            0.0           0.0           0.0                   0.0   \n",
              "36046569            0.0           0.0           0.0                   0.0   \n",
              "35655751            0.0           0.0           1.0                   0.0   \n",
              "35884551            0.0           0.0           1.0                   0.0   \n",
              "\n",
              "            last_floor  upper_floors  property_type_appartement  \\\n",
              "id_annonce                                                        \n",
              "36058309           0.0           0.0                          0   \n",
              "35999115           0.0           0.0                          0   \n",
              "36042341           0.0           0.0                          0   \n",
              "35738297           0.0           0.0                          0   \n",
              "35805297           0.0           0.0                          0   \n",
              "...                ...           ...                        ...   \n",
              "32535599           0.0           0.0                          0   \n",
              "32781341           0.0           0.0                          0   \n",
              "36046569           0.0           0.0                          0   \n",
              "35655751           0.0           0.0                          0   \n",
              "35884551           0.0           0.0                          0   \n",
              "\n",
              "            property_type_divers  property_type_maison  property_type_terrain  \n",
              "id_annonce                                                                     \n",
              "36058309                       0                     1                      0  \n",
              "35999115                       0                     1                      0  \n",
              "36042341                       0                     1                      0  \n",
              "35738297                       0                     1                      0  \n",
              "35805297                       0                     1                      0  \n",
              "...                          ...                   ...                    ...  \n",
              "32535599                       0                     1                      0  \n",
              "32781341                       0                     1                      0  \n",
              "36046569                       0                     1                      0  \n",
              "35655751                       0                     1                      0  \n",
              "35884551                       0                     1                      0  \n",
              "\n",
              "[10143 rows x 19 columns]"
            ],
            "text/html": [
              "\n",
              "  <div id=\"df-cf8272b9-5aa6-467d-9455-574ccc8d0183\">\n",
              "    <div class=\"colab-df-container\">\n",
              "      <div>\n",
              "<style scoped>\n",
              "    .dataframe tbody tr th:only-of-type {\n",
              "        vertical-align: middle;\n",
              "    }\n",
              "\n",
              "    .dataframe tbody tr th {\n",
              "        vertical-align: top;\n",
              "    }\n",
              "\n",
              "    .dataframe thead th {\n",
              "        text-align: right;\n",
              "    }\n",
              "</style>\n",
              "<table border=\"1\" class=\"dataframe\">\n",
              "  <thead>\n",
              "    <tr style=\"text-align: right;\">\n",
              "      <th></th>\n",
              "      <th>size</th>\n",
              "      <th>land_size</th>\n",
              "      <th>nb_rooms</th>\n",
              "      <th>nb_bedrooms</th>\n",
              "      <th>nb_bathrooms</th>\n",
              "      <th>nb_parking_places</th>\n",
              "      <th>nb_boxes</th>\n",
              "      <th>nb_photos</th>\n",
              "      <th>has_a_balcony</th>\n",
              "      <th>nb_terraces</th>\n",
              "      <th>has_a_cellar</th>\n",
              "      <th>has_a_garage</th>\n",
              "      <th>has_air_conditioning</th>\n",
              "      <th>last_floor</th>\n",
              "      <th>upper_floors</th>\n",
              "      <th>property_type_appartement</th>\n",
              "      <th>property_type_divers</th>\n",
              "      <th>property_type_maison</th>\n",
              "      <th>property_type_terrain</th>\n",
              "    </tr>\n",
              "    <tr>\n",
              "      <th>id_annonce</th>\n",
              "      <th></th>\n",
              "      <th></th>\n",
              "      <th></th>\n",
              "      <th></th>\n",
              "      <th></th>\n",
              "      <th></th>\n",
              "      <th></th>\n",
              "      <th></th>\n",
              "      <th></th>\n",
              "      <th></th>\n",
              "      <th></th>\n",
              "      <th></th>\n",
              "      <th></th>\n",
              "      <th></th>\n",
              "      <th></th>\n",
              "      <th></th>\n",
              "      <th></th>\n",
              "      <th></th>\n",
              "      <th></th>\n",
              "    </tr>\n",
              "  </thead>\n",
              "  <tbody>\n",
              "    <tr>\n",
              "      <th>36058309</th>\n",
              "      <td>110.0</td>\n",
              "      <td>392.0</td>\n",
              "      <td>4.0</td>\n",
              "      <td>3.0</td>\n",
              "      <td>1.0</td>\n",
              "      <td>1.0</td>\n",
              "      <td>1.0</td>\n",
              "      <td>8.0</td>\n",
              "      <td>0.0</td>\n",
              "      <td>0.0</td>\n",
              "      <td>0.0</td>\n",
              "      <td>0.0</td>\n",
              "      <td>0.0</td>\n",
              "      <td>0.0</td>\n",
              "      <td>0.0</td>\n",
              "      <td>0</td>\n",
              "      <td>0</td>\n",
              "      <td>1</td>\n",
              "      <td>0</td>\n",
              "    </tr>\n",
              "    <tr>\n",
              "      <th>35999115</th>\n",
              "      <td>100.0</td>\n",
              "      <td>78.0</td>\n",
              "      <td>4.0</td>\n",
              "      <td>3.0</td>\n",
              "      <td>1.0</td>\n",
              "      <td>0.0</td>\n",
              "      <td>0.0</td>\n",
              "      <td>11.0</td>\n",
              "      <td>0.0</td>\n",
              "      <td>0.0</td>\n",
              "      <td>0.0</td>\n",
              "      <td>0.0</td>\n",
              "      <td>0.0</td>\n",
              "      <td>0.0</td>\n",
              "      <td>0.0</td>\n",
              "      <td>0</td>\n",
              "      <td>0</td>\n",
              "      <td>1</td>\n",
              "      <td>0</td>\n",
              "    </tr>\n",
              "    <tr>\n",
              "      <th>36042341</th>\n",
              "      <td>147.0</td>\n",
              "      <td>439.0</td>\n",
              "      <td>5.0</td>\n",
              "      <td>6.0</td>\n",
              "      <td>1.0</td>\n",
              "      <td>1.0</td>\n",
              "      <td>0.0</td>\n",
              "      <td>10.0</td>\n",
              "      <td>0.0</td>\n",
              "      <td>0.0</td>\n",
              "      <td>0.0</td>\n",
              "      <td>0.0</td>\n",
              "      <td>0.0</td>\n",
              "      <td>0.0</td>\n",
              "      <td>0.0</td>\n",
              "      <td>0</td>\n",
              "      <td>0</td>\n",
              "      <td>1</td>\n",
              "      <td>0</td>\n",
              "    </tr>\n",
              "    <tr>\n",
              "      <th>35738297</th>\n",
              "      <td>102.0</td>\n",
              "      <td>229.0</td>\n",
              "      <td>5.0</td>\n",
              "      <td>3.0</td>\n",
              "      <td>1.0</td>\n",
              "      <td>0.0</td>\n",
              "      <td>0.0</td>\n",
              "      <td>9.0</td>\n",
              "      <td>0.0</td>\n",
              "      <td>0.0</td>\n",
              "      <td>1.0</td>\n",
              "      <td>0.0</td>\n",
              "      <td>1.0</td>\n",
              "      <td>0.0</td>\n",
              "      <td>0.0</td>\n",
              "      <td>0</td>\n",
              "      <td>0</td>\n",
              "      <td>1</td>\n",
              "      <td>0</td>\n",
              "    </tr>\n",
              "    <tr>\n",
              "      <th>35805297</th>\n",
              "      <td>110.0</td>\n",
              "      <td>335.0</td>\n",
              "      <td>5.0</td>\n",
              "      <td>2.0</td>\n",
              "      <td>1.0</td>\n",
              "      <td>0.0</td>\n",
              "      <td>0.0</td>\n",
              "      <td>10.0</td>\n",
              "      <td>0.0</td>\n",
              "      <td>0.0</td>\n",
              "      <td>0.0</td>\n",
              "      <td>0.0</td>\n",
              "      <td>0.0</td>\n",
              "      <td>0.0</td>\n",
              "      <td>0.0</td>\n",
              "      <td>0</td>\n",
              "      <td>0</td>\n",
              "      <td>1</td>\n",
              "      <td>0</td>\n",
              "    </tr>\n",
              "    <tr>\n",
              "      <th>...</th>\n",
              "      <td>...</td>\n",
              "      <td>...</td>\n",
              "      <td>...</td>\n",
              "      <td>...</td>\n",
              "      <td>...</td>\n",
              "      <td>...</td>\n",
              "      <td>...</td>\n",
              "      <td>...</td>\n",
              "      <td>...</td>\n",
              "      <td>...</td>\n",
              "      <td>...</td>\n",
              "      <td>...</td>\n",
              "      <td>...</td>\n",
              "      <td>...</td>\n",
              "      <td>...</td>\n",
              "      <td>...</td>\n",
              "      <td>...</td>\n",
              "      <td>...</td>\n",
              "      <td>...</td>\n",
              "    </tr>\n",
              "    <tr>\n",
              "      <th>32535599</th>\n",
              "      <td>120.0</td>\n",
              "      <td>524.0</td>\n",
              "      <td>5.0</td>\n",
              "      <td>3.0</td>\n",
              "      <td>1.0</td>\n",
              "      <td>1.0</td>\n",
              "      <td>0.0</td>\n",
              "      <td>8.0</td>\n",
              "      <td>0.0</td>\n",
              "      <td>1.0</td>\n",
              "      <td>0.0</td>\n",
              "      <td>0.0</td>\n",
              "      <td>0.0</td>\n",
              "      <td>0.0</td>\n",
              "      <td>0.0</td>\n",
              "      <td>0</td>\n",
              "      <td>0</td>\n",
              "      <td>1</td>\n",
              "      <td>0</td>\n",
              "    </tr>\n",
              "    <tr>\n",
              "      <th>32781341</th>\n",
              "      <td>250.0</td>\n",
              "      <td>1600.0</td>\n",
              "      <td>5.0</td>\n",
              "      <td>4.0</td>\n",
              "      <td>1.0</td>\n",
              "      <td>0.0</td>\n",
              "      <td>0.0</td>\n",
              "      <td>10.0</td>\n",
              "      <td>0.0</td>\n",
              "      <td>0.0</td>\n",
              "      <td>0.0</td>\n",
              "      <td>0.0</td>\n",
              "      <td>0.0</td>\n",
              "      <td>0.0</td>\n",
              "      <td>0.0</td>\n",
              "      <td>0</td>\n",
              "      <td>0</td>\n",
              "      <td>1</td>\n",
              "      <td>0</td>\n",
              "    </tr>\n",
              "    <tr>\n",
              "      <th>36046569</th>\n",
              "      <td>125.0</td>\n",
              "      <td>202.0</td>\n",
              "      <td>5.0</td>\n",
              "      <td>4.0</td>\n",
              "      <td>1.0</td>\n",
              "      <td>0.0</td>\n",
              "      <td>0.0</td>\n",
              "      <td>7.0</td>\n",
              "      <td>0.0</td>\n",
              "      <td>0.0</td>\n",
              "      <td>0.0</td>\n",
              "      <td>0.0</td>\n",
              "      <td>0.0</td>\n",
              "      <td>0.0</td>\n",
              "      <td>0.0</td>\n",
              "      <td>0</td>\n",
              "      <td>0</td>\n",
              "      <td>1</td>\n",
              "      <td>0</td>\n",
              "    </tr>\n",
              "    <tr>\n",
              "      <th>35655751</th>\n",
              "      <td>190.0</td>\n",
              "      <td>4000.0</td>\n",
              "      <td>7.0</td>\n",
              "      <td>5.0</td>\n",
              "      <td>1.0</td>\n",
              "      <td>0.0</td>\n",
              "      <td>0.0</td>\n",
              "      <td>8.0</td>\n",
              "      <td>0.0</td>\n",
              "      <td>0.0</td>\n",
              "      <td>0.0</td>\n",
              "      <td>1.0</td>\n",
              "      <td>0.0</td>\n",
              "      <td>0.0</td>\n",
              "      <td>0.0</td>\n",
              "      <td>0</td>\n",
              "      <td>0</td>\n",
              "      <td>1</td>\n",
              "      <td>0</td>\n",
              "    </tr>\n",
              "    <tr>\n",
              "      <th>35884551</th>\n",
              "      <td>1507.0</td>\n",
              "      <td>405.0</td>\n",
              "      <td>6.0</td>\n",
              "      <td>3.0</td>\n",
              "      <td>1.0</td>\n",
              "      <td>0.0</td>\n",
              "      <td>0.0</td>\n",
              "      <td>6.0</td>\n",
              "      <td>0.0</td>\n",
              "      <td>0.0</td>\n",
              "      <td>0.0</td>\n",
              "      <td>1.0</td>\n",
              "      <td>0.0</td>\n",
              "      <td>0.0</td>\n",
              "      <td>0.0</td>\n",
              "      <td>0</td>\n",
              "      <td>0</td>\n",
              "      <td>1</td>\n",
              "      <td>0</td>\n",
              "    </tr>\n",
              "  </tbody>\n",
              "</table>\n",
              "<p>10143 rows × 19 columns</p>\n",
              "</div>\n",
              "      <button class=\"colab-df-convert\" onclick=\"convertToInteractive('df-cf8272b9-5aa6-467d-9455-574ccc8d0183')\"\n",
              "              title=\"Convert this dataframe to an interactive table.\"\n",
              "              style=\"display:none;\">\n",
              "        \n",
              "  <svg xmlns=\"http://www.w3.org/2000/svg\" height=\"24px\"viewBox=\"0 0 24 24\"\n",
              "       width=\"24px\">\n",
              "    <path d=\"M0 0h24v24H0V0z\" fill=\"none\"/>\n",
              "    <path d=\"M18.56 5.44l.94 2.06.94-2.06 2.06-.94-2.06-.94-.94-2.06-.94 2.06-2.06.94zm-11 1L8.5 8.5l.94-2.06 2.06-.94-2.06-.94L8.5 2.5l-.94 2.06-2.06.94zm10 10l.94 2.06.94-2.06 2.06-.94-2.06-.94-.94-2.06-.94 2.06-2.06.94z\"/><path d=\"M17.41 7.96l-1.37-1.37c-.4-.4-.92-.59-1.43-.59-.52 0-1.04.2-1.43.59L10.3 9.45l-7.72 7.72c-.78.78-.78 2.05 0 2.83L4 21.41c.39.39.9.59 1.41.59.51 0 1.02-.2 1.41-.59l7.78-7.78 2.81-2.81c.8-.78.8-2.07 0-2.86zM5.41 20L4 18.59l7.72-7.72 1.47 1.35L5.41 20z\"/>\n",
              "  </svg>\n",
              "      </button>\n",
              "      \n",
              "  <style>\n",
              "    .colab-df-container {\n",
              "      display:flex;\n",
              "      flex-wrap:wrap;\n",
              "      gap: 12px;\n",
              "    }\n",
              "\n",
              "    .colab-df-convert {\n",
              "      background-color: #E8F0FE;\n",
              "      border: none;\n",
              "      border-radius: 50%;\n",
              "      cursor: pointer;\n",
              "      display: none;\n",
              "      fill: #1967D2;\n",
              "      height: 32px;\n",
              "      padding: 0 0 0 0;\n",
              "      width: 32px;\n",
              "    }\n",
              "\n",
              "    .colab-df-convert:hover {\n",
              "      background-color: #E2EBFA;\n",
              "      box-shadow: 0px 1px 2px rgba(60, 64, 67, 0.3), 0px 1px 3px 1px rgba(60, 64, 67, 0.15);\n",
              "      fill: #174EA6;\n",
              "    }\n",
              "\n",
              "    [theme=dark] .colab-df-convert {\n",
              "      background-color: #3B4455;\n",
              "      fill: #D2E3FC;\n",
              "    }\n",
              "\n",
              "    [theme=dark] .colab-df-convert:hover {\n",
              "      background-color: #434B5C;\n",
              "      box-shadow: 0px 1px 3px 1px rgba(0, 0, 0, 0.15);\n",
              "      filter: drop-shadow(0px 1px 2px rgba(0, 0, 0, 0.3));\n",
              "      fill: #FFFFFF;\n",
              "    }\n",
              "  </style>\n",
              "\n",
              "      <script>\n",
              "        const buttonEl =\n",
              "          document.querySelector('#df-cf8272b9-5aa6-467d-9455-574ccc8d0183 button.colab-df-convert');\n",
              "        buttonEl.style.display =\n",
              "          google.colab.kernel.accessAllowed ? 'block' : 'none';\n",
              "\n",
              "        async function convertToInteractive(key) {\n",
              "          const element = document.querySelector('#df-cf8272b9-5aa6-467d-9455-574ccc8d0183');\n",
              "          const dataTable =\n",
              "            await google.colab.kernel.invokeFunction('convertToInteractive',\n",
              "                                                     [key], {});\n",
              "          if (!dataTable) return;\n",
              "\n",
              "          const docLinkHtml = 'Like what you see? Visit the ' +\n",
              "            '<a target=\"_blank\" href=https://colab.research.google.com/notebooks/data_table.ipynb>data table notebook</a>'\n",
              "            + ' to learn more about interactive tables.';\n",
              "          element.innerHTML = '';\n",
              "          dataTable['output_type'] = 'display_data';\n",
              "          await google.colab.output.renderOutput(dataTable, element);\n",
              "          const docLink = document.createElement('div');\n",
              "          docLink.innerHTML = docLinkHtml;\n",
              "          element.appendChild(docLink);\n",
              "        }\n",
              "      </script>\n",
              "    </div>\n",
              "  </div>\n",
              "  "
            ]
          },
          "metadata": {},
          "execution_count": 21
        }
      ]
    },
    {
      "cell_type": "code",
      "source": [
        "features.columns"
      ],
      "metadata": {
        "colab": {
          "base_uri": "https://localhost:8080/"
        },
        "id": "2jac_HbtLpNi",
        "outputId": "1bc6c8ae-1344-4329-8ecc-c7632639ebec"
      },
      "execution_count": null,
      "outputs": [
        {
          "output_type": "execute_result",
          "data": {
            "text/plain": [
              "Index(['size', 'land_size', 'nb_rooms', 'nb_bedrooms', 'nb_bathrooms',\n",
              "       'nb_parking_places', 'nb_boxes', 'nb_photos', 'has_a_balcony',\n",
              "       'nb_terraces', 'has_a_cellar', 'has_a_garage', 'has_air_conditioning',\n",
              "       'last_floor', 'upper_floors', 'property_type_appartement',\n",
              "       'property_type_divers', 'property_type_maison',\n",
              "       'property_type_terrain'],\n",
              "      dtype='object')"
            ]
          },
          "metadata": {},
          "execution_count": 22
        }
      ]
    },
    {
      "cell_type": "code",
      "source": [
        "# Eliminamos bastante, pero nos quedan 10,000 datos para trabajar con imágenes, un número decente\n",
        "features.isnull().sum().sum()"
      ],
      "metadata": {
        "colab": {
          "base_uri": "https://localhost:8080/"
        },
        "id": "wmNiMhCyd0bJ",
        "outputId": "6389e4db-6007-43f4-e0c4-e60efe0776e9"
      },
      "execution_count": null,
      "outputs": [
        {
          "output_type": "execute_result",
          "data": {
            "text/plain": [
              "0"
            ]
          },
          "metadata": {},
          "execution_count": 23
        }
      ]
    },
    {
      "cell_type": "markdown",
      "source": [
        "# Carga de imágenes\n",
        "\n",
        "Aquí utilizaremos los ID de los features, para extraer las imágenes que nos convengan del archivo zip, por ahora solo extraremos una imagen por cada índice"
      ],
      "metadata": {
        "id": "-BGZ1u6xPl2e"
      }
    },
    {
      "cell_type": "code",
      "source": [
        "import zipfile\n",
        "import os\n",
        "\n",
        "from skimage import io\n",
        "from skimage.transform import resize\n",
        "\n",
        "from matplotlib import image\n",
        "import matplotlib.pyplot as plt"
      ],
      "metadata": {
        "id": "C3DNLKlCeJPY"
      },
      "execution_count": null,
      "outputs": []
    },
    {
      "cell_type": "code",
      "source": [
        "archive = zipfile.ZipFile('/content/drive/MyDrive/Curso-WorkingAnalyst/semana10/reduced_images_ILB.zip', 'r')"
      ],
      "metadata": {
        "id": "UUehDUe_eXyA"
      },
      "execution_count": null,
      "outputs": []
    },
    {
      "cell_type": "code",
      "source": [
        "# Extrae todo lo que hay en el .zip. Es temporal, a menos que a \".extractall\" le pasen como argumento\n",
        "# alguna dirección donde quieren guardar sus archivos en Drive.\n",
        "# Ejemplo: archive.extractall('/content/drive/su_carpeta')\n",
        "\n",
        "# 1 min 7 seg\n",
        "archive.extractall()"
      ],
      "metadata": {
        "id": "ALULJR9VeeQq"
      },
      "execution_count": null,
      "outputs": []
    },
    {
      "cell_type": "code",
      "source": [
        "# Lista de los nombres de carpetas, para relacionarlo con los ID de los csv cargados al principio\n",
        "carpetas_imgs = features.index"
      ],
      "metadata": {
        "id": "SlzRozEYDtOX"
      },
      "execution_count": null,
      "outputs": []
    },
    {
      "cell_type": "code",
      "source": [
        "carpetas_imgs"
      ],
      "metadata": {
        "colab": {
          "base_uri": "https://localhost:8080/"
        },
        "id": "dRz0A3pAHFf6",
        "outputId": "ec6eb24a-7db9-4896-8ae8-8cd7845400bd"
      },
      "execution_count": null,
      "outputs": [
        {
          "output_type": "execute_result",
          "data": {
            "text/plain": [
              "Int64Index([36058309, 35999115, 36042341, 35738297, 35805297, 35997109,\n",
              "            36003641, 36013375, 35765901, 35800669,\n",
              "            ...\n",
              "            36038313, 35776739, 35845473, 35844993, 35755849, 32535599,\n",
              "            32781341, 36046569, 35655751, 35884551],\n",
              "           dtype='int64', name='id_annonce', length=10143)"
            ]
          },
          "metadata": {},
          "execution_count": 28
        }
      ]
    },
    {
      "cell_type": "code",
      "source": [
        "len(carpetas_imgs)"
      ],
      "metadata": {
        "colab": {
          "base_uri": "https://localhost:8080/"
        },
        "id": "x0q0MhDz833S",
        "outputId": "6666bbb6-a0c9-4084-b06c-12e9e3589185"
      },
      "execution_count": null,
      "outputs": [
        {
          "output_type": "execute_result",
          "data": {
            "text/plain": [
              "10143"
            ]
          },
          "metadata": {},
          "execution_count": 29
        }
      ]
    },
    {
      "cell_type": "code",
      "source": [
        "# Cargamos las imagenes (46s) TENER CUIDADO DE USARLO CON NO TANTAS IMAGENES\n",
        "\n",
        "indexs = []\n",
        "list_imgs = []\n",
        "for image_id in carpetas_imgs:\n",
        "  path = '/content/reduced_images/train/' + 'ann_' + str(image_id)\n",
        "  \n",
        "  # Obtiene todas las imagenes dentro del path dado\n",
        "  img_names = os.listdir(path)\n",
        "\n",
        "  indexs.append(image_id)\n",
        "\n",
        "  image_array = image.imread(path + '/' + img_names[0])\n",
        "  #image_array = resize(image_array, (160, 120)) # En general esta linea puede dar problemas de RAM, dependiendo hay que decidir como reescalar\n",
        "\n",
        "\n",
        "  list_imgs.append([image_array])"
      ],
      "metadata": {
        "id": "Dt5cHBY7Sppf"
      },
      "execution_count": null,
      "outputs": []
    },
    {
      "cell_type": "code",
      "source": [
        "print(len(list_imgs))\n",
        "print('-------')\n",
        "print(len(indexs))"
      ],
      "metadata": {
        "id": "n6u3EFFGf2N4",
        "colab": {
          "base_uri": "https://localhost:8080/"
        },
        "outputId": "d0aef585-5ddf-468f-aadf-82b73e33c773"
      },
      "execution_count": null,
      "outputs": [
        {
          "output_type": "stream",
          "name": "stdout",
          "text": [
            "10143\n",
            "-------\n",
            "10143\n"
          ]
        }
      ]
    },
    {
      "cell_type": "code",
      "source": [
        "df_images = pd.DataFrame(list_imgs, index=indexs, columns=['image_array'])"
      ],
      "metadata": {
        "id": "aIpMKFcLl-P0"
      },
      "execution_count": null,
      "outputs": []
    },
    {
      "cell_type": "code",
      "source": [
        "df_images"
      ],
      "metadata": {
        "colab": {
          "base_uri": "https://localhost:8080/",
          "height": 424
        },
        "id": "seL_8CZ4gBOs",
        "outputId": "a4955aba-8a63-4c4c-cd00-3657a86d97a0"
      },
      "execution_count": null,
      "outputs": [
        {
          "output_type": "execute_result",
          "data": {
            "text/plain": [
              "                                                image_array\n",
              "36058309  [[[101, 108, 116], [104, 108, 117], [105, 109,...\n",
              "35999115  [[[206, 210, 219], [206, 210, 219], [205, 209,...\n",
              "36042341  [[[177, 164, 145], [166, 155, 135], [142, 135,...\n",
              "35738297  [[[162, 106, 89], [161, 110, 93], [168, 120, 1...\n",
              "35805297  [[[169, 198, 180], [176, 199, 181], [186, 200,...\n",
              "...                                                     ...\n",
              "32535599  [[[57, 57, 57], [57, 57, 57], [58, 58, 58], [5...\n",
              "32781341  [[[174, 174, 174], [174, 174, 174], [175, 175,...\n",
              "36046569  [[[188, 205, 212], [209, 224, 231], [223, 238,...\n",
              "35655751  [[[167, 168, 160], [167, 168, 160], [168, 169,...\n",
              "35884551  [[[159, 138, 117], [160, 139, 118], [161, 140,...\n",
              "\n",
              "[10143 rows x 1 columns]"
            ],
            "text/html": [
              "\n",
              "  <div id=\"df-990d44b0-9662-467b-b397-07e5a3dc7b7c\">\n",
              "    <div class=\"colab-df-container\">\n",
              "      <div>\n",
              "<style scoped>\n",
              "    .dataframe tbody tr th:only-of-type {\n",
              "        vertical-align: middle;\n",
              "    }\n",
              "\n",
              "    .dataframe tbody tr th {\n",
              "        vertical-align: top;\n",
              "    }\n",
              "\n",
              "    .dataframe thead th {\n",
              "        text-align: right;\n",
              "    }\n",
              "</style>\n",
              "<table border=\"1\" class=\"dataframe\">\n",
              "  <thead>\n",
              "    <tr style=\"text-align: right;\">\n",
              "      <th></th>\n",
              "      <th>image_array</th>\n",
              "    </tr>\n",
              "  </thead>\n",
              "  <tbody>\n",
              "    <tr>\n",
              "      <th>36058309</th>\n",
              "      <td>[[[101, 108, 116], [104, 108, 117], [105, 109,...</td>\n",
              "    </tr>\n",
              "    <tr>\n",
              "      <th>35999115</th>\n",
              "      <td>[[[206, 210, 219], [206, 210, 219], [205, 209,...</td>\n",
              "    </tr>\n",
              "    <tr>\n",
              "      <th>36042341</th>\n",
              "      <td>[[[177, 164, 145], [166, 155, 135], [142, 135,...</td>\n",
              "    </tr>\n",
              "    <tr>\n",
              "      <th>35738297</th>\n",
              "      <td>[[[162, 106, 89], [161, 110, 93], [168, 120, 1...</td>\n",
              "    </tr>\n",
              "    <tr>\n",
              "      <th>35805297</th>\n",
              "      <td>[[[169, 198, 180], [176, 199, 181], [186, 200,...</td>\n",
              "    </tr>\n",
              "    <tr>\n",
              "      <th>...</th>\n",
              "      <td>...</td>\n",
              "    </tr>\n",
              "    <tr>\n",
              "      <th>32535599</th>\n",
              "      <td>[[[57, 57, 57], [57, 57, 57], [58, 58, 58], [5...</td>\n",
              "    </tr>\n",
              "    <tr>\n",
              "      <th>32781341</th>\n",
              "      <td>[[[174, 174, 174], [174, 174, 174], [175, 175,...</td>\n",
              "    </tr>\n",
              "    <tr>\n",
              "      <th>36046569</th>\n",
              "      <td>[[[188, 205, 212], [209, 224, 231], [223, 238,...</td>\n",
              "    </tr>\n",
              "    <tr>\n",
              "      <th>35655751</th>\n",
              "      <td>[[[167, 168, 160], [167, 168, 160], [168, 169,...</td>\n",
              "    </tr>\n",
              "    <tr>\n",
              "      <th>35884551</th>\n",
              "      <td>[[[159, 138, 117], [160, 139, 118], [161, 140,...</td>\n",
              "    </tr>\n",
              "  </tbody>\n",
              "</table>\n",
              "<p>10143 rows × 1 columns</p>\n",
              "</div>\n",
              "      <button class=\"colab-df-convert\" onclick=\"convertToInteractive('df-990d44b0-9662-467b-b397-07e5a3dc7b7c')\"\n",
              "              title=\"Convert this dataframe to an interactive table.\"\n",
              "              style=\"display:none;\">\n",
              "        \n",
              "  <svg xmlns=\"http://www.w3.org/2000/svg\" height=\"24px\"viewBox=\"0 0 24 24\"\n",
              "       width=\"24px\">\n",
              "    <path d=\"M0 0h24v24H0V0z\" fill=\"none\"/>\n",
              "    <path d=\"M18.56 5.44l.94 2.06.94-2.06 2.06-.94-2.06-.94-.94-2.06-.94 2.06-2.06.94zm-11 1L8.5 8.5l.94-2.06 2.06-.94-2.06-.94L8.5 2.5l-.94 2.06-2.06.94zm10 10l.94 2.06.94-2.06 2.06-.94-2.06-.94-.94-2.06-.94 2.06-2.06.94z\"/><path d=\"M17.41 7.96l-1.37-1.37c-.4-.4-.92-.59-1.43-.59-.52 0-1.04.2-1.43.59L10.3 9.45l-7.72 7.72c-.78.78-.78 2.05 0 2.83L4 21.41c.39.39.9.59 1.41.59.51 0 1.02-.2 1.41-.59l7.78-7.78 2.81-2.81c.8-.78.8-2.07 0-2.86zM5.41 20L4 18.59l7.72-7.72 1.47 1.35L5.41 20z\"/>\n",
              "  </svg>\n",
              "      </button>\n",
              "      \n",
              "  <style>\n",
              "    .colab-df-container {\n",
              "      display:flex;\n",
              "      flex-wrap:wrap;\n",
              "      gap: 12px;\n",
              "    }\n",
              "\n",
              "    .colab-df-convert {\n",
              "      background-color: #E8F0FE;\n",
              "      border: none;\n",
              "      border-radius: 50%;\n",
              "      cursor: pointer;\n",
              "      display: none;\n",
              "      fill: #1967D2;\n",
              "      height: 32px;\n",
              "      padding: 0 0 0 0;\n",
              "      width: 32px;\n",
              "    }\n",
              "\n",
              "    .colab-df-convert:hover {\n",
              "      background-color: #E2EBFA;\n",
              "      box-shadow: 0px 1px 2px rgba(60, 64, 67, 0.3), 0px 1px 3px 1px rgba(60, 64, 67, 0.15);\n",
              "      fill: #174EA6;\n",
              "    }\n",
              "\n",
              "    [theme=dark] .colab-df-convert {\n",
              "      background-color: #3B4455;\n",
              "      fill: #D2E3FC;\n",
              "    }\n",
              "\n",
              "    [theme=dark] .colab-df-convert:hover {\n",
              "      background-color: #434B5C;\n",
              "      box-shadow: 0px 1px 3px 1px rgba(0, 0, 0, 0.15);\n",
              "      filter: drop-shadow(0px 1px 2px rgba(0, 0, 0, 0.3));\n",
              "      fill: #FFFFFF;\n",
              "    }\n",
              "  </style>\n",
              "\n",
              "      <script>\n",
              "        const buttonEl =\n",
              "          document.querySelector('#df-990d44b0-9662-467b-b397-07e5a3dc7b7c button.colab-df-convert');\n",
              "        buttonEl.style.display =\n",
              "          google.colab.kernel.accessAllowed ? 'block' : 'none';\n",
              "\n",
              "        async function convertToInteractive(key) {\n",
              "          const element = document.querySelector('#df-990d44b0-9662-467b-b397-07e5a3dc7b7c');\n",
              "          const dataTable =\n",
              "            await google.colab.kernel.invokeFunction('convertToInteractive',\n",
              "                                                     [key], {});\n",
              "          if (!dataTable) return;\n",
              "\n",
              "          const docLinkHtml = 'Like what you see? Visit the ' +\n",
              "            '<a target=\"_blank\" href=https://colab.research.google.com/notebooks/data_table.ipynb>data table notebook</a>'\n",
              "            + ' to learn more about interactive tables.';\n",
              "          element.innerHTML = '';\n",
              "          dataTable['output_type'] = 'display_data';\n",
              "          await google.colab.output.renderOutput(dataTable, element);\n",
              "          const docLink = document.createElement('div');\n",
              "          docLink.innerHTML = docLinkHtml;\n",
              "          element.appendChild(docLink);\n",
              "        }\n",
              "      </script>\n",
              "    </div>\n",
              "  </div>\n",
              "  "
            ]
          },
          "metadata": {},
          "execution_count": 32
        }
      ]
    },
    {
      "cell_type": "code",
      "source": [
        "df_images.iloc[0,0].shape"
      ],
      "metadata": {
        "colab": {
          "base_uri": "https://localhost:8080/"
        },
        "id": "Yz7DpbzygOiB",
        "outputId": "147e9228-3b46-42a6-af26-86d020d98bc8"
      },
      "execution_count": null,
      "outputs": [
        {
          "output_type": "execute_result",
          "data": {
            "text/plain": [
              "(114, 171, 3)"
            ]
          },
          "metadata": {},
          "execution_count": 33
        }
      ]
    },
    {
      "cell_type": "code",
      "source": [
        "# 58 seg\n",
        "df_images['image_array'] = df_images['image_array'].apply(lambda x: resize(x, (96,128)))"
      ],
      "metadata": {
        "id": "ocjKCv-918Vt"
      },
      "execution_count": null,
      "outputs": []
    },
    {
      "cell_type": "code",
      "source": [
        "df_images.iloc[0,0].shape"
      ],
      "metadata": {
        "colab": {
          "base_uri": "https://localhost:8080/"
        },
        "id": "MfLWLeev6jWB",
        "outputId": "7af779b5-aa89-49ba-8a27-e55a7594c66b"
      },
      "execution_count": null,
      "outputs": [
        {
          "output_type": "execute_result",
          "data": {
            "text/plain": [
              "(96, 128, 3)"
            ]
          },
          "metadata": {},
          "execution_count": 35
        }
      ]
    },
    {
      "cell_type": "code",
      "source": [
        "plt.imshow(df_images.iloc[0,0])"
      ],
      "metadata": {
        "colab": {
          "base_uri": "https://localhost:8080/",
          "height": 285
        },
        "id": "uxA7X6DhzJI1",
        "outputId": "d5ff2621-87db-4098-9fda-8b5cfc1c7e01"
      },
      "execution_count": null,
      "outputs": [
        {
          "output_type": "execute_result",
          "data": {
            "text/plain": [
              "<matplotlib.image.AxesImage at 0x7f2154a51910>"
            ]
          },
          "metadata": {},
          "execution_count": 36
        },
        {
          "output_type": "display_data",
          "data": {
            "text/plain": [
              "<Figure size 432x288 with 1 Axes>"
            ],
            "image/png": "[encoded data removed]"
          },
          "metadata": {
            "needs_background": "light"
          }
        }
      ]
    },
    {
      "cell_type": "markdown",
      "source": [
        "¿Porqué no concatenar los DataFrames?"
      ],
      "metadata": {
        "id": "3dhN9Cl1g3zv"
      }
    },
    {
      "cell_type": "code",
      "source": [
        "from sklearn.model_selection import train_test_split\n",
        "import tensorflow as tf\n",
        "from tensorflow import keras"
      ],
      "metadata": {
        "id": "jlIVkPsWl-K_"
      },
      "execution_count": null,
      "outputs": []
    },
    {
      "cell_type": "code",
      "source": [
        "train_id, test_id= train_test_split(indexs, train_size=0.5, random_state=0)"
      ],
      "metadata": {
        "id": "jK6us1fCl-Ji"
      },
      "execution_count": null,
      "outputs": []
    },
    {
      "cell_type": "code",
      "source": [
        "len(train_id)"
      ],
      "metadata": {
        "id": "l6a52OE3l-H3",
        "colab": {
          "base_uri": "https://localhost:8080/"
        },
        "outputId": "2be11408-7075-437f-d757-a0a34314917c"
      },
      "execution_count": null,
      "outputs": [
        {
          "output_type": "execute_result",
          "data": {
            "text/plain": [
              "5071"
            ]
          },
          "metadata": {},
          "execution_count": 39
        }
      ]
    },
    {
      "cell_type": "code",
      "source": [
        "len(test_id)"
      ],
      "metadata": {
        "id": "0RWG5C5jqVB9",
        "colab": {
          "base_uri": "https://localhost:8080/"
        },
        "outputId": "e4c1621f-34c0-4adb-ca2e-a8ec035bcddd"
      },
      "execution_count": null,
      "outputs": [
        {
          "output_type": "execute_result",
          "data": {
            "text/plain": [
              "5072"
            ]
          },
          "metadata": {},
          "execution_count": 40
        }
      ]
    },
    {
      "cell_type": "code",
      "source": [
        "train_id"
      ],
      "metadata": {
        "id": "yyr-24kBKWN1"
      },
      "execution_count": null,
      "outputs": []
    },
    {
      "cell_type": "code",
      "source": [
        "train_imgs = df_images.loc[train_id, :]\n",
        "test_imgs = df_images.loc[test_id, :]"
      ],
      "metadata": {
        "id": "KvHTZS_069fL"
      },
      "execution_count": null,
      "outputs": []
    },
    {
      "cell_type": "code",
      "source": [
        "test_imgs"
      ],
      "metadata": {
        "id": "vz2Eicn86-0J",
        "colab": {
          "base_uri": "https://localhost:8080/",
          "height": 424
        },
        "outputId": "256b4756-1141-426a-b615-7ab7f80cce69"
      },
      "execution_count": null,
      "outputs": [
        {
          "output_type": "execute_result",
          "data": {
            "text/plain": [
              "                                                image_array\n",
              "35874753  [[[0.420138888888889, 0.4240604575163399, 0.39...\n",
              "35849899  [[[0.8677930644914215, 0.9235672296262255, 0.9...\n",
              "35823873  [[[0.3643847496680964, 0.295501988230188, 0.33...\n",
              "35801931  [[[0.4206270105698536, 0.3029799517463242, 0.2...\n",
              "35826821  [[[0.8571873085171575, 0.8448242187500005, 0.8...\n",
              "...                                                     ...\n",
              "36032371  [[[0.2655410666870906, 0.29713828890931276, 0....\n",
              "36063495  [[[0.40938968035130596, 0.3854517718545739, 0....\n",
              "35991439  [[[0.1598766850490195, 0.09321001838235285, 0....\n",
              "35836129  [[[0.8352941176470587, 0.803921568627451, 0.75...\n",
              "36035537  [[[0.6610906862745098, 0.6081495098039217, 0.6...\n",
              "\n",
              "[5072 rows x 1 columns]"
            ],
            "text/html": [
              "\n",
              "  <div id=\"df-20e3a65d-3688-41c6-8324-5c92aa901f67\">\n",
              "    <div class=\"colab-df-container\">\n",
              "      <div>\n",
              "<style scoped>\n",
              "    .dataframe tbody tr th:only-of-type {\n",
              "        vertical-align: middle;\n",
              "    }\n",
              "\n",
              "    .dataframe tbody tr th {\n",
              "        vertical-align: top;\n",
              "    }\n",
              "\n",
              "    .dataframe thead th {\n",
              "        text-align: right;\n",
              "    }\n",
              "</style>\n",
              "<table border=\"1\" class=\"dataframe\">\n",
              "  <thead>\n",
              "    <tr style=\"text-align: right;\">\n",
              "      <th></th>\n",
              "      <th>image_array</th>\n",
              "    </tr>\n",
              "  </thead>\n",
              "  <tbody>\n",
              "    <tr>\n",
              "      <th>35874753</th>\n",
              "      <td>[[[0.420138888888889, 0.4240604575163399, 0.39...</td>\n",
              "    </tr>\n",
              "    <tr>\n",
              "      <th>35849899</th>\n",
              "      <td>[[[0.8677930644914215, 0.9235672296262255, 0.9...</td>\n",
              "    </tr>\n",
              "    <tr>\n",
              "      <th>35823873</th>\n",
              "      <td>[[[0.3643847496680964, 0.295501988230188, 0.33...</td>\n",
              "    </tr>\n",
              "    <tr>\n",
              "      <th>35801931</th>\n",
              "      <td>[[[0.4206270105698536, 0.3029799517463242, 0.2...</td>\n",
              "    </tr>\n",
              "    <tr>\n",
              "      <th>35826821</th>\n",
              "      <td>[[[0.8571873085171575, 0.8448242187500005, 0.8...</td>\n",
              "    </tr>\n",
              "    <tr>\n",
              "      <th>...</th>\n",
              "      <td>...</td>\n",
              "    </tr>\n",
              "    <tr>\n",
              "      <th>36032371</th>\n",
              "      <td>[[[0.2655410666870906, 0.29713828890931276, 0....</td>\n",
              "    </tr>\n",
              "    <tr>\n",
              "      <th>36063495</th>\n",
              "      <td>[[[0.40938968035130596, 0.3854517718545739, 0....</td>\n",
              "    </tr>\n",
              "    <tr>\n",
              "      <th>35991439</th>\n",
              "      <td>[[[0.1598766850490195, 0.09321001838235285, 0....</td>\n",
              "    </tr>\n",
              "    <tr>\n",
              "      <th>35836129</th>\n",
              "      <td>[[[0.8352941176470587, 0.803921568627451, 0.75...</td>\n",
              "    </tr>\n",
              "    <tr>\n",
              "      <th>36035537</th>\n",
              "      <td>[[[0.6610906862745098, 0.6081495098039217, 0.6...</td>\n",
              "    </tr>\n",
              "  </tbody>\n",
              "</table>\n",
              "<p>5072 rows × 1 columns</p>\n",
              "</div>\n",
              "      <button class=\"colab-df-convert\" onclick=\"convertToInteractive('df-20e3a65d-3688-41c6-8324-5c92aa901f67')\"\n",
              "              title=\"Convert this dataframe to an interactive table.\"\n",
              "              style=\"display:none;\">\n",
              "        \n",
              "  <svg xmlns=\"http://www.w3.org/2000/svg\" height=\"24px\"viewBox=\"0 0 24 24\"\n",
              "       width=\"24px\">\n",
              "    <path d=\"M0 0h24v24H0V0z\" fill=\"none\"/>\n",
              "    <path d=\"M18.56 5.44l.94 2.06.94-2.06 2.06-.94-2.06-.94-.94-2.06-.94 2.06-2.06.94zm-11 1L8.5 8.5l.94-2.06 2.06-.94-2.06-.94L8.5 2.5l-.94 2.06-2.06.94zm10 10l.94 2.06.94-2.06 2.06-.94-2.06-.94-.94-2.06-.94 2.06-2.06.94z\"/><path d=\"M17.41 7.96l-1.37-1.37c-.4-.4-.92-.59-1.43-.59-.52 0-1.04.2-1.43.59L10.3 9.45l-7.72 7.72c-.78.78-.78 2.05 0 2.83L4 21.41c.39.39.9.59 1.41.59.51 0 1.02-.2 1.41-.59l7.78-7.78 2.81-2.81c.8-.78.8-2.07 0-2.86zM5.41 20L4 18.59l7.72-7.72 1.47 1.35L5.41 20z\"/>\n",
              "  </svg>\n",
              "      </button>\n",
              "      \n",
              "  <style>\n",
              "    .colab-df-container {\n",
              "      display:flex;\n",
              "      flex-wrap:wrap;\n",
              "      gap: 12px;\n",
              "    }\n",
              "\n",
              "    .colab-df-convert {\n",
              "      background-color: #E8F0FE;\n",
              "      border: none;\n",
              "      border-radius: 50%;\n",
              "      cursor: pointer;\n",
              "      display: none;\n",
              "      fill: #1967D2;\n",
              "      height: 32px;\n",
              "      padding: 0 0 0 0;\n",
              "      width: 32px;\n",
              "    }\n",
              "\n",
              "    .colab-df-convert:hover {\n",
              "      background-color: #E2EBFA;\n",
              "      box-shadow: 0px 1px 2px rgba(60, 64, 67, 0.3), 0px 1px 3px 1px rgba(60, 64, 67, 0.15);\n",
              "      fill: #174EA6;\n",
              "    }\n",
              "\n",
              "    [theme=dark] .colab-df-convert {\n",
              "      background-color: #3B4455;\n",
              "      fill: #D2E3FC;\n",
              "    }\n",
              "\n",
              "    [theme=dark] .colab-df-convert:hover {\n",
              "      background-color: #434B5C;\n",
              "      box-shadow: 0px 1px 3px 1px rgba(0, 0, 0, 0.15);\n",
              "      filter: drop-shadow(0px 1px 2px rgba(0, 0, 0, 0.3));\n",
              "      fill: #FFFFFF;\n",
              "    }\n",
              "  </style>\n",
              "\n",
              "      <script>\n",
              "        const buttonEl =\n",
              "          document.querySelector('#df-20e3a65d-3688-41c6-8324-5c92aa901f67 button.colab-df-convert');\n",
              "        buttonEl.style.display =\n",
              "          google.colab.kernel.accessAllowed ? 'block' : 'none';\n",
              "\n",
              "        async function convertToInteractive(key) {\n",
              "          const element = document.querySelector('#df-20e3a65d-3688-41c6-8324-5c92aa901f67');\n",
              "          const dataTable =\n",
              "            await google.colab.kernel.invokeFunction('convertToInteractive',\n",
              "                                                     [key], {});\n",
              "          if (!dataTable) return;\n",
              "\n",
              "          const docLinkHtml = 'Like what you see? Visit the ' +\n",
              "            '<a target=\"_blank\" href=https://colab.research.google.com/notebooks/data_table.ipynb>data table notebook</a>'\n",
              "            + ' to learn more about interactive tables.';\n",
              "          element.innerHTML = '';\n",
              "          dataTable['output_type'] = 'display_data';\n",
              "          await google.colab.output.renderOutput(dataTable, element);\n",
              "          const docLink = document.createElement('div');\n",
              "          docLink.innerHTML = docLinkHtml;\n",
              "          element.appendChild(docLink);\n",
              "        }\n",
              "      </script>\n",
              "    </div>\n",
              "  </div>\n",
              "  "
            ]
          },
          "metadata": {},
          "execution_count": 43
        }
      ]
    },
    {
      "cell_type": "code",
      "source": [
        "train_targets = targets.loc[train_id, :]\n",
        "test_targets = targets.loc[test_id, :]"
      ],
      "metadata": {
        "id": "w_kKgW-19R0l"
      },
      "execution_count": null,
      "outputs": []
    },
    {
      "cell_type": "code",
      "source": [
        "test_targets"
      ],
      "metadata": {
        "id": "ofk4f0TLq3t5",
        "colab": {
          "base_uri": "https://localhost:8080/",
          "height": 455
        },
        "outputId": "f8e8972c-c405-465f-d2f4-5a5028e3ed16"
      },
      "execution_count": null,
      "outputs": [
        {
          "output_type": "execute_result",
          "data": {
            "text/plain": [
              "               price\n",
              "id_annonce          \n",
              "35874753    228780.0\n",
              "35849899    206700.0\n",
              "35823873    258000.0\n",
              "35801931    145000.0\n",
              "35826821    490000.0\n",
              "...              ...\n",
              "36032371    288750.0\n",
              "36063495    820000.0\n",
              "35991439    127200.0\n",
              "35836129    215000.0\n",
              "36035537    375000.0\n",
              "\n",
              "[5072 rows x 1 columns]"
            ],
            "text/html": [
              "\n",
              "  <div id=\"df-be878e5b-31f6-4c4b-b433-22abb879332e\">\n",
              "    <div class=\"colab-df-container\">\n",
              "      <div>\n",
              "<style scoped>\n",
              "    .dataframe tbody tr th:only-of-type {\n",
              "        vertical-align: middle;\n",
              "    }\n",
              "\n",
              "    .dataframe tbody tr th {\n",
              "        vertical-align: top;\n",
              "    }\n",
              "\n",
              "    .dataframe thead th {\n",
              "        text-align: right;\n",
              "    }\n",
              "</style>\n",
              "<table border=\"1\" class=\"dataframe\">\n",
              "  <thead>\n",
              "    <tr style=\"text-align: right;\">\n",
              "      <th></th>\n",
              "      <th>price</th>\n",
              "    </tr>\n",
              "    <tr>\n",
              "      <th>id_annonce</th>\n",
              "      <th></th>\n",
              "    </tr>\n",
              "  </thead>\n",
              "  <tbody>\n",
              "    <tr>\n",
              "      <th>35874753</th>\n",
              "      <td>228780.0</td>\n",
              "    </tr>\n",
              "    <tr>\n",
              "      <th>35849899</th>\n",
              "      <td>206700.0</td>\n",
              "    </tr>\n",
              "    <tr>\n",
              "      <th>35823873</th>\n",
              "      <td>258000.0</td>\n",
              "    </tr>\n",
              "    <tr>\n",
              "      <th>35801931</th>\n",
              "      <td>145000.0</td>\n",
              "    </tr>\n",
              "    <tr>\n",
              "      <th>35826821</th>\n",
              "      <td>490000.0</td>\n",
              "    </tr>\n",
              "    <tr>\n",
              "      <th>...</th>\n",
              "      <td>...</td>\n",
              "    </tr>\n",
              "    <tr>\n",
              "      <th>36032371</th>\n",
              "      <td>288750.0</td>\n",
              "    </tr>\n",
              "    <tr>\n",
              "      <th>36063495</th>\n",
              "      <td>820000.0</td>\n",
              "    </tr>\n",
              "    <tr>\n",
              "      <th>35991439</th>\n",
              "      <td>127200.0</td>\n",
              "    </tr>\n",
              "    <tr>\n",
              "      <th>35836129</th>\n",
              "      <td>215000.0</td>\n",
              "    </tr>\n",
              "    <tr>\n",
              "      <th>36035537</th>\n",
              "      <td>375000.0</td>\n",
              "    </tr>\n",
              "  </tbody>\n",
              "</table>\n",
              "<p>5072 rows × 1 columns</p>\n",
              "</div>\n",
              "      <button class=\"colab-df-convert\" onclick=\"convertToInteractive('df-be878e5b-31f6-4c4b-b433-22abb879332e')\"\n",
              "              title=\"Convert this dataframe to an interactive table.\"\n",
              "              style=\"display:none;\">\n",
              "        \n",
              "  <svg xmlns=\"http://www.w3.org/2000/svg\" height=\"24px\"viewBox=\"0 0 24 24\"\n",
              "       width=\"24px\">\n",
              "    <path d=\"M0 0h24v24H0V0z\" fill=\"none\"/>\n",
              "    <path d=\"M18.56 5.44l.94 2.06.94-2.06 2.06-.94-2.06-.94-.94-2.06-.94 2.06-2.06.94zm-11 1L8.5 8.5l.94-2.06 2.06-.94-2.06-.94L8.5 2.5l-.94 2.06-2.06.94zm10 10l.94 2.06.94-2.06 2.06-.94-2.06-.94-.94-2.06-.94 2.06-2.06.94z\"/><path d=\"M17.41 7.96l-1.37-1.37c-.4-.4-.92-.59-1.43-.59-.52 0-1.04.2-1.43.59L10.3 9.45l-7.72 7.72c-.78.78-.78 2.05 0 2.83L4 21.41c.39.39.9.59 1.41.59.51 0 1.02-.2 1.41-.59l7.78-7.78 2.81-2.81c.8-.78.8-2.07 0-2.86zM5.41 20L4 18.59l7.72-7.72 1.47 1.35L5.41 20z\"/>\n",
              "  </svg>\n",
              "      </button>\n",
              "      \n",
              "  <style>\n",
              "    .colab-df-container {\n",
              "      display:flex;\n",
              "      flex-wrap:wrap;\n",
              "      gap: 12px;\n",
              "    }\n",
              "\n",
              "    .colab-df-convert {\n",
              "      background-color: #E8F0FE;\n",
              "      border: none;\n",
              "      border-radius: 50%;\n",
              "      cursor: pointer;\n",
              "      display: none;\n",
              "      fill: #1967D2;\n",
              "      height: 32px;\n",
              "      padding: 0 0 0 0;\n",
              "      width: 32px;\n",
              "    }\n",
              "\n",
              "    .colab-df-convert:hover {\n",
              "      background-color: #E2EBFA;\n",
              "      box-shadow: 0px 1px 2px rgba(60, 64, 67, 0.3), 0px 1px 3px 1px rgba(60, 64, 67, 0.15);\n",
              "      fill: #174EA6;\n",
              "    }\n",
              "\n",
              "    [theme=dark] .colab-df-convert {\n",
              "      background-color: #3B4455;\n",
              "      fill: #D2E3FC;\n",
              "    }\n",
              "\n",
              "    [theme=dark] .colab-df-convert:hover {\n",
              "      background-color: #434B5C;\n",
              "      box-shadow: 0px 1px 3px 1px rgba(0, 0, 0, 0.15);\n",
              "      filter: drop-shadow(0px 1px 2px rgba(0, 0, 0, 0.3));\n",
              "      fill: #FFFFFF;\n",
              "    }\n",
              "  </style>\n",
              "\n",
              "      <script>\n",
              "        const buttonEl =\n",
              "          document.querySelector('#df-be878e5b-31f6-4c4b-b433-22abb879332e button.colab-df-convert');\n",
              "        buttonEl.style.display =\n",
              "          google.colab.kernel.accessAllowed ? 'block' : 'none';\n",
              "\n",
              "        async function convertToInteractive(key) {\n",
              "          const element = document.querySelector('#df-be878e5b-31f6-4c4b-b433-22abb879332e');\n",
              "          const dataTable =\n",
              "            await google.colab.kernel.invokeFunction('convertToInteractive',\n",
              "                                                     [key], {});\n",
              "          if (!dataTable) return;\n",
              "\n",
              "          const docLinkHtml = 'Like what you see? Visit the ' +\n",
              "            '<a target=\"_blank\" href=https://colab.research.google.com/notebooks/data_table.ipynb>data table notebook</a>'\n",
              "            + ' to learn more about interactive tables.';\n",
              "          element.innerHTML = '';\n",
              "          dataTable['output_type'] = 'display_data';\n",
              "          await google.colab.output.renderOutput(dataTable, element);\n",
              "          const docLink = document.createElement('div');\n",
              "          docLink.innerHTML = docLinkHtml;\n",
              "          element.appendChild(docLink);\n",
              "        }\n",
              "      </script>\n",
              "    </div>\n",
              "  </div>\n",
              "  "
            ]
          },
          "metadata": {},
          "execution_count": 45
        }
      ]
    },
    {
      "cell_type": "markdown",
      "source": [
        "A veces hay problemas para utilizar estos datos para alimentar modelos, convirtamos los datos a array"
      ],
      "metadata": {
        "id": "7Ju0WZXCh4v4"
      }
    },
    {
      "cell_type": "code",
      "source": [
        "train_imgs_to_use = np.array([array for array in train_imgs['image_array']])"
      ],
      "metadata": {
        "id": "82DX9_c2q3gn"
      },
      "execution_count": null,
      "outputs": []
    },
    {
      "cell_type": "code",
      "source": [
        "test_imgs_to_use = np.array([array for array in test_imgs['image_array']])"
      ],
      "metadata": {
        "id": "5aGXFabUSo2o"
      },
      "execution_count": null,
      "outputs": []
    },
    {
      "cell_type": "code",
      "source": [
        "train_imgs_to_use.shape"
      ],
      "metadata": {
        "id": "KkpCb6oTi056",
        "colab": {
          "base_uri": "https://localhost:8080/"
        },
        "outputId": "691729c8-e5f5-4327-f779-f0b9e1c8f734"
      },
      "execution_count": null,
      "outputs": [
        {
          "output_type": "execute_result",
          "data": {
            "text/plain": [
              "(5071, 96, 128, 3)"
            ]
          },
          "metadata": {},
          "execution_count": 48
        }
      ]
    },
    {
      "cell_type": "markdown",
      "source": [
        "# Creación de una red neuronal que usaremos"
      ],
      "metadata": {
        "id": "6LxJX2U8iT-c"
      }
    },
    {
      "cell_type": "code",
      "source": [
        "model = keras.Sequential([\n",
        "                             \n",
        "    keras.layers.BatchNormalization(),\n",
        "\n",
        "    keras.layers.Conv2D(filters=16, input_shape = (96, 128, 3), kernel_size=(3,3), data_format='channels_last', activation=\"relu\", use_bias=False),\n",
        "    keras.layers.BatchNormalization(),\n",
        "    keras.layers.MaxPooling2D(pool_size=(2,2)),\n",
        "\n",
        "    keras.layers.Conv2D(filters=32, kernel_size=(3,3), activation=\"relu\", use_bias=False),\n",
        "    keras.layers.BatchNormalization(),\n",
        "    keras.layers.MaxPooling2D(pool_size=(2,2)),\n",
        "\n",
        "    keras.layers.Flatten(),\n",
        "    keras.layers.Dense(120, activation='relu', name='dense_1', use_bias=False),\n",
        "    keras.layers.BatchNormalization(),\n",
        "    keras.layers.Dense(84, activation='relu', name='dense_2', use_bias=False),\n",
        "    keras.layers.BatchNormalization(),\n",
        "    keras.layers.Dropout(rate=0.10),\n",
        "    keras.layers.Dense(1, activation='linear', name='dense_3')\n",
        "\n",
        "])"
      ],
      "metadata": {
        "id": "YnKxzoiyiGWg"
      },
      "execution_count": null,
      "outputs": []
    },
    {
      "cell_type": "code",
      "source": [
        "model.compile(loss='mae', optimizer=tf.keras.optimizers.Adam(learning_rate=1e-2))  #'rmsprop'"
      ],
      "metadata": {
        "id": "cfQfzkeD9_fZ"
      },
      "execution_count": null,
      "outputs": []
    },
    {
      "cell_type": "code",
      "source": [
        "model.fit(train_imgs_to_use, np.array(train_targets), epochs=200)"
      ],
      "metadata": {
        "colab": {
          "base_uri": "https://localhost:8080/"
        },
        "id": "T0meGnTtq3sT",
        "outputId": "90f83c76-b353-4ca9-b4c2-6776173f033d"
      },
      "execution_count": null,
      "outputs": [
        {
          "output_type": "stream",
          "name": "stdout",
          "text": [
            "Epoch 1/200\n",
            "159/159 [==============================] - 74s 455ms/step - loss: 355801.0625\n",
            "Epoch 2/200\n",
            "159/159 [==============================] - 96s 604ms/step - loss: 354770.6562\n",
            "Epoch 3/200\n",
            "159/159 [==============================] - 74s 467ms/step - loss: 352576.3750\n",
            "Epoch 4/200\n",
            "159/159 [==============================] - 79s 498ms/step - loss: 349297.2812\n",
            "Epoch 5/200\n",
            "159/159 [==============================] - 78s 490ms/step - loss: 344989.6875\n",
            "Epoch 6/200\n",
            "159/159 [==============================] - 86s 540ms/step - loss: 339721.7812\n",
            "Epoch 7/200\n",
            "159/159 [==============================] - 72s 451ms/step - loss: 333557.5312\n",
            "Epoch 8/200\n",
            "159/159 [==============================] - 71s 444ms/step - loss: 326534.0938\n",
            "Epoch 9/200\n",
            "159/159 [==============================] - 77s 486ms/step - loss: 318761.7500\n",
            "Epoch 10/200\n",
            "159/159 [==============================] - 70s 438ms/step - loss: 310421.9062\n",
            "Epoch 11/200\n",
            "159/159 [==============================] - 68s 430ms/step - loss: 301549.0312\n",
            "Epoch 12/200\n",
            "159/159 [==============================] - 67s 424ms/step - loss: 292187.3438\n",
            "Epoch 13/200\n",
            "159/159 [==============================] - 69s 437ms/step - loss: 282523.1875\n",
            "Epoch 14/200\n",
            "159/159 [==============================] - 70s 443ms/step - loss: 272389.6562\n",
            "Epoch 15/200\n",
            "159/159 [==============================] - 69s 436ms/step - loss: 262218.2812\n",
            "Epoch 16/200\n",
            "159/159 [==============================] - 70s 443ms/step - loss: 252884.0781\n",
            "Epoch 17/200\n",
            "159/159 [==============================] - 73s 456ms/step - loss: 242142.7031\n",
            "Epoch 18/200\n",
            "159/159 [==============================] - 69s 435ms/step - loss: 231990.0156\n",
            "Epoch 19/200\n",
            "159/159 [==============================] - 70s 440ms/step - loss: 222623.4062\n",
            "Epoch 20/200\n",
            "159/159 [==============================] - 69s 431ms/step - loss: 213453.5469\n",
            "Epoch 21/200\n",
            "159/159 [==============================] - 73s 462ms/step - loss: 204652.9375\n",
            "Epoch 22/200\n",
            "159/159 [==============================] - 70s 439ms/step - loss: 196344.1562\n",
            "Epoch 23/200\n",
            "159/159 [==============================] - 70s 441ms/step - loss: 188099.0781\n",
            "Epoch 24/200\n",
            "159/159 [==============================] - 70s 442ms/step - loss: 181269.5469\n",
            "Epoch 25/200\n",
            "159/159 [==============================] - 72s 450ms/step - loss: 174563.3438\n",
            "Epoch 26/200\n",
            "159/159 [==============================] - 69s 436ms/step - loss: 167991.0781\n",
            "Epoch 27/200\n",
            "159/159 [==============================] - 70s 441ms/step - loss: 161868.1094\n",
            "Epoch 28/200\n",
            "159/159 [==============================] - 68s 429ms/step - loss: 156589.6094\n",
            "Epoch 29/200\n",
            "159/159 [==============================] - 70s 441ms/step - loss: 151077.1719\n",
            "Epoch 30/200\n",
            "159/159 [==============================] - 74s 463ms/step - loss: 145761.2812\n",
            "Epoch 31/200\n",
            "159/159 [==============================] - 71s 445ms/step - loss: 139456.5781\n",
            "Epoch 32/200\n",
            "159/159 [==============================] - 71s 444ms/step - loss: 138382.0781\n",
            "Epoch 33/200\n",
            "159/159 [==============================] - 70s 440ms/step - loss: 134325.3750\n",
            "Epoch 34/200\n",
            "159/159 [==============================] - 71s 445ms/step - loss: 128752.6016\n",
            "Epoch 35/200\n",
            "159/159 [==============================] - 72s 451ms/step - loss: 122767.1484\n",
            "Epoch 36/200\n",
            "159/159 [==============================] - 70s 440ms/step - loss: 120243.7422\n",
            "Epoch 37/200\n",
            "159/159 [==============================] - 71s 447ms/step - loss: 114499.1172\n",
            "Epoch 38/200\n",
            "159/159 [==============================] - 71s 446ms/step - loss: 112298.6172\n",
            "Epoch 39/200\n",
            "159/159 [==============================] - 71s 448ms/step - loss: 109080.0547\n",
            "Epoch 40/200\n",
            "159/159 [==============================] - 70s 439ms/step - loss: 105822.4062\n",
            "Epoch 41/200\n",
            "159/159 [==============================] - 72s 450ms/step - loss: 103340.6719\n",
            "Epoch 42/200\n",
            "159/159 [==============================] - 72s 451ms/step - loss: 99412.7656\n",
            "Epoch 43/200\n",
            "159/159 [==============================] - 70s 442ms/step - loss: 98304.5234\n",
            "Epoch 44/200\n",
            "159/159 [==============================] - 71s 444ms/step - loss: 95549.1641\n",
            "Epoch 45/200\n",
            "159/159 [==============================] - 71s 445ms/step - loss: 92770.6094\n",
            "Epoch 46/200\n",
            "159/159 [==============================] - 71s 445ms/step - loss: 91933.1797\n",
            "Epoch 47/200\n",
            "159/159 [==============================] - 70s 441ms/step - loss: 89409.1094\n",
            "Epoch 48/200\n",
            "159/159 [==============================] - 70s 441ms/step - loss: 87532.8750\n",
            "Epoch 49/200\n",
            "159/159 [==============================] - 71s 444ms/step - loss: 87483.6484\n",
            "Epoch 50/200\n",
            "159/159 [==============================] - 70s 442ms/step - loss: 85346.7734\n",
            "Epoch 51/200\n",
            "159/159 [==============================] - 69s 437ms/step - loss: 84543.4609\n",
            "Epoch 52/200\n",
            "159/159 [==============================] - 69s 436ms/step - loss: 82052.6484\n",
            "Epoch 53/200\n",
            "159/159 [==============================] - 71s 445ms/step - loss: 82699.0312\n",
            "Epoch 54/200\n",
            "159/159 [==============================] - 70s 440ms/step - loss: 80268.8828\n",
            "Epoch 55/200\n",
            "159/159 [==============================] - 68s 429ms/step - loss: 77735.6875\n",
            "Epoch 56/200\n",
            "159/159 [==============================] - 71s 444ms/step - loss: 77119.9219\n",
            "Epoch 57/200\n",
            "159/159 [==============================] - 70s 441ms/step - loss: 78197.1016\n",
            "Epoch 58/200\n",
            "159/159 [==============================] - 70s 441ms/step - loss: 77579.8047\n",
            "Epoch 59/200\n",
            "159/159 [==============================] - 71s 444ms/step - loss: 74239.5703\n",
            "Epoch 60/200\n",
            "159/159 [==============================] - 70s 440ms/step - loss: 77193.5703\n",
            "Epoch 61/200\n",
            "159/159 [==============================] - 70s 440ms/step - loss: 73384.5781\n",
            "Epoch 62/200\n",
            "159/159 [==============================] - 70s 439ms/step - loss: 79023.7969\n",
            "Epoch 63/200\n",
            "159/159 [==============================] - 72s 452ms/step - loss: 75814.1953\n",
            "Epoch 64/200\n",
            "159/159 [==============================] - 71s 448ms/step - loss: 72020.6172\n",
            "Epoch 65/200\n",
            "159/159 [==============================] - 71s 445ms/step - loss: 72137.7578\n",
            "Epoch 66/200\n",
            "159/159 [==============================] - 71s 446ms/step - loss: 71353.6484\n",
            "Epoch 67/200\n",
            "159/159 [==============================] - 70s 439ms/step - loss: 68879.7344\n",
            "Epoch 68/200\n",
            "159/159 [==============================] - 69s 437ms/step - loss: 71314.1562\n",
            "Epoch 69/200\n",
            "159/159 [==============================] - 70s 440ms/step - loss: 68902.2656\n",
            "Epoch 70/200\n",
            "159/159 [==============================] - 69s 435ms/step - loss: 69570.8359\n",
            "Epoch 71/200\n",
            "159/159 [==============================] - 71s 447ms/step - loss: 70126.2344\n",
            "Epoch 72/200\n",
            "159/159 [==============================] - 72s 451ms/step - loss: 68392.4375\n",
            "Epoch 73/200\n",
            "159/159 [==============================] - 71s 448ms/step - loss: 69061.0391\n",
            "Epoch 74/200\n",
            "159/159 [==============================] - 71s 446ms/step - loss: 64677.3906\n",
            "Epoch 75/200\n",
            "159/159 [==============================] - 70s 443ms/step - loss: 77803.3203\n",
            "Epoch 76/200\n",
            "159/159 [==============================] - 71s 445ms/step - loss: 84879.1172\n",
            "Epoch 77/200\n",
            "159/159 [==============================] - 70s 439ms/step - loss: 72916.1719\n",
            "Epoch 78/200\n",
            "159/159 [==============================] - 71s 445ms/step - loss: 69374.2656\n",
            "Epoch 79/200\n",
            "159/159 [==============================] - 71s 446ms/step - loss: 70895.2031\n",
            "Epoch 80/200\n",
            "159/159 [==============================] - 71s 443ms/step - loss: 67637.6484\n",
            "Epoch 81/200\n",
            "159/159 [==============================] - 69s 436ms/step - loss: 67587.3516\n",
            "Epoch 82/200\n",
            "159/159 [==============================] - 71s 444ms/step - loss: 66168.0234\n",
            "Epoch 83/200\n",
            "159/159 [==============================] - 74s 466ms/step - loss: 65883.5625\n",
            "Epoch 84/200\n",
            "159/159 [==============================] - 71s 444ms/step - loss: 64682.2344\n",
            "Epoch 85/200\n",
            "159/159 [==============================] - 71s 450ms/step - loss: 66181.3672\n",
            "Epoch 86/200\n",
            "159/159 [==============================] - 71s 446ms/step - loss: 65448.4062\n",
            "Epoch 87/200\n",
            "159/159 [==============================] - 71s 445ms/step - loss: 64776.5195\n",
            "Epoch 88/200\n",
            "159/159 [==============================] - 71s 445ms/step - loss: 63396.5234\n",
            "Epoch 89/200\n",
            "159/159 [==============================] - 70s 442ms/step - loss: 62639.8828\n",
            "Epoch 90/200\n",
            "159/159 [==============================] - 71s 448ms/step - loss: 66607.7031\n",
            "Epoch 91/200\n",
            "159/159 [==============================] - 69s 437ms/step - loss: 63950.0234\n",
            "Epoch 92/200\n",
            "159/159 [==============================] - 71s 448ms/step - loss: 65317.6523\n",
            "Epoch 93/200\n",
            "159/159 [==============================] - 71s 444ms/step - loss: 62689.3359\n",
            "Epoch 94/200\n",
            "159/159 [==============================] - 71s 446ms/step - loss: 69116.7344\n",
            "Epoch 95/200\n",
            "159/159 [==============================] - 70s 442ms/step - loss: 64168.2852\n",
            "Epoch 96/200\n",
            "159/159 [==============================] - 70s 439ms/step - loss: 59089.8789\n",
            "Epoch 97/200\n",
            "159/159 [==============================] - 71s 446ms/step - loss: 65238.1562\n",
            "Epoch 98/200\n",
            "159/159 [==============================] - 71s 447ms/step - loss: 63972.1016\n",
            "Epoch 99/200\n",
            "159/159 [==============================] - 76s 477ms/step - loss: 65124.2656\n",
            "Epoch 100/200\n",
            "159/159 [==============================] - 71s 445ms/step - loss: 64295.9258\n",
            "Epoch 101/200\n",
            "159/159 [==============================] - 70s 441ms/step - loss: 64746.6602\n",
            "Epoch 102/200\n",
            "159/159 [==============================] - 70s 438ms/step - loss: 62817.9805\n",
            "Epoch 103/200\n",
            "159/159 [==============================] - 70s 441ms/step - loss: 61441.3359\n",
            "Epoch 104/200\n",
            "159/159 [==============================] - 71s 446ms/step - loss: 60021.3594\n",
            "Epoch 105/200\n",
            "159/159 [==============================] - 71s 448ms/step - loss: 63151.1016\n",
            "Epoch 106/200\n",
            "159/159 [==============================] - 70s 441ms/step - loss: 64670.1211\n",
            "Epoch 107/200\n",
            "159/159 [==============================] - 71s 446ms/step - loss: 63943.7695\n",
            "Epoch 108/200\n",
            "159/159 [==============================] - 71s 448ms/step - loss: 65175.8516\n",
            "Epoch 109/200\n",
            "159/159 [==============================] - 71s 447ms/step - loss: 61245.0078\n",
            "Epoch 110/200\n",
            "159/159 [==============================] - 75s 471ms/step - loss: 63117.3398\n",
            "Epoch 111/200\n",
            "159/159 [==============================] - 70s 439ms/step - loss: 59722.7539\n",
            "Epoch 112/200\n",
            "159/159 [==============================] - 71s 447ms/step - loss: 59889.3672\n",
            "Epoch 113/200\n",
            "159/159 [==============================] - 71s 449ms/step - loss: 75628.1406\n",
            "Epoch 114/200\n",
            "159/159 [==============================] - 71s 449ms/step - loss: 68806.0234\n",
            "Epoch 115/200\n",
            "159/159 [==============================] - 72s 451ms/step - loss: 64024.0156\n",
            "Epoch 116/200\n",
            "159/159 [==============================] - 70s 443ms/step - loss: 61076.1484\n",
            "Epoch 117/200\n",
            "159/159 [==============================] - 71s 446ms/step - loss: 63975.8125\n",
            "Epoch 118/200\n",
            "159/159 [==============================] - 71s 450ms/step - loss: 64698.3320\n",
            "Epoch 119/200\n",
            "159/159 [==============================] - 70s 441ms/step - loss: 60035.9062\n",
            "Epoch 120/200\n",
            "159/159 [==============================] - 71s 446ms/step - loss: 61455.2969\n",
            "Epoch 121/200\n",
            "159/159 [==============================] - 71s 446ms/step - loss: 61169.7891\n",
            "Epoch 122/200\n",
            "159/159 [==============================] - 69s 436ms/step - loss: 57361.4922\n",
            "Epoch 123/200\n",
            "159/159 [==============================] - 71s 444ms/step - loss: 62435.3828\n",
            "Epoch 124/200\n",
            "159/159 [==============================] - 71s 448ms/step - loss: 63445.8398\n",
            "Epoch 125/200\n",
            "159/159 [==============================] - 71s 445ms/step - loss: 60991.8672\n",
            "Epoch 126/200\n",
            "159/159 [==============================] - 70s 441ms/step - loss: 62858.1211\n",
            "Epoch 127/200\n",
            "159/159 [==============================] - 70s 438ms/step - loss: 60606.9336\n",
            "Epoch 128/200\n",
            "159/159 [==============================] - 71s 444ms/step - loss: 57395.2852\n",
            "Epoch 129/200\n",
            "159/159 [==============================] - 70s 443ms/step - loss: 59151.8008\n",
            "Epoch 130/200\n",
            "159/159 [==============================] - 70s 441ms/step - loss: 63019.2148\n",
            "Epoch 131/200\n",
            "159/159 [==============================] - 70s 439ms/step - loss: 57504.5508\n",
            "Epoch 132/200\n",
            "159/159 [==============================] - 71s 446ms/step - loss: 59445.5391\n",
            "Epoch 133/200\n",
            "159/159 [==============================] - 71s 444ms/step - loss: 61339.6523\n",
            "Epoch 134/200\n",
            "159/159 [==============================] - 71s 446ms/step - loss: 56656.8047\n",
            "Epoch 135/200\n",
            "159/159 [==============================] - 72s 451ms/step - loss: 60488.9180\n",
            "Epoch 136/200\n",
            "159/159 [==============================] - 71s 447ms/step - loss: 56376.4727\n",
            "Epoch 137/200\n",
            "159/159 [==============================] - 71s 445ms/step - loss: 60033.5352\n",
            "Epoch 138/200\n",
            "159/159 [==============================] - 71s 444ms/step - loss: 61373.9180\n",
            "Epoch 139/200\n",
            "159/159 [==============================] - 71s 445ms/step - loss: 60407.3867\n",
            "Epoch 140/200\n",
            "159/159 [==============================] - 71s 447ms/step - loss: 56894.7578\n",
            "Epoch 141/200\n",
            "159/159 [==============================] - 70s 442ms/step - loss: 59959.5938\n",
            "Epoch 142/200\n",
            "159/159 [==============================] - 70s 438ms/step - loss: 62286.9805\n",
            "Epoch 143/200\n",
            "159/159 [==============================] - 70s 440ms/step - loss: 59458.8281\n",
            "Epoch 144/200\n",
            "159/159 [==============================] - 71s 445ms/step - loss: 59527.0000\n",
            "Epoch 145/200\n",
            "159/159 [==============================] - 70s 440ms/step - loss: 58786.4414\n",
            "Epoch 146/200\n",
            "159/159 [==============================] - 70s 439ms/step - loss: 61672.9297\n",
            "Epoch 147/200\n",
            "159/159 [==============================] - 69s 437ms/step - loss: 61484.9219\n",
            "Epoch 148/200\n",
            "159/159 [==============================] - 70s 440ms/step - loss: 60218.4023\n",
            "Epoch 149/200\n",
            "159/159 [==============================] - 69s 437ms/step - loss: 64447.1484\n",
            "Epoch 150/200\n",
            "159/159 [==============================] - 69s 435ms/step - loss: 63791.8086\n",
            "Epoch 151/200\n",
            "159/159 [==============================] - 70s 441ms/step - loss: 60558.7852\n",
            "Epoch 152/200\n",
            "159/159 [==============================] - 70s 440ms/step - loss: 58179.4453\n",
            "Epoch 153/200\n",
            "159/159 [==============================] - 69s 432ms/step - loss: 59636.8438\n",
            "Epoch 154/200\n",
            "159/159 [==============================] - 71s 447ms/step - loss: 56161.3320\n",
            "Epoch 155/200\n",
            "159/159 [==============================] - 70s 442ms/step - loss: 59069.1055\n",
            "Epoch 156/200\n",
            "159/159 [==============================] - 72s 450ms/step - loss: 59318.3828\n",
            "Epoch 157/200\n",
            "159/159 [==============================] - 70s 440ms/step - loss: 58486.9961\n",
            "Epoch 158/200\n",
            "159/159 [==============================] - 70s 438ms/step - loss: 62159.4609\n",
            "Epoch 159/200\n",
            "159/159 [==============================] - 70s 443ms/step - loss: 53910.0664\n",
            "Epoch 160/200\n",
            "159/159 [==============================] - 70s 441ms/step - loss: 56673.1055\n",
            "Epoch 161/200\n",
            "159/159 [==============================] - 69s 435ms/step - loss: 53600.6367\n",
            "Epoch 162/200\n",
            "159/159 [==============================] - 70s 441ms/step - loss: 57425.4414\n",
            "Epoch 163/200\n",
            "159/159 [==============================] - 70s 441ms/step - loss: 59729.3047\n",
            "Epoch 164/200\n",
            "159/159 [==============================] - 70s 440ms/step - loss: 61649.9297\n",
            "Epoch 165/200\n",
            "159/159 [==============================] - 70s 438ms/step - loss: 58894.1094\n",
            "Epoch 166/200\n",
            "159/159 [==============================] - 70s 440ms/step - loss: 53769.0117\n",
            "Epoch 167/200\n",
            "159/159 [==============================] - 71s 447ms/step - loss: 59246.4883\n",
            "Epoch 168/200\n",
            "159/159 [==============================] - 70s 437ms/step - loss: 60457.5664\n",
            "Epoch 169/200\n",
            "159/159 [==============================] - 69s 434ms/step - loss: 58906.6406\n",
            "Epoch 170/200\n",
            "159/159 [==============================] - 69s 435ms/step - loss: 58841.0195\n",
            "Epoch 171/200\n",
            "159/159 [==============================] - 70s 441ms/step - loss: 54970.0664\n",
            "Epoch 172/200\n",
            "159/159 [==============================] - 70s 438ms/step - loss: 59593.6992\n",
            "Epoch 173/200\n",
            "159/159 [==============================] - 71s 443ms/step - loss: 57121.4570\n",
            "Epoch 174/200\n",
            "159/159 [==============================] - 70s 442ms/step - loss: 55773.3555\n",
            "Epoch 175/200\n",
            "159/159 [==============================] - 70s 441ms/step - loss: 56474.9375\n",
            "Epoch 176/200\n",
            "159/159 [==============================] - 71s 446ms/step - loss: 60863.1602\n",
            "Epoch 177/200\n",
            "159/159 [==============================] - 70s 442ms/step - loss: 58356.3906\n",
            "Epoch 178/200\n",
            "159/159 [==============================] - 69s 436ms/step - loss: 56257.6016\n",
            "Epoch 179/200\n",
            "159/159 [==============================] - 69s 435ms/step - loss: 57258.3750\n",
            "Epoch 180/200\n",
            "159/159 [==============================] - 71s 447ms/step - loss: 56744.0898\n",
            "Epoch 181/200\n",
            "159/159 [==============================] - 69s 433ms/step - loss: 58668.2617\n",
            "Epoch 182/200\n",
            "159/159 [==============================] - 70s 442ms/step - loss: 54862.6523\n",
            "Epoch 183/200\n",
            "159/159 [==============================] - 70s 441ms/step - loss: 56640.5820\n",
            "Epoch 184/200\n",
            "159/159 [==============================] - 70s 439ms/step - loss: 57599.1680\n",
            "Epoch 185/200\n",
            "159/159 [==============================] - 69s 436ms/step - loss: 54306.9336\n",
            "Epoch 186/200\n",
            "159/159 [==============================] - 71s 445ms/step - loss: 54179.2734\n",
            "Epoch 187/200\n",
            "159/159 [==============================] - 70s 441ms/step - loss: 58818.8086\n",
            "Epoch 188/200\n",
            "159/159 [==============================] - 71s 444ms/step - loss: 59352.6289\n",
            "Epoch 189/200\n",
            "159/159 [==============================] - 69s 436ms/step - loss: 60263.0820\n",
            "Epoch 190/200\n",
            "159/159 [==============================] - 70s 442ms/step - loss: 58608.3125\n",
            "Epoch 191/200\n",
            "159/159 [==============================] - 70s 441ms/step - loss: 62294.4219\n",
            "Epoch 192/200\n",
            "159/159 [==============================] - 68s 429ms/step - loss: 63031.0781\n",
            "Epoch 193/200\n",
            "159/159 [==============================] - 71s 445ms/step - loss: 58162.9297\n",
            "Epoch 194/200\n",
            "159/159 [==============================] - 69s 436ms/step - loss: 60312.9844\n",
            "Epoch 195/200\n",
            "159/159 [==============================] - 70s 441ms/step - loss: 58291.3281\n",
            "Epoch 196/200\n",
            "159/159 [==============================] - 71s 446ms/step - loss: 57075.4219\n",
            "Epoch 197/200\n",
            "159/159 [==============================] - 69s 435ms/step - loss: 58044.1016\n",
            "Epoch 198/200\n",
            "159/159 [==============================] - 69s 437ms/step - loss: 59790.5781\n",
            "Epoch 199/200\n",
            "159/159 [==============================] - 70s 441ms/step - loss: 55540.1172\n",
            "Epoch 200/200\n",
            "159/159 [==============================] - 69s 437ms/step - loss: 55201.5156\n"
          ]
        },
        {
          "output_type": "execute_result",
          "data": {
            "text/plain": [
              "<keras.callbacks.History at 0x7f53fe171950>"
            ]
          },
          "metadata": {},
          "execution_count": 65
        }
      ]
    },
    {
      "cell_type": "code",
      "source": [
        "model.save('/content/drive/MyDrive/Curso-WorkingAnalyst/semana10') # Faltó el '/model'"
      ],
      "metadata": {
        "colab": {
          "base_uri": "https://localhost:8080/"
        },
        "id": "fbR-3_KJjs7V",
        "outputId": "8d93a5b3-5eb0-4d01-eb33-b0d53d3bbafe"
      },
      "execution_count": null,
      "outputs": [
        {
          "output_type": "stream",
          "name": "stdout",
          "text": [
            "INFO:tensorflow:Assets written to: /content/drive/MyDrive/Curso-WorkingAnalyst/semana10/assets\n"
          ]
        }
      ]
    },
    {
      "cell_type": "markdown",
      "source": [
        "En lugar de arreglos, también podríamos haber utilizado \"tensores\" para alimentar nuestro modelo. A veces pueden ser mas útiles unos que otros."
      ],
      "metadata": {
        "id": "D546blcEif0U"
      }
    },
    {
      "cell_type": "code",
      "source": [
        "tensor_train = tf.convert_to_tensor(train_imgs_to_use)"
      ],
      "metadata": {
        "id": "Fv8xYMblIteO"
      },
      "execution_count": null,
      "outputs": []
    },
    {
      "cell_type": "code",
      "source": [
        "tensor_test = tf.convert_to_tensor(test_imgs_to_use)"
      ],
      "metadata": {
        "id": "ZQqIHM2iItVJ"
      },
      "execution_count": null,
      "outputs": []
    },
    {
      "cell_type": "code",
      "source": [
        "type(tensor_train)"
      ],
      "metadata": {
        "colab": {
          "base_uri": "https://localhost:8080/"
        },
        "id": "0GV6MAlvItXk",
        "outputId": "3075427c-30c0-4d10-bad1-27602b494ce7"
      },
      "execution_count": null,
      "outputs": [
        {
          "output_type": "execute_result",
          "data": {
            "text/plain": [
              "tensorflow.python.framework.ops.EagerTensor"
            ]
          },
          "metadata": {},
          "execution_count": 53
        }
      ]
    },
    {
      "cell_type": "code",
      "source": [
        "tensor_train.shape"
      ],
      "metadata": {
        "colab": {
          "base_uri": "https://localhost:8080/"
        },
        "id": "kp0BQyn0NSw9",
        "outputId": "8dd2e6e1-3bab-4164-b887-1e1cbd897d10"
      },
      "execution_count": null,
      "outputs": [
        {
          "output_type": "execute_result",
          "data": {
            "text/plain": [
              "TensorShape([5071, 96, 128, 3])"
            ]
          },
          "metadata": {},
          "execution_count": 54
        }
      ]
    },
    {
      "cell_type": "markdown",
      "source": [
        "# Cargado de los pesos de un modelo ya entrenado"
      ],
      "metadata": {
        "id": "ixu5aRWcrbfx"
      }
    },
    {
      "cell_type": "code",
      "source": [
        "model.load_weights('/content/drive/MyDrive/Curso-WorkingAnalyst/semana10')"
      ],
      "metadata": {
        "colab": {
          "base_uri": "https://localhost:8080/"
        },
        "id": "WySfCPPH0RF9",
        "outputId": "1b5cb4d3-ba19-4d8b-82c6-7f7f09e7545f"
      },
      "execution_count": null,
      "outputs": [
        {
          "output_type": "execute_result",
          "data": {
            "text/plain": [
              "<tensorflow.python.training.tracking.util.CheckpointLoadStatus at 0x7f20e8012f50>"
            ]
          },
          "metadata": {},
          "execution_count": 55
        }
      ]
    },
    {
      "cell_type": "code",
      "source": [
        "model.weights[-1]"
      ],
      "metadata": {
        "colab": {
          "base_uri": "https://localhost:8080/"
        },
        "id": "SJkiXItvR7he",
        "outputId": "9252221d-fd7a-4aa9-cade-d90c9682f9ae"
      },
      "execution_count": null,
      "outputs": [
        {
          "output_type": "execute_result",
          "data": {
            "text/plain": [
              "<tf.Variable 'dense_3/bias:0' shape=(1,) dtype=float32, numpy=array([41.68023], dtype=float32)>"
            ]
          },
          "metadata": {},
          "execution_count": 60
        }
      ]
    },
    {
      "cell_type": "code",
      "source": [
        "np.array(train_targets[0:20])"
      ],
      "metadata": {
        "id": "kU-uKp360c0g"
      },
      "execution_count": null,
      "outputs": []
    },
    {
      "cell_type": "code",
      "source": [
        "train_pred = model.predict(train_imgs_to_use)"
      ],
      "metadata": {
        "id": "27Sz3P7-0XJd"
      },
      "execution_count": null,
      "outputs": []
    },
    {
      "cell_type": "code",
      "source": [
        "plt.plot(range(20), np.array(train_targets[:20]))\n",
        "plt.plot(range(20), train_pred[:20])"
      ],
      "metadata": {
        "colab": {
          "base_uri": "https://localhost:8080/",
          "height": 293
        },
        "id": "3LI-sMCB0vcm",
        "outputId": "3d7061ec-072d-42c7-c359-55367035e5ae"
      },
      "execution_count": null,
      "outputs": [
        {
          "output_type": "execute_result",
          "data": {
            "text/plain": [
              "[<matplotlib.lines.Line2D at 0x7f20e153edd0>]"
            ]
          },
          "metadata": {},
          "execution_count": 64
        },
        {
          "output_type": "display_data",
          "data": {
            "text/plain": [
              "<Figure size 432x288 with 1 Axes>"
            ],
            "image/png": "[encoded data removed]"
          },
          "metadata": {
            "needs_background": "light"
          }
        }
      ]
    },
    {
      "cell_type": "code",
      "source": [
        "plt.plot(range(50),train_targets['price'][1100:1150])\n",
        "plt.plot(range(50),train_pred[1100:1150])"
      ],
      "metadata": {
        "id": "iQ7nb-C0q3bO",
        "colab": {
          "base_uri": "https://localhost:8080/",
          "height": 293
        },
        "outputId": "2b114db2-74e7-469a-a9f8-9c50707c4bd6"
      },
      "execution_count": null,
      "outputs": [
        {
          "output_type": "execute_result",
          "data": {
            "text/plain": [
              "[<matplotlib.lines.Line2D at 0x7f20e1573e90>]"
            ]
          },
          "metadata": {},
          "execution_count": 65
        },
        {
          "output_type": "display_data",
          "data": {
            "text/plain": [
              "<Figure size 432x288 with 1 Axes>"
            ],
            "image/png": "[encoded data removed]"
          },
          "metadata": {
            "needs_background": "light"
          }
        }
      ]
    },
    {
      "cell_type": "code",
      "source": [
        "keras.utils.plot_model( \n",
        "    model,\n",
        "    to_file=\"model.png\",\n",
        "    show_shapes=True,\n",
        "    show_dtype=False,\n",
        "    show_layer_names=True,\n",
        "    rankdir=\"TD\",\n",
        "    dpi=70,\n",
        ")"
      ],
      "metadata": {
        "colab": {
          "base_uri": "https://localhost:8080/",
          "height": 1000
        },
        "id": "-LP7_ispTjid",
        "outputId": "8972d05b-a63b-4baf-d9c2-1e422673fa86"
      },
      "execution_count": null,
      "outputs": [
        {
          "output_type": "execute_result",
          "data": {
            "text/plain": [
              "<IPython.core.display.Image object>"
            ],
            "image/png": "[encoded data removed]"
          },
          "metadata": {},
          "execution_count": 62
        }
      ]
    },
    {
      "cell_type": "markdown",
      "source": [
        "# Modelo que incluye características y vectorización de la imagen"
      ],
      "metadata": {
        "id": "7QRI08OL-1KE"
      }
    },
    {
      "cell_type": "markdown",
      "source": [
        "Características a usar"
      ],
      "metadata": {
        "id": "HXlQzdo4A5Fq"
      }
    },
    {
      "cell_type": "code",
      "source": [
        "train_features = features.loc[train_id, :]\n",
        "test_features = features.loc[test_id, :]"
      ],
      "metadata": {
        "id": "cdqnH3ZYA61M"
      },
      "execution_count": null,
      "outputs": []
    },
    {
      "cell_type": "code",
      "source": [
        "train_features.shape"
      ],
      "metadata": {
        "colab": {
          "base_uri": "https://localhost:8080/"
        },
        "id": "ZHJFVT4KA7L8",
        "outputId": "be5f67b2-af53-4925-b557-9a3d859f1cf3"
      },
      "execution_count": null,
      "outputs": [
        {
          "output_type": "execute_result",
          "data": {
            "text/plain": [
              "(5071, 19)"
            ]
          },
          "metadata": {},
          "execution_count": 67
        }
      ]
    },
    {
      "cell_type": "code",
      "source": [
        "# '/content/drive/MyDrive/Curso-WorkingAnalyst/semana10/model_1'"
      ],
      "metadata": {
        "id": "6e50WIkw-6EX"
      },
      "execution_count": null,
      "outputs": []
    },
    {
      "cell_type": "code",
      "source": [
        "# Recordemos la forma de nuestros características\n",
        "features.shape"
      ],
      "metadata": {
        "colab": {
          "base_uri": "https://localhost:8080/"
        },
        "id": "wHYWnjhX-6sG",
        "outputId": "d670eaf7-d4bd-47ab-927f-8b683ba595c6"
      },
      "execution_count": null,
      "outputs": [
        {
          "output_type": "execute_result",
          "data": {
            "text/plain": [
              "(10143, 19)"
            ]
          },
          "metadata": {},
          "execution_count": 53
        }
      ]
    },
    {
      "cell_type": "code",
      "source": [
        "img_input = keras.Input(shape=(96,128,3))\n",
        "\n",
        "normal_1 = keras.layers.BatchNormalization()(img_input)\n",
        "conv_1 = keras.layers.Conv2D(filters=16, input_shape = (96, 128, 3), kernel_size=(3,3), data_format='channels_last', activation=\"relu\", use_bias=False)(normal_1)\n",
        "normal_2 = keras.layers.BatchNormalization()(conv_1)\n",
        "pool_1 = keras.layers.MaxPooling2D(pool_size=(2,2))(normal_2)\n",
        "\n",
        "conv_2 = keras.layers.Conv2D(filters=32, kernel_size=(3,3), activation=\"relu\", use_bias=False)(pool_1)\n",
        "normal_3 = keras.layers.BatchNormalization()(conv_2)\n",
        "pool_2 = keras.layers.MaxPooling2D(pool_size=(2,2))(normal_3)\n",
        "\n",
        "flat_1 = keras.layers.Flatten()(pool_2)\n",
        "\n",
        "dense_1 = keras.layers.Dense(120, activation='relu', use_bias=False)(flat_1)\n",
        "\n",
        "normal_4 = keras.layers.BatchNormalization()(dense_1)\n",
        "dense_2 = keras.layers.Dense(84, activation='relu', use_bias=False)(normal_4)\n",
        "normal_5 = keras.layers.BatchNormalization()(dense_2)\n",
        "drop_1 = keras.layers.Dropout(rate=0.10)(normal_5)\n",
        "dense_3 = keras.layers.Dense(10, activation='linear')(drop_1)\n",
        "\n"
      ],
      "metadata": {
        "id": "RoNA7N2J2kZo"
      },
      "execution_count": null,
      "outputs": []
    },
    {
      "cell_type": "code",
      "source": [
        "feats_input = keras.Input(shape=(19), name='feats_input')"
      ],
      "metadata": {
        "id": "oOMuW63e9xsd"
      },
      "execution_count": null,
      "outputs": []
    },
    {
      "cell_type": "code",
      "source": [
        "# Realizamos la concatenatción de vectorización de la imagen y los features utilizados\n",
        "x = keras.layers.concatenate([dense_3, feats_input])\n",
        "\n",
        "# Una red posterior para la predicción\n",
        "dense_4 = keras.layers.Dense(80, activation='relu')(x)\n",
        "dense_5 = keras.layers.Dense(40, activation='relu')(dense_4)\n",
        "\n",
        "dense_6 = keras.layers.Dense(20, activation='relu')(dense_5)\n",
        "\n",
        "pred = keras.layers.Dense(1, activation='linear')(dense_6)"
      ],
      "metadata": {
        "id": "woUNSlh6-JnM"
      },
      "execution_count": null,
      "outputs": []
    },
    {
      "cell_type": "code",
      "source": [
        "model_1 = keras.Model(\n",
        "    inputs=[img_input, feats_input],\n",
        "    outputs=[pred],\n",
        ")"
      ],
      "metadata": {
        "id": "DAcEu9ih-W0I"
      },
      "execution_count": null,
      "outputs": []
    },
    {
      "cell_type": "code",
      "source": [
        "model_1.compile(loss='mae', optimizer=tf.keras.optimizers.Adam(learning_rate=1e-2))  #'rmsprop'"
      ],
      "metadata": {
        "id": "6RpWiAql1yVA"
      },
      "execution_count": null,
      "outputs": []
    },
    {
      "cell_type": "code",
      "source": [
        "train_targets.shape, train_imgs_to_use.shape, train_features.shape"
      ],
      "metadata": {
        "colab": {
          "base_uri": "https://localhost:8080/"
        },
        "id": "hvu3VRiCAZ5o",
        "outputId": "279ce696-b883-4bc8-b51f-4160b7b87464"
      },
      "execution_count": null,
      "outputs": [
        {
          "output_type": "execute_result",
          "data": {
            "text/plain": [
              "((5071, 1), (5071, 96, 128, 3), (5071, 19))"
            ]
          },
          "metadata": {},
          "execution_count": 56
        }
      ]
    },
    {
      "cell_type": "code",
      "source": [
        "model_1.fit([train_imgs_to_use, np.array(train_features)], np.array(train_targets), epochs=200)"
      ],
      "metadata": {
        "colab": {
          "base_uri": "https://localhost:8080/"
        },
        "outputId": "77fb71ab-650f-4e2b-dd8a-d3b2f71b7f4b",
        "id": "Pa25zg7T1yVA"
      },
      "execution_count": null,
      "outputs": [
        {
          "output_type": "stream",
          "name": "stdout",
          "text": [
            "Epoch 1/200\n",
            "159/159 [==============================] - 87s 538ms/step - loss: 260271.1562\n",
            "Epoch 2/200\n",
            "159/159 [==============================] - 73s 456ms/step - loss: 188675.6406\n",
            "Epoch 3/200\n",
            "159/159 [==============================] - 72s 452ms/step - loss: 184769.5938\n",
            "Epoch 4/200\n",
            "159/159 [==============================] - 73s 456ms/step - loss: 181330.2344\n",
            "Epoch 5/200\n",
            "159/159 [==============================] - 72s 453ms/step - loss: 178071.0625\n",
            "Epoch 6/200\n",
            "159/159 [==============================] - 75s 471ms/step - loss: 173669.9062\n",
            "Epoch 7/200\n",
            "159/159 [==============================] - 72s 452ms/step - loss: 172978.9688\n",
            "Epoch 8/200\n",
            "159/159 [==============================] - 72s 455ms/step - loss: 168192.8906\n",
            "Epoch 9/200\n",
            "159/159 [==============================] - 73s 456ms/step - loss: 165041.6562\n",
            "Epoch 10/200\n",
            "159/159 [==============================] - 73s 461ms/step - loss: 161620.6094\n",
            "Epoch 11/200\n",
            "159/159 [==============================] - 73s 459ms/step - loss: 155699.4219\n",
            "Epoch 12/200\n",
            "159/159 [==============================] - 73s 457ms/step - loss: 151753.0938\n",
            "Epoch 13/200\n",
            "159/159 [==============================] - 72s 452ms/step - loss: 148529.8281\n",
            "Epoch 14/200\n",
            "159/159 [==============================] - 72s 450ms/step - loss: 142222.0781\n",
            "Epoch 15/200\n",
            "159/159 [==============================] - 71s 444ms/step - loss: 156765.3125\n",
            "Epoch 16/200\n",
            "159/159 [==============================] - 69s 432ms/step - loss: 148515.4844\n",
            "Epoch 17/200\n",
            "159/159 [==============================] - 70s 439ms/step - loss: 136292.4062\n",
            "Epoch 18/200\n",
            "159/159 [==============================] - 69s 433ms/step - loss: 135160.9375\n",
            "Epoch 19/200\n",
            "159/159 [==============================] - 71s 449ms/step - loss: 123015.5234\n",
            "Epoch 20/200\n",
            "159/159 [==============================] - 71s 446ms/step - loss: 121597.7812\n",
            "Epoch 21/200\n",
            "159/159 [==============================] - 72s 453ms/step - loss: 133857.7812\n",
            "Epoch 22/200\n",
            "159/159 [==============================] - 72s 450ms/step - loss: 137303.8750\n",
            "Epoch 23/200\n",
            "159/159 [==============================] - 72s 453ms/step - loss: 124869.4531\n",
            "Epoch 24/200\n",
            "159/159 [==============================] - 71s 446ms/step - loss: 118448.7031\n",
            "Epoch 25/200\n",
            "159/159 [==============================] - 71s 444ms/step - loss: 112098.3281\n",
            "Epoch 26/200\n",
            "159/159 [==============================] - 70s 442ms/step - loss: 110339.3203\n",
            "Epoch 27/200\n",
            "159/159 [==============================] - 70s 440ms/step - loss: 104285.6172\n",
            "Epoch 28/200\n",
            "159/159 [==============================] - 71s 444ms/step - loss: 105243.4297\n",
            "Epoch 29/200\n",
            "159/159 [==============================] - 71s 444ms/step - loss: 98446.1094\n",
            "Epoch 30/200\n",
            "159/159 [==============================] - 70s 443ms/step - loss: 101786.5312\n",
            "Epoch 31/200\n",
            "159/159 [==============================] - 70s 442ms/step - loss: 97908.2656\n",
            "Epoch 32/200\n",
            "159/159 [==============================] - 72s 454ms/step - loss: 93640.7109\n",
            "Epoch 33/200\n",
            "159/159 [==============================] - 73s 457ms/step - loss: 103022.2656\n",
            "Epoch 34/200\n",
            "159/159 [==============================] - 73s 456ms/step - loss: 91846.4141\n",
            "Epoch 35/200\n",
            "159/159 [==============================] - 73s 459ms/step - loss: 92366.3438\n",
            "Epoch 36/200\n",
            "159/159 [==============================] - 72s 450ms/step - loss: 91181.0938\n",
            "Epoch 37/200\n",
            "159/159 [==============================] - 72s 451ms/step - loss: 85231.2578\n",
            "Epoch 38/200\n",
            "159/159 [==============================] - 70s 442ms/step - loss: 79640.3125\n",
            "Epoch 39/200\n",
            "159/159 [==============================] - 70s 443ms/step - loss: 80316.0938\n",
            "Epoch 40/200\n",
            "159/159 [==============================] - 72s 451ms/step - loss: 108573.0312\n",
            "Epoch 41/200\n",
            "159/159 [==============================] - 75s 472ms/step - loss: 96194.8203\n",
            "Epoch 42/200\n",
            "159/159 [==============================] - 78s 491ms/step - loss: 90544.2109\n",
            "Epoch 43/200\n",
            "159/159 [==============================] - 71s 446ms/step - loss: 84340.6641\n",
            "Epoch 44/200\n",
            "159/159 [==============================] - 73s 459ms/step - loss: 84040.1250\n",
            "Epoch 45/200\n",
            "159/159 [==============================] - 72s 455ms/step - loss: 84963.3906\n",
            "Epoch 46/200\n",
            "159/159 [==============================] - 75s 470ms/step - loss: 78324.2422\n",
            "Epoch 47/200\n",
            "159/159 [==============================] - 73s 460ms/step - loss: 78530.5469\n",
            "Epoch 48/200\n",
            "159/159 [==============================] - 72s 454ms/step - loss: 74905.6797\n",
            "Epoch 49/200\n",
            "159/159 [==============================] - 72s 452ms/step - loss: 71147.0000\n",
            "Epoch 50/200\n",
            "159/159 [==============================] - 71s 449ms/step - loss: 71728.0078\n",
            "Epoch 51/200\n",
            "159/159 [==============================] - 72s 455ms/step - loss: 93384.0391\n",
            "Epoch 52/200\n",
            "159/159 [==============================] - 74s 464ms/step - loss: 82105.5625\n",
            "Epoch 53/200\n",
            "159/159 [==============================] - 72s 454ms/step - loss: 77266.5625\n",
            "Epoch 54/200\n",
            "159/159 [==============================] - 72s 452ms/step - loss: 72284.4375\n",
            "Epoch 55/200\n",
            "159/159 [==============================] - 72s 453ms/step - loss: 66816.4922\n",
            "Epoch 56/200\n",
            "159/159 [==============================] - 72s 451ms/step - loss: 67132.9453\n",
            "Epoch 57/200\n",
            "159/159 [==============================] - 72s 454ms/step - loss: 66165.1406\n",
            "Epoch 58/200\n",
            "159/159 [==============================] - 71s 448ms/step - loss: 70077.6094\n",
            "Epoch 59/200\n",
            "159/159 [==============================] - 72s 450ms/step - loss: 69140.3047\n",
            "Epoch 60/200\n",
            "159/159 [==============================] - 71s 449ms/step - loss: 65612.0391\n",
            "Epoch 61/200\n",
            "159/159 [==============================] - 72s 453ms/step - loss: 65153.7656\n",
            "Epoch 62/200\n",
            "159/159 [==============================] - 72s 451ms/step - loss: 66435.8594\n",
            "Epoch 63/200\n",
            "159/159 [==============================] - 72s 450ms/step - loss: 62519.3047\n",
            "Epoch 64/200\n",
            "159/159 [==============================] - 72s 452ms/step - loss: 58488.7305\n",
            "Epoch 65/200\n",
            "159/159 [==============================] - 72s 452ms/step - loss: 60120.4609\n",
            "Epoch 66/200\n",
            "159/159 [==============================] - 72s 453ms/step - loss: 60234.8359\n",
            "Epoch 67/200\n",
            "159/159 [==============================] - 72s 452ms/step - loss: 61590.3086\n",
            "Epoch 68/200\n",
            "159/159 [==============================] - 72s 451ms/step - loss: 59244.5820\n",
            "Epoch 69/200\n",
            "159/159 [==============================] - 71s 448ms/step - loss: 59828.4570\n",
            "Epoch 70/200\n",
            "159/159 [==============================] - 71s 447ms/step - loss: 57891.8438\n",
            "Epoch 71/200\n",
            "159/159 [==============================] - 71s 447ms/step - loss: 57869.6758\n",
            "Epoch 72/200\n",
            "159/159 [==============================] - 71s 448ms/step - loss: 54110.8594\n",
            "Epoch 73/200\n",
            "159/159 [==============================] - 72s 452ms/step - loss: 54891.8516\n",
            "Epoch 74/200\n",
            "159/159 [==============================] - 73s 458ms/step - loss: 53993.8008\n",
            "Epoch 75/200\n",
            "159/159 [==============================] - 73s 457ms/step - loss: 58481.8320\n",
            "Epoch 76/200\n",
            "159/159 [==============================] - 73s 457ms/step - loss: 57224.9219\n",
            "Epoch 77/200\n",
            "159/159 [==============================] - 73s 457ms/step - loss: 53782.7227\n",
            "Epoch 78/200\n",
            "159/159 [==============================] - 75s 470ms/step - loss: 57927.5156\n",
            "Epoch 79/200\n",
            "159/159 [==============================] - 75s 470ms/step - loss: 55551.3867\n",
            "Epoch 80/200\n",
            "159/159 [==============================] - 75s 468ms/step - loss: 52547.2383\n",
            "Epoch 81/200\n",
            "159/159 [==============================] - 74s 467ms/step - loss: 56643.8125\n",
            "Epoch 82/200\n",
            "159/159 [==============================] - 74s 467ms/step - loss: 52463.8867\n",
            "Epoch 83/200\n",
            "159/159 [==============================] - 76s 478ms/step - loss: 56107.6484\n",
            "Epoch 84/200\n",
            "159/159 [==============================] - 74s 468ms/step - loss: 52490.6250\n",
            "Epoch 85/200\n",
            "159/159 [==============================] - 73s 459ms/step - loss: 51339.9219\n",
            "Epoch 86/200\n",
            "159/159 [==============================] - 73s 457ms/step - loss: 51883.2617\n",
            "Epoch 87/200\n",
            "159/159 [==============================] - 73s 459ms/step - loss: 53542.4414\n",
            "Epoch 88/200\n",
            "159/159 [==============================] - 73s 461ms/step - loss: 54688.5508\n",
            "Epoch 89/200\n",
            "159/159 [==============================] - 73s 457ms/step - loss: 52326.1680\n",
            "Epoch 90/200\n",
            "159/159 [==============================] - 73s 460ms/step - loss: 50918.9883\n",
            "Epoch 91/200\n",
            "159/159 [==============================] - 73s 462ms/step - loss: 50375.3398\n",
            "Epoch 92/200\n",
            "159/159 [==============================] - 73s 457ms/step - loss: 50337.3867\n",
            "Epoch 93/200\n",
            "159/159 [==============================] - 72s 454ms/step - loss: 51638.9766\n",
            "Epoch 94/200\n",
            "159/159 [==============================] - 72s 451ms/step - loss: 50290.8750\n",
            "Epoch 95/200\n",
            "159/159 [==============================] - 72s 454ms/step - loss: 51390.3477\n",
            "Epoch 96/200\n",
            "159/159 [==============================] - 72s 452ms/step - loss: 47931.3164\n",
            "Epoch 97/200\n",
            "159/159 [==============================] - 72s 453ms/step - loss: 54741.9844\n",
            "Epoch 98/200\n",
            "159/159 [==============================] - 72s 450ms/step - loss: 51181.3789\n",
            "Epoch 99/200\n",
            "159/159 [==============================] - 71s 448ms/step - loss: 52018.4883\n",
            "Epoch 100/200\n",
            "159/159 [==============================] - 72s 453ms/step - loss: 47399.3594\n",
            "Epoch 101/200\n",
            "159/159 [==============================] - 71s 449ms/step - loss: 47483.0352\n",
            "Epoch 102/200\n",
            "159/159 [==============================] - 72s 451ms/step - loss: 51449.5703\n",
            "Epoch 103/200\n",
            "159/159 [==============================] - 73s 460ms/step - loss: 49745.0117\n",
            "Epoch 104/200\n",
            "159/159 [==============================] - 74s 465ms/step - loss: 46683.6602\n",
            "Epoch 105/200\n",
            "159/159 [==============================] - 73s 456ms/step - loss: 49576.5742\n",
            "Epoch 106/200\n",
            "159/159 [==============================] - 72s 453ms/step - loss: 47319.1992\n",
            "Epoch 107/200\n",
            "159/159 [==============================] - 71s 446ms/step - loss: 47386.8242\n",
            "Epoch 108/200\n",
            "159/159 [==============================] - 71s 448ms/step - loss: 47348.1094\n",
            "Epoch 109/200\n",
            "159/159 [==============================] - 71s 446ms/step - loss: 47720.3672\n",
            "Epoch 110/200\n",
            "159/159 [==============================] - 71s 445ms/step - loss: 45782.8203\n",
            "Epoch 111/200\n",
            "159/159 [==============================] - 74s 467ms/step - loss: 48395.0273\n",
            "Epoch 112/200\n",
            "159/159 [==============================] - 70s 443ms/step - loss: 45979.0703\n",
            "Epoch 113/200\n",
            "159/159 [==============================] - 71s 445ms/step - loss: 46830.2734\n",
            "Epoch 114/200\n",
            "159/159 [==============================] - 70s 439ms/step - loss: 46588.6758\n",
            "Epoch 115/200\n",
            "159/159 [==============================] - 72s 452ms/step - loss: 45711.3906\n",
            "Epoch 116/200\n",
            "159/159 [==============================] - 72s 451ms/step - loss: 44996.2617\n",
            "Epoch 117/200\n",
            "159/159 [==============================] - 71s 448ms/step - loss: 42955.7578\n",
            "Epoch 118/200\n",
            "159/159 [==============================] - 71s 445ms/step - loss: 46836.4727\n",
            "Epoch 119/200\n",
            "159/159 [==============================] - 71s 447ms/step - loss: 46433.3164\n",
            "Epoch 120/200\n",
            "159/159 [==============================] - 72s 452ms/step - loss: 46329.8477\n",
            "Epoch 121/200\n",
            "159/159 [==============================] - 71s 448ms/step - loss: 44231.2344\n",
            "Epoch 122/200\n",
            "159/159 [==============================] - 72s 451ms/step - loss: 43931.9219\n",
            "Epoch 123/200\n",
            "159/159 [==============================] - 72s 453ms/step - loss: 44380.9727\n",
            "Epoch 124/200\n",
            "159/159 [==============================] - 72s 452ms/step - loss: 48033.0898\n",
            "Epoch 125/200\n",
            "159/159 [==============================] - 72s 453ms/step - loss: 53481.1875\n",
            "Epoch 126/200\n",
            "159/159 [==============================] - 72s 453ms/step - loss: 47915.1016\n",
            "Epoch 127/200\n",
            "159/159 [==============================] - 73s 456ms/step - loss: 45093.8008\n",
            "Epoch 128/200\n",
            "159/159 [==============================] - 72s 452ms/step - loss: 43064.2852\n",
            "Epoch 129/200\n",
            "159/159 [==============================] - 74s 464ms/step - loss: 40516.8789\n",
            "Epoch 130/200\n",
            "159/159 [==============================] - 75s 472ms/step - loss: 44103.2188\n",
            "Epoch 131/200\n",
            "159/159 [==============================] - 75s 469ms/step - loss: 45394.4883\n",
            "Epoch 132/200\n",
            "159/159 [==============================] - 74s 467ms/step - loss: 39710.3438\n",
            "Epoch 133/200\n",
            "159/159 [==============================] - 73s 458ms/step - loss: 39492.4219\n",
            "Epoch 134/200\n",
            "159/159 [==============================] - 72s 452ms/step - loss: 45908.5117\n",
            "Epoch 135/200\n",
            "159/159 [==============================] - 74s 466ms/step - loss: 41336.2969\n",
            "Epoch 136/200\n",
            "159/159 [==============================] - 75s 469ms/step - loss: 42204.1680\n",
            "Epoch 137/200\n",
            "159/159 [==============================] - 72s 451ms/step - loss: 42367.6602\n",
            "Epoch 138/200\n",
            "159/159 [==============================] - 71s 443ms/step - loss: 42331.1836\n",
            "Epoch 139/200\n",
            "159/159 [==============================] - 70s 443ms/step - loss: 41584.0430\n",
            "Epoch 140/200\n",
            "159/159 [==============================] - 72s 456ms/step - loss: 40408.5078\n",
            "Epoch 141/200\n",
            "159/159 [==============================] - 72s 454ms/step - loss: 38722.3555\n",
            "Epoch 142/200\n",
            "159/159 [==============================] - 72s 451ms/step - loss: 39623.0977\n",
            "Epoch 143/200\n",
            "159/159 [==============================] - 71s 448ms/step - loss: 40055.9141\n",
            "Epoch 144/200\n",
            "159/159 [==============================] - 71s 447ms/step - loss: 41752.6875\n",
            "Epoch 145/200\n",
            "159/159 [==============================] - 71s 449ms/step - loss: 38593.9609\n",
            "Epoch 146/200\n",
            "159/159 [==============================] - 71s 445ms/step - loss: 40301.0898\n",
            "Epoch 147/200\n",
            "159/159 [==============================] - 71s 445ms/step - loss: 40179.4062\n",
            "Epoch 148/200\n",
            "159/159 [==============================] - 73s 457ms/step - loss: 40357.3906\n",
            "Epoch 149/200\n",
            "159/159 [==============================] - 73s 457ms/step - loss: 39230.0703\n",
            "Epoch 150/200\n",
            "159/159 [==============================] - 74s 465ms/step - loss: 41376.6328\n",
            "Epoch 151/200\n",
            "159/159 [==============================] - 73s 460ms/step - loss: 42239.3164\n",
            "Epoch 152/200\n",
            "159/159 [==============================] - 73s 459ms/step - loss: 39248.2305\n",
            "Epoch 153/200\n",
            "159/159 [==============================] - 73s 460ms/step - loss: 39484.8086\n",
            "Epoch 154/200\n",
            "159/159 [==============================] - 72s 455ms/step - loss: 38355.0273\n",
            "Epoch 155/200\n",
            "159/159 [==============================] - 73s 456ms/step - loss: 39425.5352\n",
            "Epoch 156/200\n",
            "159/159 [==============================] - 72s 454ms/step - loss: 38077.4688\n",
            "Epoch 157/200\n",
            "159/159 [==============================] - 72s 454ms/step - loss: 38617.3125\n",
            "Epoch 158/200\n",
            "159/159 [==============================] - 72s 453ms/step - loss: 38069.5039\n",
            "Epoch 159/200\n",
            "159/159 [==============================] - 72s 451ms/step - loss: 37677.7266\n",
            "Epoch 160/200\n",
            "159/159 [==============================] - 72s 454ms/step - loss: 42295.7500\n",
            "Epoch 161/200\n",
            "159/159 [==============================] - 73s 456ms/step - loss: 39189.7930\n",
            "Epoch 162/200\n",
            "159/159 [==============================] - 72s 455ms/step - loss: 38318.1094\n",
            "Epoch 163/200\n",
            "159/159 [==============================] - 72s 455ms/step - loss: 35784.6406\n",
            "Epoch 164/200\n",
            "159/159 [==============================] - 72s 454ms/step - loss: 40236.3359\n",
            "Epoch 165/200\n",
            "159/159 [==============================] - 72s 454ms/step - loss: 38552.8945\n",
            "Epoch 166/200\n",
            "159/159 [==============================] - 71s 447ms/step - loss: 37920.6133\n",
            "Epoch 167/200\n",
            "159/159 [==============================] - 72s 455ms/step - loss: 35393.1719\n",
            "Epoch 168/200\n",
            "159/159 [==============================] - 72s 451ms/step - loss: 37946.5508\n",
            "Epoch 169/200\n",
            "159/159 [==============================] - 72s 450ms/step - loss: 38895.6641\n",
            "Epoch 170/200\n",
            "159/159 [==============================] - 73s 459ms/step - loss: 37813.7461\n",
            "Epoch 171/200\n",
            "159/159 [==============================] - 73s 456ms/step - loss: 37360.5820\n",
            "Epoch 172/200\n",
            "159/159 [==============================] - 72s 452ms/step - loss: 36269.8203\n",
            "Epoch 173/200\n",
            "159/159 [==============================] - 72s 455ms/step - loss: 36425.3906\n",
            "Epoch 174/200\n",
            "159/159 [==============================] - 72s 452ms/step - loss: 35708.4961\n",
            "Epoch 175/200\n",
            "159/159 [==============================] - 73s 459ms/step - loss: 35759.4648\n",
            "Epoch 176/200\n",
            "159/159 [==============================] - 71s 445ms/step - loss: 35067.4453\n",
            "Epoch 177/200\n",
            "159/159 [==============================] - 72s 450ms/step - loss: 35601.0742\n",
            "Epoch 178/200\n",
            "159/159 [==============================] - 71s 448ms/step - loss: 33696.3164\n",
            "Epoch 179/200\n",
            "159/159 [==============================] - 72s 453ms/step - loss: 37552.3633\n",
            "Epoch 180/200\n",
            "159/159 [==============================] - 73s 459ms/step - loss: 36234.4883\n",
            "Epoch 181/200\n",
            "159/159 [==============================] - 72s 455ms/step - loss: 36701.5469\n",
            "Epoch 182/200\n",
            "159/159 [==============================] - 73s 458ms/step - loss: 37059.3242\n",
            "Epoch 183/200\n",
            "159/159 [==============================] - 73s 456ms/step - loss: 36878.4492\n",
            "Epoch 184/200\n",
            "159/159 [==============================] - 72s 453ms/step - loss: 36236.0742\n",
            "Epoch 185/200\n",
            "159/159 [==============================] - 73s 458ms/step - loss: 37355.6406\n",
            "Epoch 186/200\n",
            "159/159 [==============================] - 74s 466ms/step - loss: 35992.1953\n",
            "Epoch 187/200\n",
            "159/159 [==============================] - 75s 469ms/step - loss: 34603.4336\n",
            "Epoch 188/200\n",
            "159/159 [==============================] - 74s 464ms/step - loss: 36880.3086\n",
            "Epoch 189/200\n",
            "159/159 [==============================] - 74s 462ms/step - loss: 35354.8750\n",
            "Epoch 190/200\n",
            "159/159 [==============================] - 74s 462ms/step - loss: 34258.3867\n",
            "Epoch 191/200\n",
            "159/159 [==============================] - 74s 463ms/step - loss: 36278.7969\n",
            "Epoch 192/200\n",
            "159/159 [==============================] - 74s 463ms/step - loss: 33085.3438\n",
            "Epoch 193/200\n",
            "159/159 [==============================] - 74s 465ms/step - loss: 35194.1484\n",
            "Epoch 194/200\n",
            "159/159 [==============================] - 74s 468ms/step - loss: 32104.6367\n",
            "Epoch 195/200\n",
            "159/159 [==============================] - 75s 470ms/step - loss: 34849.0234\n",
            "Epoch 196/200\n",
            "159/159 [==============================] - 74s 466ms/step - loss: 35792.7891\n",
            "Epoch 197/200\n",
            "159/159 [==============================] - 73s 461ms/step - loss: 33626.6914\n",
            "Epoch 198/200\n",
            "159/159 [==============================] - 74s 464ms/step - loss: 34307.6797\n",
            "Epoch 199/200\n",
            "159/159 [==============================] - 73s 462ms/step - loss: 32547.6660\n",
            "Epoch 200/200\n",
            "159/159 [==============================] - 73s 458ms/step - loss: 36108.7109\n"
          ]
        },
        {
          "output_type": "execute_result",
          "data": {
            "text/plain": [
              "<keras.callbacks.History at 0x7f720ab9f3d0>"
            ]
          },
          "metadata": {},
          "execution_count": 57
        }
      ]
    },
    {
      "cell_type": "code",
      "source": [
        "keras.utils.plot_model( \n",
        "    model_1,\n",
        "    to_file=\"model.png\",\n",
        "    show_shapes=True,\n",
        "    show_dtype=False,\n",
        "    show_layer_names=True,\n",
        "    rankdir=\"TD\",\n",
        "    dpi=60,\n",
        ")"
      ],
      "metadata": {
        "colab": {
          "base_uri": "https://localhost:8080/",
          "height": 1000
        },
        "id": "K7G4FD2NveYW",
        "outputId": "cb56013d-2238-4809-cfca-93ddc4191d3f"
      },
      "execution_count": null,
      "outputs": [
        {
          "output_type": "execute_result",
          "data": {
            "text/plain": [
              "<IPython.core.display.Image object>"
            ],
            "image/png": "[encoded data removed]"
          },
          "metadata": {},
          "execution_count": 99
        }
      ]
    },
    {
      "cell_type": "code",
      "source": [
        "model_1.summary()"
      ],
      "metadata": {
        "colab": {
          "base_uri": "https://localhost:8080/"
        },
        "id": "kVQy5ISicKeW",
        "outputId": "1b8665bd-9e45-4d97-e907-9003c7051858"
      },
      "execution_count": null,
      "outputs": [
        {
          "output_type": "stream",
          "name": "stdout",
          "text": [
            "Model: \"model\"\n",
            "__________________________________________________________________________________________________\n",
            " Layer (type)                   Output Shape         Param #     Connected to                     \n",
            "==================================================================================================\n",
            " Input_img (InputLayer)         [(None, 96, 128, 3)  0           []                               \n",
            "                                ]                                                                 \n",
            "                                                                                                  \n",
            " batch_normalization_5 (BatchNo  (None, 96, 128, 3)  12          ['Input_img[0][0]']              \n",
            " rmalization)                                                                                     \n",
            "                                                                                                  \n",
            " conv2d_2 (Conv2D)              (None, 94, 126, 16)  432         ['batch_normalization_5[0][0]']  \n",
            "                                                                                                  \n",
            " batch_normalization_6 (BatchNo  (None, 94, 126, 16)  64         ['conv2d_2[0][0]']               \n",
            " rmalization)                                                                                     \n",
            "                                                                                                  \n",
            " max_pooling2d_2 (MaxPooling2D)  (None, 47, 63, 16)  0           ['batch_normalization_6[0][0]']  \n",
            "                                                                                                  \n",
            " conv2d_3 (Conv2D)              (None, 45, 61, 32)   4608        ['max_pooling2d_2[0][0]']        \n",
            "                                                                                                  \n",
            " batch_normalization_7 (BatchNo  (None, 45, 61, 32)  128         ['conv2d_3[0][0]']               \n",
            " rmalization)                                                                                     \n",
            "                                                                                                  \n",
            " max_pooling2d_3 (MaxPooling2D)  (None, 22, 30, 32)  0           ['batch_normalization_7[0][0]']  \n",
            "                                                                                                  \n",
            " flatten_1 (Flatten)            (None, 21120)        0           ['max_pooling2d_3[0][0]']        \n",
            "                                                                                                  \n",
            " dense (Dense)                  (None, 120)          2534400     ['flatten_1[0][0]']              \n",
            "                                                                                                  \n",
            " batch_normalization_8 (BatchNo  (None, 120)         480         ['dense[0][0]']                  \n",
            " rmalization)                                                                                     \n",
            "                                                                                                  \n",
            " dense_1 (Dense)                (None, 84)           10080       ['batch_normalization_8[0][0]']  \n",
            "                                                                                                  \n",
            " batch_normalization_9 (BatchNo  (None, 84)          336         ['dense_1[0][0]']                \n",
            " rmalization)                                                                                     \n",
            "                                                                                                  \n",
            " dropout_1 (Dropout)            (None, 84)           0           ['batch_normalization_9[0][0]']  \n",
            "                                                                                                  \n",
            " dense_2 (Dense)                (None, 10)           850         ['dropout_1[0][0]']              \n",
            "                                                                                                  \n",
            " feats_input (InputLayer)       [(None, 19)]         0           []                               \n",
            "                                                                                                  \n",
            " concatenate (Concatenate)      (None, 29)           0           ['dense_2[0][0]',                \n",
            "                                                                  'feats_input[0][0]']            \n",
            "                                                                                                  \n",
            " dense_3 (Dense)                (None, 80)           2400        ['concatenate[0][0]']            \n",
            "                                                                                                  \n",
            " dense_4 (Dense)                (None, 40)           3240        ['dense_3[0][0]']                \n",
            "                                                                                                  \n",
            " dense_5 (Dense)                (None, 20)           820         ['dense_4[0][0]']                \n",
            "                                                                                                  \n",
            " dense_6 (Dense)                (None, 1)            21          ['dense_5[0][0]']                \n",
            "                                                                                                  \n",
            "==================================================================================================\n",
            "Total params: 2,557,871\n",
            "Trainable params: 2,557,361\n",
            "Non-trainable params: 510\n",
            "__________________________________________________________________________________________________\n"
          ]
        }
      ]
    },
    {
      "cell_type": "code",
      "source": [
        "model_1.load_weights('/content/drive/MyDrive/Curso-WorkingAnalyst/semana10/model_1')"
      ],
      "metadata": {
        "colab": {
          "base_uri": "https://localhost:8080/"
        },
        "id": "cw1wYMWT8Kyd",
        "outputId": "36ea7a06-639f-4915-98f1-f5925dc123e8"
      },
      "execution_count": null,
      "outputs": [
        {
          "output_type": "execute_result",
          "data": {
            "text/plain": [
              "<tensorflow.python.training.tracking.util.CheckpointLoadStatus at 0x7f20e147d9d0>"
            ]
          },
          "metadata": {},
          "execution_count": 73
        }
      ]
    },
    {
      "cell_type": "code",
      "source": [
        "train_pred = model_1.predict([train_imgs_to_use, np.array(train_features)])"
      ],
      "metadata": {
        "id": "IbVH_p1fveWR"
      },
      "execution_count": null,
      "outputs": []
    },
    {
      "cell_type": "code",
      "source": [
        "train_targets"
      ],
      "metadata": {
        "id": "k_fIXqJtveUI",
        "colab": {
          "base_uri": "https://localhost:8080/",
          "height": 455
        },
        "outputId": "de37ff39-ffd5-4025-d90b-823a7f9f91bd"
      },
      "execution_count": null,
      "outputs": [
        {
          "output_type": "execute_result",
          "data": {
            "text/plain": [
              "               price\n",
              "id_annonce          \n",
              "36063535    139000.0\n",
              "35776405    226000.0\n",
              "35739799    273500.0\n",
              "36021087    470000.0\n",
              "35857443    176000.0\n",
              "...              ...\n",
              "36058247    565000.0\n",
              "35868521     65000.0\n",
              "35831921    599000.0\n",
              "35901267    239558.0\n",
              "35874403    300000.0\n",
              "\n",
              "[5071 rows x 1 columns]"
            ],
            "text/html": [
              "\n",
              "  <div id=\"df-be8cc597-add6-42ea-aaad-37f1caa5a4dd\">\n",
              "    <div class=\"colab-df-container\">\n",
              "      <div>\n",
              "<style scoped>\n",
              "    .dataframe tbody tr th:only-of-type {\n",
              "        vertical-align: middle;\n",
              "    }\n",
              "\n",
              "    .dataframe tbody tr th {\n",
              "        vertical-align: top;\n",
              "    }\n",
              "\n",
              "    .dataframe thead th {\n",
              "        text-align: right;\n",
              "    }\n",
              "</style>\n",
              "<table border=\"1\" class=\"dataframe\">\n",
              "  <thead>\n",
              "    <tr style=\"text-align: right;\">\n",
              "      <th></th>\n",
              "      <th>price</th>\n",
              "    </tr>\n",
              "    <tr>\n",
              "      <th>id_annonce</th>\n",
              "      <th></th>\n",
              "    </tr>\n",
              "  </thead>\n",
              "  <tbody>\n",
              "    <tr>\n",
              "      <th>36063535</th>\n",
              "      <td>139000.0</td>\n",
              "    </tr>\n",
              "    <tr>\n",
              "      <th>35776405</th>\n",
              "      <td>226000.0</td>\n",
              "    </tr>\n",
              "    <tr>\n",
              "      <th>35739799</th>\n",
              "      <td>273500.0</td>\n",
              "    </tr>\n",
              "    <tr>\n",
              "      <th>36021087</th>\n",
              "      <td>470000.0</td>\n",
              "    </tr>\n",
              "    <tr>\n",
              "      <th>35857443</th>\n",
              "      <td>176000.0</td>\n",
              "    </tr>\n",
              "    <tr>\n",
              "      <th>...</th>\n",
              "      <td>...</td>\n",
              "    </tr>\n",
              "    <tr>\n",
              "      <th>36058247</th>\n",
              "      <td>565000.0</td>\n",
              "    </tr>\n",
              "    <tr>\n",
              "      <th>35868521</th>\n",
              "      <td>65000.0</td>\n",
              "    </tr>\n",
              "    <tr>\n",
              "      <th>35831921</th>\n",
              "      <td>599000.0</td>\n",
              "    </tr>\n",
              "    <tr>\n",
              "      <th>35901267</th>\n",
              "      <td>239558.0</td>\n",
              "    </tr>\n",
              "    <tr>\n",
              "      <th>35874403</th>\n",
              "      <td>300000.0</td>\n",
              "    </tr>\n",
              "  </tbody>\n",
              "</table>\n",
              "<p>5071 rows × 1 columns</p>\n",
              "</div>\n",
              "      <button class=\"colab-df-convert\" onclick=\"convertToInteractive('df-be8cc597-add6-42ea-aaad-37f1caa5a4dd')\"\n",
              "              title=\"Convert this dataframe to an interactive table.\"\n",
              "              style=\"display:none;\">\n",
              "        \n",
              "  <svg xmlns=\"http://www.w3.org/2000/svg\" height=\"24px\"viewBox=\"0 0 24 24\"\n",
              "       width=\"24px\">\n",
              "    <path d=\"M0 0h24v24H0V0z\" fill=\"none\"/>\n",
              "    <path d=\"M18.56 5.44l.94 2.06.94-2.06 2.06-.94-2.06-.94-.94-2.06-.94 2.06-2.06.94zm-11 1L8.5 8.5l.94-2.06 2.06-.94-2.06-.94L8.5 2.5l-.94 2.06-2.06.94zm10 10l.94 2.06.94-2.06 2.06-.94-2.06-.94-.94-2.06-.94 2.06-2.06.94z\"/><path d=\"M17.41 7.96l-1.37-1.37c-.4-.4-.92-.59-1.43-.59-.52 0-1.04.2-1.43.59L10.3 9.45l-7.72 7.72c-.78.78-.78 2.05 0 2.83L4 21.41c.39.39.9.59 1.41.59.51 0 1.02-.2 1.41-.59l7.78-7.78 2.81-2.81c.8-.78.8-2.07 0-2.86zM5.41 20L4 18.59l7.72-7.72 1.47 1.35L5.41 20z\"/>\n",
              "  </svg>\n",
              "      </button>\n",
              "      \n",
              "  <style>\n",
              "    .colab-df-container {\n",
              "      display:flex;\n",
              "      flex-wrap:wrap;\n",
              "      gap: 12px;\n",
              "    }\n",
              "\n",
              "    .colab-df-convert {\n",
              "      background-color: #E8F0FE;\n",
              "      border: none;\n",
              "      border-radius: 50%;\n",
              "      cursor: pointer;\n",
              "      display: none;\n",
              "      fill: #1967D2;\n",
              "      height: 32px;\n",
              "      padding: 0 0 0 0;\n",
              "      width: 32px;\n",
              "    }\n",
              "\n",
              "    .colab-df-convert:hover {\n",
              "      background-color: #E2EBFA;\n",
              "      box-shadow: 0px 1px 2px rgba(60, 64, 67, 0.3), 0px 1px 3px 1px rgba(60, 64, 67, 0.15);\n",
              "      fill: #174EA6;\n",
              "    }\n",
              "\n",
              "    [theme=dark] .colab-df-convert {\n",
              "      background-color: #3B4455;\n",
              "      fill: #D2E3FC;\n",
              "    }\n",
              "\n",
              "    [theme=dark] .colab-df-convert:hover {\n",
              "      background-color: #434B5C;\n",
              "      box-shadow: 0px 1px 3px 1px rgba(0, 0, 0, 0.15);\n",
              "      filter: drop-shadow(0px 1px 2px rgba(0, 0, 0, 0.3));\n",
              "      fill: #FFFFFF;\n",
              "    }\n",
              "  </style>\n",
              "\n",
              "      <script>\n",
              "        const buttonEl =\n",
              "          document.querySelector('#df-be8cc597-add6-42ea-aaad-37f1caa5a4dd button.colab-df-convert');\n",
              "        buttonEl.style.display =\n",
              "          google.colab.kernel.accessAllowed ? 'block' : 'none';\n",
              "\n",
              "        async function convertToInteractive(key) {\n",
              "          const element = document.querySelector('#df-be8cc597-add6-42ea-aaad-37f1caa5a4dd');\n",
              "          const dataTable =\n",
              "            await google.colab.kernel.invokeFunction('convertToInteractive',\n",
              "                                                     [key], {});\n",
              "          if (!dataTable) return;\n",
              "\n",
              "          const docLinkHtml = 'Like what you see? Visit the ' +\n",
              "            '<a target=\"_blank\" href=https://colab.research.google.com/notebooks/data_table.ipynb>data table notebook</a>'\n",
              "            + ' to learn more about interactive tables.';\n",
              "          element.innerHTML = '';\n",
              "          dataTable['output_type'] = 'display_data';\n",
              "          await google.colab.output.renderOutput(dataTable, element);\n",
              "          const docLink = document.createElement('div');\n",
              "          docLink.innerHTML = docLinkHtml;\n",
              "          element.appendChild(docLink);\n",
              "        }\n",
              "      </script>\n",
              "    </div>\n",
              "  </div>\n",
              "  "
            ]
          },
          "metadata": {},
          "execution_count": 77
        }
      ]
    },
    {
      "cell_type": "code",
      "source": [
        "plt.plot(range(100),train_targets['price'][1050:1150]) #range(len(train_targets))\n",
        "plt.plot(range(100),train_pred[1050:1150])"
      ],
      "metadata": {
        "colab": {
          "base_uri": "https://localhost:8080/",
          "height": 293
        },
        "outputId": "ae144b8e-348f-464c-9ed8-37c53bacb3f7",
        "id": "51P5dgM8CJ6u"
      },
      "execution_count": null,
      "outputs": [
        {
          "output_type": "execute_result",
          "data": {
            "text/plain": [
              "[<matplotlib.lines.Line2D at 0x7f20e12ff890>]"
            ]
          },
          "metadata": {},
          "execution_count": 78
        },
        {
          "output_type": "display_data",
          "data": {
            "text/plain": [
              "<Figure size 432x288 with 1 Axes>"
            ],
            "image/png": "[encoded data removed]"
          },
          "metadata": {
            "needs_background": "light"
          }
        }
      ]
    },
    {
      "cell_type": "code",
      "source": [
        "train_pred.shape"
      ],
      "metadata": {
        "colab": {
          "base_uri": "https://localhost:8080/"
        },
        "id": "EOJucsSh5wR-",
        "outputId": "1cb04d70-769f-4a3f-9285-b143f2fe9e1d"
      },
      "execution_count": null,
      "outputs": [
        {
          "output_type": "execute_result",
          "data": {
            "text/plain": [
              "(5071, 1)"
            ]
          },
          "metadata": {},
          "execution_count": 69
        }
      ]
    },
    {
      "cell_type": "code",
      "source": [
        "mae_train = np.abs(train_pred.reshape(5071,) - train_targets['price']).sum()/5071\n",
        "mae_train"
      ],
      "metadata": {
        "colab": {
          "base_uri": "https://localhost:8080/"
        },
        "id": "Bxq8MBQ35kFW",
        "outputId": "692fb111-0e58-4d94-f2d5-c6448d511d87"
      },
      "execution_count": null,
      "outputs": [
        {
          "output_type": "execute_result",
          "data": {
            "text/plain": [
              "27298.7040815344"
            ]
          },
          "metadata": {},
          "execution_count": 79
        }
      ]
    },
    {
      "cell_type": "code",
      "source": [
        "test_pred = model_1.predict([test_imgs_to_use, np.array(test_features)])"
      ],
      "metadata": {
        "id": "QDISh7PJ_CTK"
      },
      "execution_count": null,
      "outputs": []
    },
    {
      "cell_type": "code",
      "source": [
        "test_pred"
      ],
      "metadata": {
        "colab": {
          "base_uri": "https://localhost:8080/"
        },
        "id": "VJRRgceV_nrb",
        "outputId": "e942864f-59a4-48f5-c0ae-3e31586575ae"
      },
      "execution_count": null,
      "outputs": [
        {
          "output_type": "execute_result",
          "data": {
            "text/plain": [
              "array([[545959.7 ],\n",
              "       [184443.03],\n",
              "       [271038.47],\n",
              "       ...,\n",
              "       [153420.47],\n",
              "       [768006.4 ],\n",
              "       [185845.16]], dtype=float32)"
            ]
          },
          "metadata": {},
          "execution_count": 81
        }
      ]
    },
    {
      "cell_type": "code",
      "source": [
        "plt.plot(range(100),test_targets['price'][1050:1150]) #range(len(train_targets))\n",
        "plt.plot(range(100),test_pred[1050:1150])"
      ],
      "metadata": {
        "colab": {
          "base_uri": "https://localhost:8080/",
          "height": 293
        },
        "id": "bPZfjahe_dwx",
        "outputId": "5c52e345-2c86-4c89-ce75-197d696c9d0e"
      },
      "execution_count": null,
      "outputs": [
        {
          "output_type": "execute_result",
          "data": {
            "text/plain": [
              "[<matplotlib.lines.Line2D at 0x7f20e127d090>]"
            ]
          },
          "metadata": {},
          "execution_count": 82
        },
        {
          "output_type": "display_data",
          "data": {
            "text/plain": [
              "<Figure size 432x288 with 1 Axes>"
            ],
            "image/png": "[encoded data removed]"
          },
          "metadata": {
            "needs_background": "light"
          }
        }
      ]
    },
    {
      "cell_type": "code",
      "source": [
        "mae_test = np.abs(test_pred.reshape(5072,) - test_targets['price']).sum()/5072\n",
        "mae_test"
      ],
      "metadata": {
        "colab": {
          "base_uri": "https://localhost:8080/"
        },
        "id": "RtaEZxJY6G_D",
        "outputId": "5279fdea-3887-490a-919d-3764c5ac2ae4"
      },
      "execution_count": null,
      "outputs": [
        {
          "output_type": "execute_result",
          "data": {
            "text/plain": [
              "176221.85974275126"
            ]
          },
          "metadata": {},
          "execution_count": 73
        }
      ]
    },
    {
      "cell_type": "code",
      "source": [
        "# MUCHO CUIDADO AL CORRER ESTA CELDA\n",
        "#model_1.save('/content/drive/MyDrive/Curso-WorkingAnalyst/semana10/model_1')"
      ],
      "metadata": {
        "colab": {
          "base_uri": "https://localhost:8080/"
        },
        "id": "u4ylp5qDSpkS",
        "outputId": "7ef5715e-986e-4aea-b9fc-8d243fff1b71"
      },
      "execution_count": null,
      "outputs": [
        {
          "output_type": "stream",
          "name": "stderr",
          "text": [
            "WARNING:absl:Function `_wrapped_model` contains input name(s) Input_img with unsupported characters which will be renamed to input_img in the SavedModel.\n"
          ]
        },
        {
          "output_type": "stream",
          "name": "stdout",
          "text": [
            "INFO:tensorflow:Assets written to: /content/drive/MyDrive/Curso-WorkingAnalyst/semana10/model_1/assets\n"
          ]
        },
        {
          "output_type": "stream",
          "name": "stderr",
          "text": [
            "INFO:tensorflow:Assets written to: /content/drive/MyDrive/Curso-WorkingAnalyst/semana10/model_1/assets\n"
          ]
        }
      ]
    },
    {
      "cell_type": "markdown",
      "source": [
        "# Análisis\n",
        "\n",
        "- ¿Qué está pasando con el modelo en los datos de train?\n",
        "- ¿Cómo podríamos mejorar las predicciones en los datos de test?\n",
        "- ¿Alrededor de que época creen que no había sobreajuste?"
      ],
      "metadata": {
        "id": "e7ia4tTW6S_P"
      }
    },
    {
      "cell_type": "markdown",
      "source": [
        "# Ejercicio:\n",
        "\n",
        "Entrenar la red y gráficar la pérdida respecto al tiempo (tanto en datos de entrnamiento como datos de validación)"
      ],
      "metadata": {
        "id": "9kJ6Yy5S6xzs"
      }
    }
  ]
}